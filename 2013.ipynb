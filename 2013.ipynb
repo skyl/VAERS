{
 "metadata": {
  "name": "",
  "signature": "sha256:286ee3e4c7345e019518a0c6c9cd4fbaaae779fac1ea043df41c5fc63947f92c"
 },
 "nbformat": 3,
 "nbformat_minor": 0,
 "worksheets": [
  {
   "cells": [
    {
     "cell_type": "code",
     "collapsed": false,
     "input": [
      "%matplotlib inline\n",
      "import pandas as pd\n",
      "from scipy import stats"
     ],
     "language": "python",
     "metadata": {},
     "outputs": [],
     "prompt_number": 1
    },
    {
     "cell_type": "code",
     "collapsed": false,
     "input": [
      "data = pd.DataFrame.from_csv(\"./data/2013VAERSDATA.csv\", encoding=\"ISO-8859-1\")\n",
      "vax = pd.DataFrame.from_csv(\"./data/2013VAERSVAX.csv\", encoding=\"ISO-8859-1\")\n",
      "symptoms = pd.DataFrame.from_csv(\"./data/2013VAERSSYMPTOMS.csv\", encoding=\"ISO-8859-1\")"
     ],
     "language": "python",
     "metadata": {},
     "outputs": [],
     "prompt_number": 2
    },
    {
     "cell_type": "code",
     "collapsed": false,
     "input": [
      "df = data1_7 = data[(data.AGE_YRS <= 7) & (data.AGE_YRS >= 1)]"
     ],
     "language": "python",
     "metadata": {},
     "outputs": [],
     "prompt_number": 3
    },
    {
     "cell_type": "code",
     "collapsed": false,
     "input": [
      "vaxxers_idx = vax[vax.VAX_TYPE.str.contains(\"MMR\")].index\n",
      "vaxxers = df[df.index.isin(vaxxers_idx)]\n",
      "non_vaxxers = df[~df.index.isin(vaxxers_idx)]"
     ],
     "language": "python",
     "metadata": {},
     "outputs": [],
     "prompt_number": 4
    },
    {
     "cell_type": "code",
     "collapsed": false,
     "input": [
      "s = ( \n",
      "  df.SYMPTOM_TEXT.str.contains(\"autis\", case=False) \n",
      "  | df.SYMPTOM_TEXT.str.contains(\"eye contact\", case=False)\n",
      ")\n",
      "a = len(vaxxers.index.intersection(df[s].index))\n",
      "b = len(vaxxers) - a\n",
      "c = len(non_vaxxers.index.intersection(df[s].index))\n",
      "d = len(non_vaxxers) - c\n",
      "\n",
      "print(a, b, c, d)\n",
      "oddsratio, pvalue = stats.fisher_exact([[a, b], [c, d]])\n",
      "print(oddsratio, pvalue)"
     ],
     "language": "python",
     "metadata": {},
     "outputs": [
      {
       "output_type": "stream",
       "stream": "stdout",
       "text": [
        "15 2009 8 1880\n",
        "1.75460428074 0.215056404058\n"
       ]
      }
     ],
     "prompt_number": 5
    },
    {
     "cell_type": "code",
     "collapsed": false,
     "input": [
      "df[s].SYMPTOM_TEXT.values"
     ],
     "language": "python",
     "metadata": {},
     "outputs": [
      {
       "metadata": {},
       "output_type": "pyout",
       "prompt_number": 8,
       "text": [
        "array([ 'Altered mental status 15-30 seconds seemed \"limp\" not making eye contact.',\n",
        "       'The day after vaccine 4/6/2012, patient was more hyper, less attentive, less affect, less eye contact, and some strange facial expressions. Low temp of 99. All within normal side effects for vaccine assuming they were temporary and self limiting; no concern at this point of reaction. Upon waking, patient was lethargic, irritable, flushed. Temperature reading at 8:00 was 103. Patient had never experienced a fever higher than 102 in his life, or lethargy, despite having several viruses in his young life. Patient was taken to doctor this day, thought to be virus, however the next morning awoke perfectly well. This is when the immune activation is thought to have begun. On 4/29/2012 mild leg pain and fatigue; extremely unusual for patient. This is when the Encephalopathy is thought to have begun.  4/30/2012 Awoke at 5:30 screaming, afraid, nightsweat. Irritable, flushed, lethargic. Similar to previous event with 103.5 fever this time. This time however, he looked, felt, acted, seriously ill. Was unable to eat, would not drink, scared, skin hurt. This is when suspected Encephalomyelitis began. On the way to the doctor\\'s office, his pupils were as large as his iris, shivering, aching knees, leg muscles, breathing was labored. Dr. that he saw observed that he was very ill and did bloodwork for mono, EBV, strep. All turned out to be negative. He woke up \"well\" the next morning. Another episode on 5/2/2012 in which he had headache, small bumpy rash on his ears, arms, and legs, completely lethargic, diarrhea. This is the day that the neurological symptoms became more noticable. For the next 7-10 days, patient loss cognitive abilities, memory loss, muscle pain, sensory sensations, nightmares / possible febrile seizures, hearing, vision changes, urination accidents, loss of coordination, unable to pronounce words, unable to follow directions, unable to express himself the way that he had always been able to so well.',\n",
        "       \"Developed behavioral problems in Sept '12 shortly after beginning daycare for the first time. Behaviors are most suspicion for sensory integration problem, though an autistic spectrum disorder has not been ruled out yet.\",\n",
        "       \"This spontaneous report was received from a physician refers to his 1 year old son. Physician stated that his son was born healthy. Patient had no known allergies. On 17-JUN-2006, the patient was vaccinated with a dose of RECOMBIVAX HB (lot # 650890/0144R, expiry: 31-AUG-2007, dose and route unknown). On 20-JUL-2007, the patient was vaccinated with a dose of MMR II (lot # reported as 01834, expiry: January 2009) and VARIVAX (Merck) (Lot # reported as 07804, expiry: May 2009). Approximately since an unknown date in 2007, the patient demonstrated symptoms within the autistic spectrum between the age of 1-4 years. The symptoms the child displayed include tip-toeing, withdrawn, lack of eye contact and speech delay. Physician states many therapies were used for treatment such as speech therapy, occupational therapy but no prescription medications were used for treatment. The physician states his son does maintain a gluten-free diet. Patient had sought medical attention. electroencephalography (EEG), Magnetic Resonance Imaging (MRI) of head and genetic testing were all negative. Physician states it was unknown what could have caused these symptoms of autism spectrum and questions whether it could be any of three vaccines. The outcome of autism spectrum symptom was reported as recovered completely by 4 years of age (unknown date in 2010). Physician states there is still no known reason for his son's autism spectrum symptoms. Additional information has been requested.\",\n",
        "       'My son suddenly became tired and went to sleep at the park. He developed a 105 fever which lasted 4 days, even when treated every 6-8 hours with Tylenol. He was lethargic and only ate and drank tiny amounts during this time. The advice nurse told me over the phone to put him in a short sleeve onesie and give Tylenol every 6 hours until it broke. Since then, his language regressed, all his milestones have been delayed, he stopped responding to his name and making eye contact for a year. When I saw his doctor 3 months later I was told these are normal side effects and are not worthy of reporting. After over a year, I still feel strongly this was an adverse event that has affected him despite the doctors casual attitude.',\n",
        "       'Autism diagnosis.',\n",
        "       'Staring. No eye contact. Not responding to questions, commands.',\n",
        "       'Stomach problems, wheezing, no eye contact, not talking, flapping of hands.',\n",
        "       'High fever of 104 the day of shot the fever lasted for 4 days then 10-14 days later red bumps from head to toe and a high fever ranging from 102-104, that lasted about a week she was very sick and tired she stopped eating, talking and making eye contact. She soon started shaking her head and flapping her right arm. We had to start her on baby foods again after being on solids for months. She also had regressed by 6 months when testing out at the doctors office. Before the vaccine she had always tested out as 3 months ahead of her age.',\n",
        "       'Son diagnosed with autism by 20 months. Eye contact diminished, speech diminished, neurological issues.',\n",
        "       \"On the day of the vaccinations, my son developed an extremely high fever. Early the next morning (03/30/12 at approximately 7:00am), he was rushed to the hospital because of febrile seizures. Prior to the vaccinations on that day, my son was developing normally and speaking several words. After that time, he was no longer speaking. By age 2, I noticed his language still wasn't developing. I took him to his doctor and was referred to a program for speech therapy. After several evaluations, it has been determined that my son is on the spectrum for Autism. We have just begun the evaluation process. He is still non-verbal and has many red flags.\",\n",
        "       'High fever, immediate loss of words, loss of weight, development of sensory issues and immediate loss of eye contact.',\n",
        "       'Loss of eye contact, loss of developed language, loss of social skills gained, diagnosed with Aspergers at age 4. Yearly titer test high for MMR. Currently experiencing neurological deterioration (tremors, increased aggression, balance problems, cognitive changes.  No history of childhood disease.',\n",
        "       \"A report has been received from a Physician concerning a 6 year old male patient. The patient's concurrent diseases included autism and speech and social delays. Patient had history of upper respiratory tract infection with fever 2 weeks previously, which was resolved. Concomitant medications included olopatadine hydrochloride, ibuprofen and paracetamol. On 26-Dec-2012 the patient received nasal FLUMIST. He experienced right sided facial drooping after receiving FLUMIST. He returned to the office, and the physician prescribed a short course of oral steroids. The patient returned to the clinic on 27-Dec-2012 and was diagnosed with Bell's palsy. Event was treated with steroids and Valacyclovir for 7 days. The patient recovered from the event of Bell's palsy on 31-Jan-2013. The company physician assessed the Bell's palsy to be serious with the criteria of important medical event. Summary of insignificant follow-up information received by AstraZeneca/MedImmune on 04-Mar-2013 from other type of reporter via spontaneous source: Updated patient initials. Reporter details updated. Corrected report 11-Mar-2013: Previously reported non-serious event of Bell's palsy as captured as serious event. Reporter details corrected. Summary of follow-up information received by AstraZeneca/MedImmune on 11-Mar-2013 from physician with spontaneous source: Added patient medical history and concomitant medication. Added indication, no. of previous doses, vaccinated at, vaccine purchased with for FLUMIST as well as updated dosing regimen for same. Added physician details. Added administered by details as well as responsible physician as reporter. Added stop date for event as well as updated event outcome to recovered. Updated patient demographics. Updated narrative.\",\n",
        "       'After receiving this vaccination - my son stopped speaking completely. He began showing signs of autism after that and was diagnosed with autism 3 months later. Eyes changed color to full blue from crystal blue. Speaks in full sentences but I refused anti psychotics and anti depressants at 3 years old and was made to look insane because of this.',\n",
        "       'Screaming/crying, raging temper tantrums, no eye contact, all speech lost.',\n",
        "       'Seizure and autistic like behavior next day.',\n",
        "       'My son was a healthy happy twin who met all his milestones early or on time. After receiving the HEP A, DTaP, Influenza, MMR, Varicella, and Pneumococcal vaccines at his 12 month well baby visit my son soon became ill with a fever and rash all over his body. With in the next few weeks he lost all of his speech, lost eye contact and my happy and outgoing baby became reverted and wanted to be by himself. By 18 months my son was diagnosed with autism, speech delay, and sensory processing disorder. With in months after this adverse reaction he also started getting food allergies. He is allergic to wheat, peanuts, has asthma, eczema and has gastric intestional problems along with sleeping disorders.  My son has received ABA, ST, and OT therapies.',\n",
        "       'Measles rash on face, stomach and back; extreme fussiness; developed hives 8 days after measles rash began; diagnosed with autism 9 months after hives began; 1.5 years after vaccine, still has chronic autoimmune hives.',\n",
        "       'Fever, stopped eating, loss of weight, tantrums, loss of eye contact.',\n",
        "       'Autism.',\n",
        "       \"Child's guardian (grandfather) called stating child had 2 seizures and a fever of 101.7, since having flu shot yesterday (12-10-13). Tylenol brought fever down to 100.4. Grandfather stated child has history of Cerebral Palsy, Autism, and Seizures (last known seizure 2 yrs ago).\",\n",
        "       \"My child's entire personality changed.  She became upset with routine change, she began waking up in the middle of the night complaining that her ears hurt (while she still had language), she hardly slept anymore, she began to look depressed. She didn't recognize anyone (not even her own mother), she didn't talk anymore, she began banging things together like a child of a few months old.  She had no eye contact left, no happiness, did not want to eat any food or drink, she became clumsy, walked on her toes, began spinning, grinding her teeth.  She no longer had interest in people, toys, going outside. There was nothing left of who she was for the last two years.  This was a child who previously spoke in full sentences and had a very large vocabulary.  She used to wake up in the morning look for me and tell me she loved me.  Then she did not know who I was or that I even existed anymore.  She became so hyper, unfocused and then would want to just stay in her room.\"], dtype=object)"
       ]
      }
     ],
     "prompt_number": 8
    },
    {
     "cell_type": "code",
     "collapsed": false,
     "input": [],
     "language": "python",
     "metadata": {},
     "outputs": []
    }
   ],
   "metadata": {}
  }
 ]
}