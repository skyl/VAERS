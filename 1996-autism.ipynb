{
 "metadata": {
  "name": "",
  "signature": "sha256:ccb0c1215fee722894b0ce0d127e9e50ef5ea949c5724ec1f2b797d0aa098c94"
 },
 "nbformat": 3,
 "nbformat_minor": 0,
 "worksheets": [
  {
   "cells": [
    {
     "cell_type": "code",
     "collapsed": false,
     "input": [
      "import pandas as pd\n",
      "\n",
      "data = pd.DataFrame.from_csv(\"./data/1996VAERSDATA.csv\")\n",
      "vax = pd.DataFrame.from_csv(\"./data/1996VAERSVAX.csv\")\n",
      "symptoms = pd.DataFrame.from_csv(\"./data/1996VAERSSYMPTOMS.csv\")"
     ],
     "language": "python",
     "metadata": {},
     "outputs": [],
     "prompt_number": 20
    },
    {
     "cell_type": "code",
     "collapsed": false,
     "input": [
      "df = data.dropna(subset=[\"SYMPTOM_TEXT\"])"
     ],
     "language": "python",
     "metadata": {},
     "outputs": [],
     "prompt_number": 21
    },
    {
     "cell_type": "code",
     "collapsed": false,
     "input": [
      "vaxxers_idx = vax[vax.VAX_TYPE.str.contains(\"MMR\")].index\n",
      "vaxxers = data[data.index.isin(vaxxers_idx)]\n",
      "non_vaxxers = data[~data.index.isin(vaxxers_idx)]"
     ],
     "language": "python",
     "metadata": {},
     "outputs": [],
     "prompt_number": 22
    },
    {
     "cell_type": "code",
     "collapsed": false,
     "input": [
      "s = ( \n",
      "  df.SYMPTOM_TEXT.str.contains(\"autis\", case=False) \n",
      "  #| df.SYMPTOM_TEXT.str.contains(\"speech\", case=False)\n",
      "  | df.SYMPTOM_TEXT.str.contains(\"eye contact\", case=False)\n",
      ")\n",
      "a = len(v1_7.index.intersection(df[s].index))\n",
      "b = len(v1_7) - a\n",
      "c = len(nv1_7.index.intersection(df[s].index))\n",
      "d = len(nv1_7) - c\n",
      "\n",
      "print(a, b, c, d)\n",
      "oddsratio, pvalue = stats.fisher_exact([[a, b], [c, d]])\n",
      "print(oddsratio, pvalue)"
     ],
     "language": "python",
     "metadata": {},
     "outputs": [
      {
       "output_type": "stream",
       "stream": "stdout",
       "text": [
        "6 1135 2 1390\n",
        "3.67400881057 0.151108555836\n"
       ]
      }
     ],
     "prompt_number": 23
    },
    {
     "cell_type": "code",
     "collapsed": false,
     "input": [],
     "language": "python",
     "metadata": {},
     "outputs": []
    }
   ],
   "metadata": {}
  }
 ]
}