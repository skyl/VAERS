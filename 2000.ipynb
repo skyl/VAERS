{
 "metadata": {
  "name": "",
  "signature": "sha256:1a7d80580487c17ba73bd42d5d370ac4329ce7825f8ae884725d55d3e5b82bea"
 },
 "nbformat": 3,
 "nbformat_minor": 0,
 "worksheets": [
  {
   "cells": [
    {
     "cell_type": "code",
     "collapsed": false,
     "input": [
      "%matplotlib inline\n",
      "import pandas as pd\n",
      "from scipy import stats"
     ],
     "language": "python",
     "metadata": {},
     "outputs": [],
     "prompt_number": 46
    },
    {
     "cell_type": "code",
     "collapsed": false,
     "input": [
      "data = pd.DataFrame.from_csv(\"./data/2000VAERSDATA.csv\", encoding=\"ISO-8859-1\")\n",
      "vax = pd.DataFrame.from_csv(\"./data/2000VAERSVAX.csv\", encoding=\"ISO-8859-1\")\n",
      "symptoms = pd.DataFrame.from_csv(\"./data/2000VAERSSYMPTOMS.csv\", encoding=\"ISO-8859-1\")"
     ],
     "language": "python",
     "metadata": {},
     "outputs": [],
     "prompt_number": 47
    },
    {
     "cell_type": "code",
     "collapsed": false,
     "input": [
      "df = data1_7 = data[(data.AGE_YRS < 7) & (data.AGE_YRS >= 1)]"
     ],
     "language": "python",
     "metadata": {},
     "outputs": [],
     "prompt_number": 48
    },
    {
     "cell_type": "code",
     "collapsed": false,
     "input": [
      "vaxxers_idx = vax[vax.VAX_TYPE.str.contains(\"MMR\")].index\n",
      "vaxxers = df[df.index.isin(vaxxers_idx)]\n",
      "non_vaxxers = df[~df.index.isin(vaxxers_idx)]"
     ],
     "language": "python",
     "metadata": {},
     "outputs": [],
     "prompt_number": 49
    },
    {
     "cell_type": "code",
     "collapsed": false,
     "input": [
      "s = ( \n",
      "  df.SYMPTOM_TEXT.str.contains(\"autis\", case=False) \n",
      "  | df.SYMPTOM_TEXT.str.contains(\"eye contact\", case=False)\n",
      ")\n",
      "a = len(vaxxers.index.intersection(df[s].index))\n",
      "b = len(vaxxers) - a\n",
      "c = len(non_vaxxers.index.intersection(df[s].index))\n",
      "d = len(non_vaxxers) - c\n",
      "\n",
      "print(a, b, c, d)\n",
      "oddsratio, pvalue = stats.fisher_exact([[a, b], [c, d]])\n",
      "print(oddsratio, pvalue)"
     ],
     "language": "python",
     "metadata": {},
     "outputs": [
      {
       "output_type": "stream",
       "stream": "stdout",
       "text": [
        "46 1661 11 2466\n",
        "6.20852717421 7.20754891924e-10\n"
       ]
      }
     ],
     "prompt_number": 50
    },
    {
     "cell_type": "code",
     "collapsed": false,
     "input": [
      "df[s].SYMPTOM_TEXT.values"
     ],
     "language": "python",
     "metadata": {},
     "outputs": [
      {
       "metadata": {},
       "output_type": "pyout",
       "prompt_number": 51,
       "text": [
        "array([ 'Pt became very ill immediately following vax.Fever,irritability, fatigue,disorientation,& diarrhea.After 4/22/97,pt dvlped severe gastro. sx w/ bouts of diarrhea & constipation; also pt never used language again.Dxed w/ autism in 1998.',\n",
        "       'Within wks after vax,pt dvlped signs of autism:loss of speech,eye contact,ability to respond or point.Normal dvlpment stopped & regressed.Within days he dvlped asthma(wheezing,coughing,diff. breathing).He was rxed albuterol & cromolyn;Annual follow-up states the pt has neurological impairment, sensory integration dysfunction, speech delay,intestinal and digestive impairment and the inability to digest foods.',\n",
        "       '10 days post vax, red bumps-face. Fever of 104.9. By evening entire body covered w/ red bumps. Dxed with measles at after-hrs clinic. Behavior chged, mastered skills lost, not responding to name, learning capabiities ceased, no eye contact.  60 day follow up dated 10/10/00 states that the child has autism and it has no cure. She has \"metal retardation\" and it is stated that it is a direct result of the MMR.',\n",
        "       'Boils on arm, rash on face and neck, petit-mal seizure, loss of speech and development skill, autistic.',\n",
        "       'The pt experienced a fever, knot at the injection site for an extended period, fussiness, irritable, loss of skills, language, comprehension etc. 60 day follow-up dated 7/10/00 provided a corrected age. Annual follow-up states the pt has metabolic disturbances, mitochondrial problems, GI issues, PDD. Pt is now a 3 year, 9 month old child with a diagnosis of Autism Spectrum Disorder/Pervasive Developmental Disorder. Pt has been referred for a neurological consultation by his pediatrician. Pt was seen previously for a neurologial examination in June of 1998. He returns today to review his developemental and neurological status, to examine his educational and therapeutic interventions and to determine whether any adjustments or amendments need to be made in his overall program plan. Pt was accompanied to this assessment by his parents who provided much of the background information. Currently, pt has now gotton some words and is trying to imitate sounds made by others. His parents are pleased that he is now making more of an effort, whereas before he simply became frustrated. Words which he tends to use with some reasonable consistency include mam, go, bye, and dada. He has also learned to shake his head yes or no appropriately and is developing the use of the \"H\" constanant sounds. He currently recognizes 19 letters, all of his shapes and colors and he is currently working on generalization and can point to shapes in a book. Play skills have like wise improved as has eye contact. He has a tendency to become fixated on the same four viseo tapes but rarely asks for television. He ossupies himself with toys and can play alone for more than an hour. SOme perserverate behavior and play behavior however, can be exhibited. In terms of dressing skills, pt is now able to take off his shoes and socks and is otherwise able to help with dressing. However, he requires a good deal of repetition. From the health perspective, pt has been in good health and there has been no major medical issues. However, he continues to have eczem',\n",
        "       'At 16 months of age the pt received MMR, within 12 days, the pt was noted to have excessive drooling, fever, loss of balance, loss of speech, autistic behaviors, most have subsided but left with mild neuro deficit and a severe oral apraxia, and speech disorder.',\n",
        "       'Information has been received from a consumer concerning a 7-year son who was vaccinated on 7/21/95, at 30 months of age, with one dose of MMR. He also received Tetanus toxoid adsorbed, Purogenated in 1994 at approximately 18 months of age. Subsequently the pt developed a fever of approximately 105 degrees F, autism and lost his speech abilities. The pt also developed gastrointestinal problems. The pt was reported to be doing much better now. The pt did not receive additional boosters of the MMR vaccine. The pt\\'s autism was determined to be an \"other medical event: Additional information has been requested.',\n",
        "       'Post vax, noticed autistic behaviors, irritable, fever, loss of balance and loss of speech. Most resolved but left with neuro and severe oral apraxia, also excessive drooling.',\n",
        "       'Child became autistic. 60 day follow-up dated 9/22/00 provided no additional data.',\n",
        "       'My son was dx\\'d with Autism (after his MMR vaccination on 7/30/1998). He was 15 months old. He does not talk and he is 3 years old. He has violent tempers, eats inedible items. Follow up 10/18/2000: \"Not known exact date/time.  Soon after the MMR vaccination.\"',\n",
        "       'He became less responsive, lost speech, lost eye contact. Was diagnosed with autistic spectrum disorder.',\n",
        "       'Pt lost eye contact, he appeared to have lost his hearing. He began to walk in circles bucking his head up and down making strange noises. He discontinued his \"babbling\" and he started hitting himself in the head, banging his head on the floor or wall and flapping his hands.60 day follow-up dated 11/01/00 provided no additional data.',\n",
        "       \"Autism. Subsequent to vax, pt was dx with autism. Upon the medical review the pt's autism was considered an other medical event. Additional information has been requested.\",\n",
        "       \"Six to 8 weeks post vax, loss of speech, loss of eye contact, self injurious behavior, social withdrawal. Child was dx with developmental delay in 12/96 and Autism in 7/98. He continues to be severely delayed in all areas of development which he not before the DTaP vax on 5/96.  Follow-up: 7/27/00 Call to mom to clarify what role each of the 5 HCP's had in her son's eval. and tx for Autism. She has and will Fax to me the dgx of Autism from Dr - ped neuro. 7/28/00 Rec'd Fax'd copy of 7/8/98 eval. of pt. by MD. which confirms dgx of Autism - mod to severe. Awaiting current ped. record and then will close case. 8/16/00 Records rec'd from ped. develop. and behavioral MD. Autistic spectrum diagnosis w/ recent deterioration re: self deterioration behavior.\",\n",
        "       'Post vax, she developed a fever and extreme soreness at the vax site. Beginning on the day she received the MMR vax, she lost cognitive skills. She was speaking about 7 words; they were all lost. She stopped trying to interact with people. She now displays many autistic symptoms. Treated with gluten and dairy free diet and as of one month ago. It will not cause her to recover, only to improve.',\n",
        "       \"High pitch screaming, fever, diarrhea for over a month, personality change. Later seizures. Child developed beautifully his first year of life. All expected milestones were on time or sooner than anticipated. He was talking at 10 months of age. He mimicked parents, loved socializing and interaction with other toddlers. He seemed on the same track as siblings. MMR was received immediately following his 1st birthday. He was given his 4th DPT on a sick child visit at age 15 months while ill. Post vax, he became sick with diarrhea and general ill health for a couple months afterwards. He later developed seizures which is believed to be a direct result of the vaccines. The so-called health center that administered these vaccinations, never explained risks, and didn't practice good vaccine safety measures.  Child is now considered autistic. He doesn't experience the once in a life time magic of childhood. He cannot speak. He no longer plays with children. Various tests including blood work have been conducted to rule out genetic link. He has levels of toxins in his body due to the vax ingredients.\",\n",
        "       \"Information has been received from a foreign legal firm concerning a currently 9 year old male. In 1991 at the age of 1 year old, it was noted that immediately before the pt received the vax, the pts mother asked the MD to check her son as he had a chest infection. Subsequently post vax, the pt developed severe developmental, social, and communicative delays consistent with autism. The day following the vax, the pt became hot, irritable, and flushed. While feeding, the pt put his hands to the side of his head and emitted a high pitched scream. He convulsed, his eyes rolled upwards and he made a choking noise. The pt's eyes were starring vacantly and he was limp and drowsy. A rash appeared on his face. He became sleepy and lifeless. He was unresponsive, stopped smiling and laughing. For approximately 2-3 weeks post vax, the pt had consistently high temperatures. Within one year, the pt's social skills and interaction stopped completely. By two years, the pt had developed behavioral problems. By three years, the pt had become obsessional. By four years, the pt's behavior had deteriorated even further. The pt would urinate in the street and displayed inappropriate behavior towards strangers, not knowing that these actions were wrong.\",\n",
        "       'Information has been received from a RN concerning a male child who was vaccinated with MMR. Subsequently the pt sought unspecified medical attention and was diagnosed with autism. Upon internal review, autism was considered to be an other medical event.',\n",
        "       \"The pt's mother stated that the child had been given the vaccinations according to the recommended schedule. At an unknown date, the pt developed autism. The pt sought unspecified medical attention. Upon medical review, the pt's autism was considered an\",\n",
        "       \"Information has been received from a health care professional concerning a 5 year old male who was vaccinated with MMR, subsequently the pt developed autism. The pt sought unspecified medical attention. Upon medical review, the pt's experience was considered an other medical event.\",\n",
        "       'The pt developed possible autism, communication delay (Severe), and occupational and speech therapy. The pt had a diet change and was on vitamin therapy.',\n",
        "       'The morning following vax, he had a large (2-3\") hot red circle at injection site. The pt also experienced a fever of 101-102 followed by a seizure. He was taken to a nearby pediatricians office. He had another seizure since and now has autism. The annual follow-up states seizure disorder and autism.',\n",
        "       \"Post vax, the pt developed autism. The pt sought unspecified medical treatment. On 9/23/98, the pt was vaccinated with a booster shot of MMR. Upon medical review, the pt's experience was considered an\",\n",
        "       'Pt had great social skills and imitation skills until he received the MMR vaccination. He then became withdrawn, wanted to play by himself, lacked imitation skills and did non acquire language. 60 Day FU states he is now autistic.',\n",
        "       'Pt developed a fever of 104.9 and a seizure. He was admitted to the hospital. The patient has gastrointestinal problems, major food and environmental allergies and diagnois of autism.',\n",
        "       \"Autism. A mother reported that her 19-month-old son received an injection of Acel-Imune. At 2 years of age he began to 'regress' in the way he walked; 'walking with legs wide open as if he was just starting to walk.' The mother also stated that the child began to 'lose focus,' slept poorly, was very 'hyper,' and talked  'nonsense.' At 3 years of age, a diagnosis of autism was made. The mother attributed these events to the vaxs he received since 2 months of age. The mother reported that her son was found to have an unspecified immune deficiency shortly after birth. He was 'very sickly' when he was immunized during 1992 and 1993. A copy of this report has been forwarded to Merck, manufacturer of MMR vax.\",\n",
        "       'Post vax, the pt developed redness and swelling at injection site. The child cried most of the day after injection. He had a fever of 102.9; by that evening-after multiple doses of Tylenol; he was weak and not as responsive as his norm. Pt recovered from acute reaction but has seizure disorder and autism.',\n",
        "       'Autism, developmental delay beginning after the vaccine. Follow-up dated 9/6/00 provided no additional data. 60 day follow up dated 10/30/00 provided no additional data. The annual follow-up states autism; developmental delay. A follow up report received 8/3/2000 adds: Spoke to mother of pt. Child displayed unusual behavior - unresponsive, started talking at one year, then stopped 4/95, does not play. Mother said that later vaccines may have contributed to problem - now in therapy.',\n",
        "       'On 1/2/00, the pt was dx with autism by his preschool psychologist. The pt sought unspecified medical attention.',\n",
        "       \"Four days, after the MMR & Chicken pox shot, pt lost all words, did not understand, was in his own world, starting shaking his head back and forth. Dx'd with Autistic Spectrum disorder.\",\n",
        "       'Cumulative thimerosol, resulting in mercury induced developmental delay. Chelation therapy DMSA 100mg X 3. The annual follow-up states that the pt is still exhibiting autistic like behaviors and is nerologically damaged. He is still non-verbal and still is developmentally delayed.',\n",
        "       'Approximately 2 days post vax, this pt cried hysterically for approximately 2 days. He was seen by doctors who said he \"was fine.\" The reporter stated that he \"was not fine because he was losing his balance a lot and banging his head on the floor. They examined him and said he was fine. As the weeks continued all these behaviors continued.\" The reporter stated that she took him to a neurologist who dxed him as PDD/Autism. The neurologist suggested that the pt be put in a program for these types of conditions. The reporter stated \"my son was fine before he took this vax.\" She also reported that the pt was seen by an allergist who did a blood test and the \"MMR came out with a positive reaction.\" The reporter stated, \"My son is allergic to the vax\" and the allergist confirmed that he is allergic to MMR.\" The reporter also stated that the doctor gave her a letter stating that her son should not received the vax again. \"He is improving with the program. He still loses his balance but it was worse before, his speech is okay and his hearing is fine.\" The reporter consulted another physician and told that the child would always have PPD/Autism. The reporter wanted \"people to know that the vax could cause this.\" She also stated that her son cried hysterically for 4-6 months and could not stop. Upon medical review this is considered to be an \"other medical event.\" FU indicates diagnosis to be autism.',\n",
        "       'Loss of language, social skills, unusual and repetitive play, \"autistic-like behaviors, all within 30 days of vaccine.  Follow up 10/19/2000: \"The following is a summary of our evaluation and recommendations.  The evaluation included a speech and language evaluation, psychological evaluation, and physical examination.  A full report will follow in 4-6 weeks.  The patient is a 33 month old male who has a history of speech delays.  He has had a hearing evaluationi which was normal.  According to his mother, he is receiving one hour of speech therapy per week, half hour of physical therapy per week, one hour of developmental time individually per week and one and a half hours of group developmental work per week.  The patient is a very impulsive child both history and evaluation.  He has poor limits and barriers.  He often puts himself and others at risk with his behavior.  He has minimal interactions with others.  He seeks out very tactile stimuli and responds well to deep pressure.  He has many perseverative behaviors and is very poor with transitions.  He does responds to men and male voices more positively.  The patient had a normal physical examination.  He showed strong gross motor skills as well as fine motor skills.  The patient had severe communication difficulties.  He has approximately 10 words, signs or gestures he uses to communicate.  He is jargonning but it is not being used for communication.  He responds better to language with in routines.  He also responds to changes in intonation.  He showed a cognitive level at 14 months by the Bailey evaluation.  He does have a scatter of skills to 24 months.  He is very self-directed and active.  He was able to transition with the use of crayons.  He was very impulsive and indiscriminate with his interactions with strangers.  Overall based on our evaluation, the patient has global developmental delays.  In addition, he is autistic.  He is a high risk child because of his poor ability to act in a safe manner.  The primary concern of this team is ensuring that t',\n",
        "       'Child was small for gestational age and had delayed psychomotor development from the beginning. Dxed with autism.',\n",
        "       'Post vax, the pt developed autistic features. Treated with early childhood intervention, speech therapy, sensory therapy.',\n",
        "       'Within 48 hours post vax, the pt began to lose eye contact with parents, and also lost the 6-10 words he had begun to say. Regression followed. He was dx with metabolic disorder, autism spectrum disorder, and apraxia of speech.',\n",
        "       'Within 2 weeks, post vax, noticed pt not responsive to his name anymore. Lost all eye contact and seemed in a \"fog\", started excessive toe walking. Lost all acquired words, started holding stomach and continually crying. Looked like he was in pain. Chronic diarrhea started. Autism was dx\\'d after many series of tests. History of present liiness: Pt is a 23 month old little boy who s being seen for his initial evaluation through the clinic because of concerns about development. Parents report that they felt that pt\\'s development was okay up until he was apprx. 15 months old. They report that at 14 to 15 months, pt was saying a few words such as, mama, dada, ball, and oh oh. He was interactive and would play patty cake. At about 15 months of age, they noticed that he seemed to lose words, stopped talking, and did not babble as much. He became less responsive to his name and would not come when called. He started toe walking and jumping alot. His eye contact decreased and he seemed less socially interactive. He was no longer very interested in people. He also became less interested in toys. Parents noticed that he was doing more blank staring. He quit imitating things. This past February, pt was seen by MD for a neurology evaluation. He had an abnormal EEG, although apparently it did not suggeste a clear cut seizure disorder. MD suggested, but parents opted not to start pt on medication right away. They report that pt is scheduled to have a repeat EEG next month. Pt also has a history of chronic diarrhea. MD ordered in abdominal x-ray and diagnosed constipation. He explained to parents that he felt the loose stool was actually leaking around compacted stool. He suggested they try giving pt Milk of Magnesia, mineral oil, or enemas. Parents report that pt has a long history of having watery stools. They report that the last few days, pt\\'a stools have been more formed, although they are not sure why. The parents have also pursued other treatments for pt. They had lab work done, which apparently indicated a number of abn',\n",
        "       'Mother is very concerned that child has developed autism since the last vaccinations, given on 9/12/2000. She said that on 9/22/00 her husband thought the child was in a world of her own. She started crawling backwards and also starting to rub her head against people. On 9/18/00, I had already noticed she was very mopey. Not interested in playing, she seemed to be running a slight fever, has stopped talking and chattering. She doesn\\'t want to eat. I asked her to say \"up\" when she put her arms up and she looked confused and walked away. On 9/19, still drinking her morning bottle, waking up cranky instead of happy. She zones out but I can say her name and touch her face and get nothing but a blank stare. On 9/20/00, I called the MD to see if they thought her behavior could be related to her shots. She points and says \"kick\" to everything. She wants to pet the black and white stuffed dog, doesn\\'t dance to music or spin in circles and won\\'t engage in game with her sister as she used to do. She won\\'t take her chewable vitamins which she used to come running for and she also has puffiness under her eyes. Instead of talking, she points and says \"uh uh\" frustratedly. She still has a fever, very attached to her blanket. She wanted on my lap then off, then on, etc., still crying. This is very unusual behavior for her. After her doctors visit on 9/22/00, I gave her 1st dose of CLO-1 teaspoon. She doesn\\'t run like she used to and still unsteady and she is not as fast. I noticed that around 17:00 or 18:00 she is more herself. I noticed a rash on her back, at the waistline and then making a triangular shape on her buttock. I called her MD and described it and she said it sounded like yeast. Rash, red, definite edges, raised and swollen area and feverish. Took to the doctor on 9/21/00 and told to give Motrin. Nose was congested, dark circles her eyes and several teeth coming in and felt the glands in her neck and said her eyes looked fine. She rubs her head and sometimes bangs her forehead on our coffee table or doors or walls.',\n",
        "       'Post vax, the pt became withdrawn and no longer interacted with other children. He was dx with autism.',\n",
        "       'No text provided. Doc 204225 received on 11/27/2001 states the following: No speech, sleeplessness, poor eye contact, poor diet, sensory modulation deficits, fine motor delay, tactile sensitivities, constipation, must be assisted with all self care areas, anxiety. The majority of symptoms were immediately following the vaccinations.',\n",
        "       'Approximately 3 months post vax, the pt developed a lack of speech and acting almost deaf. The pt has autistic enterocolitis, ileal lymphoid nodular hyperplasia and lymphocitic colitis. Ileum biopsy assessment indicated measles presence. He developed gross fat malabsorption, loose yellow stool / diarrhea, motility abnormalities, additional maldigestion (probably pancreatic insufficiency) high levels of yeast and fungus and bloating. He is a \"non-responder\" to three of his vaccinations, hep B, mumps and chicken pox. It is suspected that sub clinical seizure activity keeps \"erasing\" language as the pt acquires it. It is also suspected that the inflammation process described above involves the brain (encephalopathy) because he simultaneously has developmental regression, increased disorientation and self-stimulation, etc. Recently he has begun to roll his eyes up as high as possible while looking directly at a bright light and repeatedly flicking the switch on and off rapidly. We suspect an escalation of the epileptiform activity. He meets at least 44 mercury poisoning criteria.',\n",
        "       \"Loss of speech, eye contact and onset of repetitive movement over a 3 month period. Child evaluation center dx'd as autistic. Followup information received child also suffered gastrointestinal symptoms in April.\",\n",
        "       'Pt received MMR and PPD on 5/15/99. Her mother reported onset of symptoms about 3 weeks later. Her head was floppy, bobbing her head on her shoulder, decreased eye contact and squirming. She has been evaluated by a neurologist and dx is \"encephalopathy\" and autism.',\n",
        "       \"Pt had been toilet trained, refused to use toilet, couldn't tolerate noises, had stiffening when approached, fists clenched all at 1 month, post vax. First symptoms were fever of up to 105F X 24 hours (axillary), vomiting and diarrhea. Also, at about 1 month, post vax, child would not leave the house, had screaming tantrums. Lost her words, had ringworms and fungal infection at 21 months. Was evaluated in Atlanta by developmental pediatricians in 8/98 and dx'd with autism/PDD.\",\n",
        "       'Information has been received from a lawyer concerning an approx. 2 year old male who on 5/5/92 was vaccinated with MMRII and subsequently, experienced autism, autistic spectrum disorder, severe communication disorder, hyperactivity, sleep disturbance, grand mal convulsion, severe speech deterioration and lack of sense of danger. He presented with delayed speech at the age of 3 years and 3 months. The pt\\'s developmental milestones were slightly delayed. He said his first words at 7 months but did not say any more words until he was 2 1/2 years old. He had 1 hospitalization for a possible convulsion. On exam, he was a healthy male with very poor eye contact, cardiovascular, respiratory and abdominal exams were all normal, both testes were palpable in the scrotum but small. Central nervous system exam revealed generalized hypotonia but reflexes were all present and plantars were flexor. On 12/18/98 he was examined by a pediatrician who said he had major problems with going to sleep and staying asleep. He had to sleep in his mother\\'s bed. He had problems staying in his seat when his mother was taking him in the car and he had some temper tantrums at school. He continued to have problems with receptive language. The diagnoses were autistic spectrum disorder and developmental delay. The autism, aphasia, cognitive disturbance, developmental delay, grand mal convulsion, and speech disorder were considered \"significant medical events\". At the time of the report, the pt had not recovered from autism and possible autistic spectrum disorder and primary language disorder. Follow-up information indicated that on the day of vaccination 05/05/1992, the pt developed a temperature and during the month of May 1992 he had a loss of awareness, was distant and \"stopped responding.\" In June 1992, the pt developed \"sticky eyes\" and conjunctivitis and in July 1992, he developed head banging and \"spots with capillary flare on his right wrist, left forearm and on the face. In October 1992, the pt had a cold which lasted for 3 weeks. In No',\n",
        "       'Post vax, the child arched back when picked-up. Stopped talking, no eye contact. Seemed depressed. Stopped playing and imitating. Became very finicky eater. Dx with autism.',\n",
        "       '3-6 months post vax, the pt lost speech and eye contact. He also developed stimming behaviors (spinning, repetitive actions, etc). He also developed gastrointestinal symptoms and became intolerant of gluten and casein containing foods. He was a completely normal child prior to this IZ. He was dx with PDD under DSM III R on 9/1/87.',\n",
        "       \"My son received his MMR shot at 1 year old and shortly after, began showing autistic behavior. He was completely normal before this. Sat up at 4 1/2 months, walked at 9 months and started talking at 10 or 11 months. After he received this IZ, this started to disappear. He is now autistic and I know he would not be without the MMR vaccine. The presence of mercury, aluminum and formaldyhide are in this vaccine. They are at toxic levels. Please take this off the market and make other kids safe from this happening again. Every symptom for mercury poisoning is a symptom for autism. I am utterly shocked that this relationship has been overlooked for so long. He now has food intolerances, allergies and digestive problems, visual disturbances, sensory problems and the list is endless. No formal diagnosis to be made until child's 3rd birthday, now in speech, physical and occupational therapies, went through psychological testing.\",\n",
        "       'Post vax, the pt lost all skills he had developed. Stopped using words, eating what he was eating or using the potty. He was not given any treatment and he was dx with autism.',\n",
        "       \"The pt's parent states that child had too many vaccination upon her birth, which greatly compromised her immune system. She started having head tremor at age of 5 to 6 months of age which caused her regression. She developed severe developmental delays plus seizure disorder and autism. 60 day follow-up states the pt is non-verbal and badly constipated.\",\n",
        "       'High fever of 106F. Took to ER and was put on ice to bring temperature down. Stopped talking and walking. Did not resume walking. 4 months later, had \"2 words\" vocabulary; then went to none. Dx\\'d as PDD/Autism about 4 years ago. Follow up on 01/16/2001: \"No doctor ever gave Lot #\\'s on any vaccines.  We have moved to Indiana from Michigan.\"',\n",
        "       'Information has been received from the father of a 15 month old male who was vaccinated with MMR II and immediately, post vax, the pt experienced signs of autism. Upon internal review, autism was considered an \"Important Medical Event\". No further information is available.  Follow up on 03/28/2001: \"Patient date of birth, adverse onset date and time, Lot # for vaccine 1 and vaccine administration date/time is not provided.\"',\n",
        "       \"Pt was developing normally, still speaking at 20 months. By 24 months, was not speaking at all. Has been dx'd as autistic.\",\n",
        "       'Information has been received from a pt\\'s mother concerning a 4 year old male who in 1997 at 16 months of age was vaccinated with MMR II. After the shot, the pt was hospitalized for fever and dx\\'d with autism. The pt was dx\\'d as autistic at 22 months. Upon internal review, autism was determined to be an \"Other Medical Event\" (OMIC). Additional information has been requested.',\n",
        "       'Language regression, despondency, development of repetitive and somewhat gradual, self-stimulatory behaviors, culminating with a dx of autism (9/1999). Development arrest and deficiencies in all domains (cognitive, social, adaptive, communication and motor).',\n",
        "       'High temperature of 103F, lethargic, no eating, no ability to comfort, crying excessively, diarrhea and vomiting. Called doctor and they said normal due to vaccine reaction. One week later, BOM/URI which lasted 30 days (possible trigger for autistic regression. 60 day follow up states the pt has irritable bowel syndrome, autism and numerous food allergies.',\n",
        "       \"Induced autism and chronic diarrhea. My son received his routine vaccinations on 2/17/99 and had displayed a normal childhood development, including language skills, social skills and other pertinent childhood landmarks. A few days prior to vaccinations, he was showing some UR symptoms including sneezing and nasal discharge. About 12 days, post vax, he became lethargic and depressed. He became anorexic and also began having diarrhea. He was running a low-grade fever, so we began standard dosing of ibuprofen and Tylenol, which seemed to control the fever. However, around day 13, his symptoms became worse and the OTC meds were not controlling the fever. Unfortunately, at the time, we were en route to Florida via airline, so we did not have much choice but to wait until our arrival there to seek medical attention. On 3/4/99, at 01:00, we visited an ER where he was examined, found to have a high fever and was assumed that he had a viral infection. We were told to encourage fluid uptake and sent home. Over the next few days, his fever broke, but we noticed that he still seemed in a daze and his diarrhea persisted. As the weeks and months went by, we began to notice major changes in his behavior. He became withdrawn, preferring to play with himself rather than his siblings. He became heavily focused on certain activities and lost his language and eye contact. We began to wonder if he had lost his hearing, but tests proved negative. In the spring of 2000, a neurologist confirmed our fears that he had become autistic. Since then, we have instituted numerous behavior and biological therapies in an effort to help him. We have reviewed tape of him up to the time of his 16 month check-up and they showed a completely normal child. As a parent, we watch these videos with a broken heart, feeling that our child's mental health had been robbed from him. Since the introduction of the MMR vaccine, rates for autism in the USA have increased from 1:10,000 in early 1980's to 1:200 today. We are convinced that our son had a reaction to\"], dtype=object)"
       ]
      }
     ],
     "prompt_number": 51
    },
    {
     "cell_type": "code",
     "collapsed": false,
     "input": [
      "non_vaxxers.AGE_YRS.hist()"
     ],
     "language": "python",
     "metadata": {},
     "outputs": [
      {
       "metadata": {},
       "output_type": "pyout",
       "prompt_number": 52,
       "text": [
        "<matplotlib.axes.AxesSubplot at 0x10abaf2e8>"
       ]
      },
      {
       "metadata": {},
       "output_type": "display_data",
       "png": "[encoded data removed]",
       "text": [
        "<matplotlib.figure.Figure at 0x109d5a438>"
       ]
      }
     ],
     "prompt_number": 52
    },
    {
     "cell_type": "code",
     "collapsed": false,
     "input": [
      "vaxxers.AGE_YRS.hist()"
     ],
     "language": "python",
     "metadata": {},
     "outputs": [
      {
       "metadata": {},
       "output_type": "pyout",
       "prompt_number": 53,
       "text": [
        "<matplotlib.axes.AxesSubplot at 0x10ab4d8d0>"
       ]
      },
      {
       "metadata": {},
       "output_type": "display_data",
       "png": "[encoded data removed]",
       "text": [
        "<matplotlib.figure.Figure at 0x10ab48ef0>"
       ]
      }
     ],
     "prompt_number": 53
    },
    {
     "cell_type": "code",
     "collapsed": false,
     "input": [
      "df[s].AGE_YRS.hist()"
     ],
     "language": "python",
     "metadata": {},
     "outputs": [
      {
       "metadata": {},
       "output_type": "pyout",
       "prompt_number": 54,
       "text": [
        "<matplotlib.axes.AxesSubplot at 0x10f206e10>"
       ]
      },
      {
       "metadata": {},
       "output_type": "display_data",
       "png": "[encoded data removed]",
       "text": [
        "<matplotlib.figure.Figure at 0x1095edd68>"
       ]
      }
     ],
     "prompt_number": 54
    },
    {
     "cell_type": "code",
     "collapsed": false,
     "input": [
      "df[\"MMR\"] = df.index.isin(vaxxers_idx)"
     ],
     "language": "python",
     "metadata": {},
     "outputs": [],
     "prompt_number": 55
    },
    {
     "cell_type": "code",
     "collapsed": false,
     "input": [
      "df.MMR.value_counts()"
     ],
     "language": "python",
     "metadata": {},
     "outputs": [
      {
       "metadata": {},
       "output_type": "pyout",
       "prompt_number": 56,
       "text": [
        "False    2477\n",
        "True     1707\n",
        "dtype: int64"
       ]
      }
     ],
     "prompt_number": 56
    },
    {
     "cell_type": "code",
     "collapsed": false,
     "input": [
      "import statsmodels.api as sm\n",
      "#def fit_line2(x, y):\n",
      "#    \"\"\"Return slope, intercept of best fit line.\"\"\"\n",
      "X = sm.add_constant(df.MMR)\n",
      "model = sm.OLS(df.AGE_YRS, X, missing='drop') # ignores entires where x or y is NaN\n",
      "fit = model.fit()\n",
      "print(fit.params[1], fit.params[0])"
     ],
     "language": "python",
     "metadata": {},
     "outputs": [
      {
       "output_type": "stream",
       "stream": "stdout",
       "text": [
        "-0.158481013017 2.53282196205\n"
       ]
      }
     ],
     "prompt_number": 57
    },
    {
     "cell_type": "code",
     "collapsed": false,
     "input": [
      "print(fit)"
     ],
     "language": "python",
     "metadata": {},
     "outputs": [
      {
       "output_type": "stream",
       "stream": "stdout",
       "text": [
        "<statsmodels.regression.linear_model.RegressionResultsWrapper object at 0x10b357400>\n"
       ]
      }
     ],
     "prompt_number": 58
    },
    {
     "cell_type": "code",
     "collapsed": false,
     "input": [
      "fit.f_pvalue"
     ],
     "language": "python",
     "metadata": {},
     "outputs": [
      {
       "metadata": {},
       "output_type": "pyout",
       "prompt_number": 59,
       "text": [
        "0.0013246558542850293"
       ]
      }
     ],
     "prompt_number": 59
    },
    {
     "cell_type": "code",
     "collapsed": false,
     "input": [
      "fit?"
     ],
     "language": "python",
     "metadata": {},
     "outputs": [],
     "prompt_number": 60
    },
    {
     "cell_type": "code",
     "collapsed": false,
     "input": [
      "inf = fit.get_influence()"
     ],
     "language": "python",
     "metadata": {},
     "outputs": [],
     "prompt_number": 61
    },
    {
     "cell_type": "code",
     "collapsed": false,
     "input": [
      "len(inf.influence)"
     ],
     "language": "python",
     "metadata": {},
     "outputs": [
      {
       "metadata": {},
       "output_type": "pyout",
       "prompt_number": 62,
       "text": [
        "4184"
       ]
      }
     ],
     "prompt_number": 62
    },
    {
     "cell_type": "code",
     "collapsed": false,
     "input": [
      "len(df)"
     ],
     "language": "python",
     "metadata": {},
     "outputs": [
      {
       "metadata": {},
       "output_type": "pyout",
       "prompt_number": 63,
       "text": [
        "4184"
       ]
      }
     ],
     "prompt_number": 63
    },
    {
     "cell_type": "code",
     "collapsed": false,
     "input": [
      "vaxxers.AGE_YRS.mean()"
     ],
     "language": "python",
     "metadata": {},
     "outputs": [
      {
       "metadata": {},
       "output_type": "pyout",
       "prompt_number": 64,
       "text": [
        "2.3743409490333951"
       ]
      }
     ],
     "prompt_number": 64
    },
    {
     "cell_type": "code",
     "collapsed": false,
     "input": [
      "non_vaxxers.AGE_YRS.mean()"
     ],
     "language": "python",
     "metadata": {},
     "outputs": [
      {
       "metadata": {},
       "output_type": "pyout",
       "prompt_number": 65,
       "text": [
        "2.5328219620508818"
       ]
      }
     ],
     "prompt_number": 65
    },
    {
     "cell_type": "code",
     "collapsed": false,
     "input": [],
     "language": "python",
     "metadata": {},
     "outputs": []
    }
   ],
   "metadata": {}
  }
 ]
}