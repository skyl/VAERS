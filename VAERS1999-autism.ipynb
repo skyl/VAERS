{
 "metadata": {
  "name": "",
  "signature": "sha256:014b949f641a588d69a52cceabbd9e1f944d5de7477ea5fe8c399517506058bf"
 },
 "nbformat": 3,
 "nbformat_minor": 0,
 "worksheets": [
  {
   "cells": [
    {
     "cell_type": "code",
     "collapsed": false,
     "input": [
      "import pandas as pd\n",
      "\n",
      "data = pd.DataFrame.from_csv(\"./data/1999VAERSDATA.csv\")\n",
      "vax = pd.DataFrame.from_csv(\"./data/1999VAERSVAX.csv\")\n",
      "symptoms = pd.DataFrame.from_csv(\"./data/1999VAERSSYMPTOMS.csv\")"
     ],
     "language": "python",
     "metadata": {},
     "outputs": [],
     "prompt_number": 1
    },
    {
     "cell_type": "code",
     "collapsed": false,
     "input": [
      "df = data.dropna(subset=[\"SYMPTOM_TEXT\"])\n",
      "s = df.SYMPTOM_TEXT.str.contains(\"autis\", case=False)"
     ],
     "language": "python",
     "metadata": {},
     "outputs": [],
     "prompt_number": 43
    },
    {
     "cell_type": "code",
     "collapsed": false,
     "input": [
      "len(df[s])"
     ],
     "language": "python",
     "metadata": {},
     "outputs": [
      {
       "metadata": {},
       "output_type": "pyout",
       "prompt_number": 44,
       "text": [
        "33"
       ]
      }
     ],
     "prompt_number": 44
    },
    {
     "cell_type": "code",
     "collapsed": false,
     "input": [
      "vax.loc[df[s].index].VAX_TYPE.value_counts()"
     ],
     "language": "python",
     "metadata": {},
     "outputs": [
      {
       "metadata": {},
       "output_type": "pyout",
       "prompt_number": 45,
       "text": [
        "MMR       23\n",
        "HIBV       8\n",
        "HEP        7\n",
        "OPV        7\n",
        "DTPHIB     5\n",
        "DTAP       4\n",
        "DTP        3\n",
        "VARCEL     2\n",
        "dtype: int64"
       ]
      }
     ],
     "prompt_number": 45
    },
    {
     "cell_type": "code",
     "collapsed": false,
     "input": [
      "vaxxers_idx = vax[vax.VAX_TYPE.str.contains(\"MMR\")].index\n",
      "vaxxers = data[data.index.isin(vaxxers_idx)]\n",
      "non_vaxxers = data[~data.index.isin(vaxxers_idx)]"
     ],
     "language": "python",
     "metadata": {},
     "outputs": [],
     "prompt_number": 55
    },
    {
     "cell_type": "code",
     "collapsed": false,
     "input": [
      "len(vaxxers)"
     ],
     "language": "python",
     "metadata": {},
     "outputs": [
      {
       "metadata": {},
       "output_type": "pyout",
       "prompt_number": 56,
       "text": [
        "2076"
       ]
      }
     ],
     "prompt_number": 56
    },
    {
     "cell_type": "code",
     "collapsed": false,
     "input": [
      "len(non_vaxxers)"
     ],
     "language": "python",
     "metadata": {},
     "outputs": [
      {
       "metadata": {},
       "output_type": "pyout",
       "prompt_number": 57,
       "text": [
        "10173"
       ]
      }
     ],
     "prompt_number": 57
    },
    {
     "cell_type": "code",
     "collapsed": false,
     "input": [
      "len(df)"
     ],
     "language": "python",
     "metadata": {},
     "outputs": [
      {
       "metadata": {},
       "output_type": "pyout",
       "prompt_number": 58,
       "text": [
        "12241"
       ]
      }
     ],
     "prompt_number": 58
    },
    {
     "cell_type": "code",
     "collapsed": false,
     "input": [
      "2076 + 10173"
     ],
     "language": "python",
     "metadata": {},
     "outputs": [
      {
       "metadata": {},
       "output_type": "pyout",
       "prompt_number": 59,
       "text": [
        "12249"
       ]
      }
     ],
     "prompt_number": 59
    },
    {
     "cell_type": "code",
     "collapsed": false,
     "input": [
      "len(set(vaxxers_idx).intersection(set(df[s].index)))"
     ],
     "language": "python",
     "metadata": {},
     "outputs": [
      {
       "metadata": {},
       "output_type": "pyout",
       "prompt_number": 63,
       "text": [
        "23"
       ]
      }
     ],
     "prompt_number": 63
    },
    {
     "cell_type": "code",
     "collapsed": false,
     "input": [
      "len(set(non_vaxxers.index).intersection(df[s].index))"
     ],
     "language": "python",
     "metadata": {},
     "outputs": [
      {
       "metadata": {},
       "output_type": "pyout",
       "prompt_number": 65,
       "text": [
        "10"
       ]
      }
     ],
     "prompt_number": 65
    },
    {
     "cell_type": "code",
     "collapsed": false,
     "input": [
      "len(non_vaxxers.index)"
     ],
     "language": "python",
     "metadata": {},
     "outputs": [
      {
       "metadata": {},
       "output_type": "pyout",
       "prompt_number": 64,
       "text": [
        "10173"
       ]
      }
     ],
     "prompt_number": 64
    },
    {
     "cell_type": "markdown",
     "metadata": {},
     "source": [
      "       mmr       nonmmr\n",
      "autis   23             10\n",
      "non     2053           10163\n"
     ]
    },
    {
     "cell_type": "code",
     "collapsed": false,
     "input": [
      "from scipy import stats\n",
      "oddsratio, pvalue = stats.fisher_exact([[23, 2053], [10, 10163]])"
     ],
     "language": "python",
     "metadata": {},
     "outputs": [],
     "prompt_number": 66
    },
    {
     "cell_type": "code",
     "collapsed": false,
     "input": [
      "oddsratio"
     ],
     "language": "python",
     "metadata": {},
     "outputs": [
      {
       "metadata": {},
       "output_type": "pyout",
       "prompt_number": 67,
       "text": [
        "11.385728202630297"
       ]
      }
     ],
     "prompt_number": 67
    },
    {
     "cell_type": "code",
     "collapsed": false,
     "input": [
      "pvalue"
     ],
     "language": "python",
     "metadata": {},
     "outputs": [
      {
       "metadata": {},
       "output_type": "pyout",
       "prompt_number": 68,
       "text": [
        "2.6991030514708524e-11"
       ]
      }
     ],
     "prompt_number": 68
    },
    {
     "cell_type": "code",
     "collapsed": false,
     "input": [
      "non_vaxxers.AGE_YRS.mean()"
     ],
     "language": "python",
     "metadata": {},
     "outputs": [
      {
       "metadata": {},
       "output_type": "pyout",
       "prompt_number": 69,
       "text": [
        "24.594836190063024"
       ]
      }
     ],
     "prompt_number": 69
    },
    {
     "cell_type": "code",
     "collapsed": false,
     "input": [
      "vaxxers.AGE_YRS.mean()"
     ],
     "language": "python",
     "metadata": {},
     "outputs": [
      {
       "metadata": {},
       "output_type": "pyout",
       "prompt_number": 70,
       "text": [
        "7.453615960099758"
       ]
      }
     ],
     "prompt_number": 70
    },
    {
     "cell_type": "code",
     "collapsed": false,
     "input": [
      "len(set(vaxxers[vaxxers.AGE_YRS < 7].index).intersection(set(df[s].index)))"
     ],
     "language": "python",
     "metadata": {},
     "outputs": [
      {
       "metadata": {},
       "output_type": "pyout",
       "prompt_number": 71,
       "text": [
        "21"
       ]
      }
     ],
     "prompt_number": 71
    },
    {
     "cell_type": "code",
     "collapsed": false,
     "input": [
      "len(set(non_vaxxers[non_vaxxers.AGE_YRS < 7].index).intersection(df[s].index))"
     ],
     "language": "python",
     "metadata": {},
     "outputs": [
      {
       "metadata": {},
       "output_type": "pyout",
       "prompt_number": 72,
       "text": [
        "9"
       ]
      }
     ],
     "prompt_number": 72
    },
    {
     "cell_type": "code",
     "collapsed": false,
     "input": [
      "non_vaxxers[non_vaxxers.AGE_YRS < 7].AGE_YRS.mean()"
     ],
     "language": "python",
     "metadata": {},
     "outputs": [
      {
       "metadata": {},
       "output_type": "pyout",
       "prompt_number": 73,
       "text": [
        "1.6436170212765915"
       ]
      }
     ],
     "prompt_number": 73
    },
    {
     "cell_type": "code",
     "collapsed": false,
     "input": [
      "vaxxers[vaxxers.AGE_YRS < 7].AGE_YRS.mean()"
     ],
     "language": "python",
     "metadata": {},
     "outputs": [
      {
       "metadata": {},
       "output_type": "pyout",
       "prompt_number": 74,
       "text": [
        "2.3829673985362594"
       ]
      }
     ],
     "prompt_number": 74
    },
    {
     "cell_type": "code",
     "collapsed": false,
     "input": [
      "len(vaxxers[vaxxers.AGE_YRS < 7])"
     ],
     "language": "python",
     "metadata": {},
     "outputs": [
      {
       "metadata": {},
       "output_type": "pyout",
       "prompt_number": 75,
       "text": [
        "1503"
       ]
      }
     ],
     "prompt_number": 75
    },
    {
     "cell_type": "code",
     "collapsed": false,
     "input": [
      "len(non_vaxxers[non_vaxxers.AGE_YRS < 7])"
     ],
     "language": "python",
     "metadata": {},
     "outputs": [
      {
       "metadata": {},
       "output_type": "pyout",
       "prompt_number": 76,
       "text": [
        "3478"
       ]
      }
     ],
     "prompt_number": 76
    },
    {
     "cell_type": "code",
     "collapsed": false,
     "input": [
      "        mmr            nonmmr\n",
      "autis   21                 9\n",
      "non     1503 - 21       3478 - 9\n"
     ],
     "language": "python",
     "metadata": {},
     "outputs": []
    },
    {
     "cell_type": "code",
     "collapsed": false,
     "input": [
      "oddsratio, pvalue = stats.fisher_exact([[21, 1503 - 21], [9, 3478 - 9]])"
     ],
     "language": "python",
     "metadata": {},
     "outputs": [],
     "prompt_number": 77
    },
    {
     "cell_type": "code",
     "collapsed": false,
     "input": [
      "oddsratio"
     ],
     "language": "python",
     "metadata": {},
     "outputs": [
      {
       "metadata": {},
       "output_type": "pyout",
       "prompt_number": 78,
       "text": [
        "5.4617633828160148"
       ]
      }
     ],
     "prompt_number": 78
    },
    {
     "cell_type": "code",
     "collapsed": false,
     "input": [
      "pvalue"
     ],
     "language": "python",
     "metadata": {},
     "outputs": [
      {
       "metadata": {},
       "output_type": "pyout",
       "prompt_number": 79,
       "text": [
        "7.5408009771908902e-06"
       ]
      }
     ],
     "prompt_number": 79
    },
    {
     "cell_type": "code",
     "collapsed": false,
     "input": [
      "(vaxxers.AGE_YRS < 7) & (vaxxers.AGE_YRS > 1)"
     ],
     "language": "python",
     "metadata": {},
     "outputs": [
      {
       "metadata": {},
       "output_type": "pyout",
       "prompt_number": 81,
       "text": [
        "VAERS_ID\n",
        "117874      False\n",
        "117876       True\n",
        "117877       True\n",
        "117889       True\n",
        "117890       True\n",
        "117896      False\n",
        "117904      False\n",
        "117927      False\n",
        "117929      False\n",
        "117951       True\n",
        "117965       True\n",
        "118018      False\n",
        "118024       True\n",
        "118026      False\n",
        "118085       True\n",
        "...\n",
        "132009       True\n",
        "132016       True\n",
        "132018       True\n",
        "132028      False\n",
        "132892       True\n",
        "132901      False\n",
        "132904      False\n",
        "132914      False\n",
        "132915       True\n",
        "132928      False\n",
        "132938      False\n",
        "132941      False\n",
        "132952       True\n",
        "132964       True\n",
        "132973      False\n",
        "Name: AGE_YRS, Length: 2076, dtype: bool"
       ]
      }
     ],
     "prompt_number": 81
    },
    {
     "cell_type": "code",
     "collapsed": false,
     "input": [
      "len(vaxxers[(vaxxers.AGE_YRS < 7) & (vaxxers.AGE_YRS > 1)])"
     ],
     "language": "python",
     "metadata": {},
     "outputs": [
      {
       "metadata": {},
       "output_type": "pyout",
       "prompt_number": 82,
       "text": [
        "1149"
       ]
      }
     ],
     "prompt_number": 82
    },
    {
     "cell_type": "code",
     "collapsed": false,
     "input": [
      "len(non_vaxxers[(non_vaxxers.AGE_YRS < 7) & (non_vaxxers.AGE_YRS > 1)])"
     ],
     "language": "python",
     "metadata": {},
     "outputs": [
      {
       "metadata": {},
       "output_type": "pyout",
       "prompt_number": 83,
       "text": [
        "1745"
       ]
      }
     ],
     "prompt_number": 83
    },
    {
     "cell_type": "code",
     "collapsed": false,
     "input": [
      "v1_7 = vaxxers[(vaxxers.AGE_YRS < 7) & (vaxxers.AGE_YRS > 1)]\n",
      "nv1_7 = non_vaxxers[(non_vaxxers.AGE_YRS < 7) & (non_vaxxers.AGE_YRS > 1)]"
     ],
     "language": "python",
     "metadata": {},
     "outputs": [],
     "prompt_number": 84
    },
    {
     "cell_type": "code",
     "collapsed": false,
     "input": [
      "len(v1_7.index.intersection(df[s].index))"
     ],
     "language": "python",
     "metadata": {},
     "outputs": [
      {
       "metadata": {},
       "output_type": "pyout",
       "prompt_number": 85,
       "text": [
        "19"
       ]
      }
     ],
     "prompt_number": 85
    },
    {
     "cell_type": "code",
     "collapsed": false,
     "input": [
      "len(nv1_7.index.intersection(df[s].index))"
     ],
     "language": "python",
     "metadata": {},
     "outputs": [
      {
       "metadata": {},
       "output_type": "pyout",
       "prompt_number": 86,
       "text": [
        "4"
       ]
      }
     ],
     "prompt_number": 86
    },
    {
     "cell_type": "code",
     "collapsed": false,
     "input": [
      "        mmr            nonmmr\n",
      "autis   19                 4\n",
      "non     1149 - 19       1745 - 4\n"
     ],
     "language": "python",
     "metadata": {},
     "outputs": []
    },
    {
     "cell_type": "code",
     "collapsed": false,
     "input": [
      "oddsratio, pvalue = stats.fisher_exact([[19, 1149 - 19], [4, 1745 - 4]])"
     ],
     "language": "python",
     "metadata": {},
     "outputs": [],
     "prompt_number": 87
    },
    {
     "cell_type": "code",
     "collapsed": false,
     "input": [
      "oddsratio"
     ],
     "language": "python",
     "metadata": {},
     "outputs": [
      {
       "metadata": {},
       "output_type": "pyout",
       "prompt_number": 88,
       "text": [
        "7.3183628318584066"
       ]
      }
     ],
     "prompt_number": 88
    },
    {
     "cell_type": "code",
     "collapsed": false,
     "input": [
      "pvalue"
     ],
     "language": "python",
     "metadata": {},
     "outputs": [
      {
       "metadata": {},
       "output_type": "pyout",
       "prompt_number": 89,
       "text": [
        "3.8231851870976111e-05"
       ]
      }
     ],
     "prompt_number": 89
    },
    {
     "cell_type": "code",
     "collapsed": false,
     "input": [
      "# \"loss of bladder control, poor speech, no eye contact occurred w/in 24hrs of vax;\n",
      "# administration & lasted x 7 days;\"\n",
      "vax.loc[120256]"
     ],
     "language": "python",
     "metadata": {},
     "outputs": [
      {
       "html": [
        "<div style=\"max-height:1000px;max-width:1500px;overflow:auto;\">\n",
        "<table border=\"1\" class=\"dataframe\">\n",
        "  <thead>\n",
        "    <tr style=\"text-align: right;\">\n",
        "      <th></th>\n",
        "      <th>VAX_TYPE</th>\n",
        "      <th>VAX_MANU</th>\n",
        "      <th>VAX_LOT</th>\n",
        "      <th>VAX_DOSE</th>\n",
        "      <th>VAX_ROUTE</th>\n",
        "      <th>VAX_SITE</th>\n",
        "      <th>VAX_NAME</th>\n",
        "    </tr>\n",
        "    <tr>\n",
        "      <th>VAERS_ID</th>\n",
        "      <th></th>\n",
        "      <th></th>\n",
        "      <th></th>\n",
        "      <th></th>\n",
        "      <th></th>\n",
        "      <th></th>\n",
        "      <th></th>\n",
        "    </tr>\n",
        "  </thead>\n",
        "  <tbody>\n",
        "    <tr>\n",
        "      <th>120256</th>\n",
        "      <td> DTAP</td>\n",
        "      <td>     PFIZER\\WYETH</td>\n",
        "      <td> 839A2</td>\n",
        "      <td> 4</td>\n",
        "      <td> NaN</td>\n",
        "      <td> NaN</td>\n",
        "      <td>                 DTAP (ACEL-IMUNE)</td>\n",
        "    </tr>\n",
        "    <tr>\n",
        "      <th>120256</th>\n",
        "      <td>  MMR</td>\n",
        "      <td> MERCK &amp; CO. INC.</td>\n",
        "      <td> 0734E</td>\n",
        "      <td> 1</td>\n",
        "      <td> NaN</td>\n",
        "      <td> NaN</td>\n",
        "      <td> MEASLES + MUMPS + RUBELLA (MMR I)</td>\n",
        "    </tr>\n",
        "    <tr>\n",
        "      <th>120256</th>\n",
        "      <td>  OPV</td>\n",
        "      <td>     PFIZER\\WYETH</td>\n",
        "      <td>  0765</td>\n",
        "      <td> 4</td>\n",
        "      <td> NaN</td>\n",
        "      <td> NaN</td>\n",
        "      <td>       POLIO VIRUS, ORAL (ORIMUNE)</td>\n",
        "    </tr>\n",
        "  </tbody>\n",
        "</table>\n",
        "<p>3 rows \u00d7 7 columns</p>\n",
        "</div>"
       ],
       "metadata": {},
       "output_type": "pyout",
       "prompt_number": 92,
       "text": [
        "         VAX_TYPE          VAX_MANU VAX_LOT  VAX_DOSE VAX_ROUTE VAX_SITE  \\\n",
        "VAERS_ID                                                                   \n",
        "120256       DTAP      PFIZER\\WYETH   839A2         4       NaN      NaN   \n",
        "120256        MMR  MERCK & CO. INC.   0734E         1       NaN      NaN   \n",
        "120256        OPV      PFIZER\\WYETH    0765         4       NaN      NaN   \n",
        "\n",
        "                                   VAX_NAME  \n",
        "VAERS_ID                                     \n",
        "120256                    DTAP (ACEL-IMUNE)  \n",
        "120256    MEASLES + MUMPS + RUBELLA (MMR I)  \n",
        "120256          POLIO VIRUS, ORAL (ORIMUNE)  \n",
        "\n",
        "[3 rows x 7 columns]"
       ]
      }
     ],
     "prompt_number": 92
    },
    {
     "cell_type": "code",
     "collapsed": false,
     "input": [
      "df.loc[120256]"
     ],
     "language": "python",
     "metadata": {},
     "outputs": [
      {
       "metadata": {},
       "output_type": "pyout",
       "prompt_number": 93,
       "text": [
        "RECVDATE                                               03/15/1999\n",
        "STATE                                                          CA\n",
        "AGE_YRS                                                         4\n",
        "CAGE_YR                                                         4\n",
        "CAGE_MO                                                       NaN\n",
        "SEX                                                             M\n",
        "RPT_DATE                                               09/27/2000\n",
        "SYMPTOM_TEXT    pt exp  fever, h/a, dizzy x 13 days;13th day p...\n",
        "DIED                                                          NaN\n",
        "DATEDIED                                                      NaN\n",
        "L_THREAT                                                      NaN\n",
        "ER_VISIT                                                        Y\n",
        "HOSPITAL                                                        Y\n",
        "HOSPDAYS                                                        3\n",
        "X_STAY                                                        NaN\n",
        "DISABLE                                                         Y\n",
        "RECOVD                                                          N\n",
        "VAX_DATE                                               04/08/1998\n",
        "ONSET_DATE                                             04/21/1998\n",
        "NUMDAYS                                                        13\n",
        "LAB_DATA        2MRI's, 1 spinal tap, 1EEG, 1 spect scan,  1 e...\n",
        "V_ADMINBY                                                     UNK\n",
        "V_FUNDBY                                                      UNK\n",
        "OTHER_MEDS                                                   NONE\n",
        "CUR_ILL                                                      NONE\n",
        "HISTORY                                                      NONE\n",
        "PRIOR_VAX                                                     NaN\n",
        "SPLTTYPE                                                      NaN\n",
        "Name: 120256, dtype: object"
       ]
      }
     ],
     "prompt_number": 93
    },
    {
     "cell_type": "code",
     "collapsed": false,
     "input": [
      "df.loc[120256].SYMPTOM_TEXT"
     ],
     "language": "python",
     "metadata": {},
     "outputs": [
      {
       "metadata": {},
       "output_type": "pyout",
       "prompt_number": 98,
       "text": [
        "'pt exp  fever, h/a, dizzy x 13 days;13th day pt began twitching uncontrollably, head & mouth mainly;loss coherency;pt cont twitching, jerking, spasms;could not walk w/o falling;loss memory;urinate & soil self;dx ADHD & OCD;brain damage;Annual follow-up received on 10/19/00 provides no additional data. We explained everything that had been ocurring. He was very questionable about exactly what was occuring. He examined him and recommended we take him to a Pediatric Neurologist. He also ordered an immediate blood work-up. They tested him for many substances such as lead, chromium etc. Everything came out clear. He set us up with a neurologist. He said he couldn\\'t see our son for over a month. We were extremely distraught. We argued over the severity of what was occuring. They said it was the best they could do. So we waited. Over this period of time our son deteriorated severly. He continued twitching, jerking, spasming. He could not even walk without falling. He lost his entire memory. He was like he was in a delierium. He would just sit and stare at a blank wall. He no longer recognized anything or anyone around him. He began urinating and soiling himself on a regular basis. He basically became like a vegatable. We called the doctor and pleaded for help. We were told we must wait. That there were other sick children too. This was the most horrible, stressful, sad experience in our lives. Our son could no longer talk at all. he had no memory of anything including his father and I. He had no potty training abilities. He had no co-ordination. He could barely walk. He would just sit and stare with his mouth open. After about 3 continuous weeks of twitiching it stopped. But his condition had no improvement. He became terrifed of anything. Screaming and crying uncontrollably. After about a week wait we finally got him to the neurologist. Upon him seeing and hearing our son. He says \"why was this child not brought to my attention much sooner.\" We nearly went into hysterics. Explaining all we had been through and how hard we tried to get him in. He became upset and said he wished to speak to our sons pediatrition. So we agreed. He spoke to the doctor about him recognizing this as a DPT reaction. Why was this not brought to his attention sooner to begin treatment. Our sons pediatrition; said he just wasn\\'t sure about the DPT reaction. He said he had observed some abnormal behaviors in our son before immunization; he thought it might relate to. We found this comment rude, offensive and a deliberate move to try and cover his huge mistakes. He had never brought any concerns about our son to our attention ever. He was his pediatrition since birth. He always commended us on his growth and advancements. Nothing but positive remarks. To hear this was infuriating. The neurologist asked for immediate admittance into the hospital. We agreed to this. He was admitted to the hospital. They did an MRI and a Spinal Tap. Both of the tests came back normal. The Neurologist said that our son had aquired an aphasia for a reason still unknown. So we should get an EEG The EEg should be sleeping. This was a problem because since all this occurred our son had become extremly hyper-active, rarely sleeping, he had constant laughing seizures which lasted for up to 3 hours. He was uncontrollable. We still tried the EEG. We could not get him to settle much less sleep for the test. The results were not showing seizure activity. The neurologist recommended taking him to a psycologist for evaluation. We agreed and upon doing so both evaluations brought up a possiblity of him aquiring a rare condition called Landau Kleffner Syndrome. They believed he was still having sub-clinical seziures. Which was causing the strange behaviors now occuring hyper-activity, social withdrawl, aggressiveness, depression etc. We felt it was because of the complete loss of speech and language and memory. That caused such tremdous frustration. During all this process the insurance company'"
       ]
      }
     ],
     "prompt_number": 98
    },
    {
     "cell_type": "code",
     "collapsed": false,
     "input": [
      "'autis' in df.loc[120256].SYMPTOM_TEXT"
     ],
     "language": "python",
     "metadata": {},
     "outputs": [
      {
       "metadata": {},
       "output_type": "pyout",
       "prompt_number": 99,
       "text": [
        "False"
       ]
      }
     ],
     "prompt_number": 99
    },
    {
     "cell_type": "code",
     "collapsed": false,
     "input": [
      "120256 in vaxxers.index"
     ],
     "language": "python",
     "metadata": {},
     "outputs": [
      {
       "metadata": {},
       "output_type": "pyout",
       "prompt_number": 100,
       "text": [
        "True"
       ]
      }
     ],
     "prompt_number": 100
    },
    {
     "cell_type": "code",
     "collapsed": false,
     "input": [
      "df.SYMPTOM_TEXT.str.contains(\"autis\", case=False).value_counts()\n",
      "# | df.SYMPTOM_TEXT.str.contains(\"speech\", case=False)"
     ],
     "language": "python",
     "metadata": {},
     "outputs": [
      {
       "metadata": {},
       "output_type": "pyout",
       "prompt_number": 105,
       "text": [
        "False    12208\n",
        "True        33\n",
        "dtype: int64"
       ]
      }
     ],
     "prompt_number": 105
    },
    {
     "cell_type": "code",
     "collapsed": false,
     "input": [
      "( \n",
      "  df.SYMPTOM_TEXT.str.contains(\"autis\", case=False) \n",
      "  | df.SYMPTOM_TEXT.str.contains(\"speech\", case=False)\n",
      ").value_counts()"
     ],
     "language": "python",
     "metadata": {},
     "outputs": [
      {
       "metadata": {},
       "output_type": "pyout",
       "prompt_number": 107,
       "text": [
        "False    12168\n",
        "True        73\n",
        "dtype: int64"
       ]
      }
     ],
     "prompt_number": 107
    },
    {
     "cell_type": "code",
     "collapsed": false,
     "input": [
      "s = ( \n",
      "  df.SYMPTOM_TEXT.str.contains(\"autis\", case=False) \n",
      "  | df.SYMPTOM_TEXT.str.contains(\"speech\", case=False)\n",
      ")"
     ],
     "language": "python",
     "metadata": {},
     "outputs": [],
     "prompt_number": 110
    },
    {
     "cell_type": "code",
     "collapsed": false,
     "input": [
      "v1_7 = vaxxers[(vaxxers.AGE_YRS < 7) & (vaxxers.AGE_YRS > 1)]\n",
      "nv1_7 = non_vaxxers[(non_vaxxers.AGE_YRS < 7) & (non_vaxxers.AGE_YRS > 1)]\n",
      "print(len(v1_7.index.intersection(df[s].index)))\n",
      "print(len(nv1_7.index.intersection(df[s].index)))"
     ],
     "language": "python",
     "metadata": {},
     "outputs": [
      {
       "output_type": "stream",
       "stream": "stdout",
       "text": [
        "26\n",
        "11\n"
       ]
      }
     ],
     "prompt_number": 111
    },
    {
     "cell_type": "code",
     "collapsed": false,
     "input": [
      "print(len(v1_7), len(nv1_7))"
     ],
     "language": "python",
     "metadata": {},
     "outputs": [
      {
       "output_type": "stream",
       "stream": "stdout",
       "text": [
        "1149 1745\n"
       ]
      }
     ],
     "prompt_number": 112
    },
    {
     "cell_type": "code",
     "collapsed": false,
     "input": [
      "s.value_counts()\n"
     ],
     "language": "python",
     "metadata": {},
     "outputs": [
      {
       "metadata": {},
       "output_type": "pyout",
       "prompt_number": 113,
       "text": [
        "False    12168\n",
        "True        73\n",
        "dtype: int64"
       ]
      }
     ],
     "prompt_number": 113
    },
    {
     "cell_type": "code",
     "collapsed": false,
     "input": [
      "prev_s = df.SYMPTOM_TEXT.str.contains(\"autis\", case=False)\n",
      "prev_s.value_counts()"
     ],
     "language": "python",
     "metadata": {},
     "outputs": [
      {
       "metadata": {},
       "output_type": "pyout",
       "prompt_number": 114,
       "text": [
        "False    12208\n",
        "True        33\n",
        "dtype: int64"
       ]
      }
     ],
     "prompt_number": 114
    },
    {
     "cell_type": "code",
     "collapsed": false,
     "input": [
      "oddsratio, pvalue = stats.fisher_exact([[26, 1149 - 26], [11, 1745 - 11]])"
     ],
     "language": "python",
     "metadata": {},
     "outputs": [],
     "prompt_number": 115
    },
    {
     "cell_type": "code",
     "collapsed": false,
     "input": [
      "oddsratio"
     ],
     "language": "python",
     "metadata": {},
     "outputs": [
      {
       "metadata": {},
       "output_type": "pyout",
       "prompt_number": 116,
       "text": [
        "3.6496397636201734"
       ]
      }
     ],
     "prompt_number": 116
    },
    {
     "cell_type": "code",
     "collapsed": false,
     "input": [
      "pvalue"
     ],
     "language": "python",
     "metadata": {},
     "outputs": [
      {
       "metadata": {},
       "output_type": "pyout",
       "prompt_number": 117,
       "text": [
        "0.00025172633770278405"
       ]
      }
     ],
     "prompt_number": 117
    },
    {
     "cell_type": "code",
     "collapsed": false,
     "input": [
      "df.loc[125331]"
     ],
     "language": "python",
     "metadata": {},
     "outputs": [
      {
       "metadata": {},
       "output_type": "pyout",
       "prompt_number": 118,
       "text": [
        "RECVDATE                                               07/06/1999\n",
        "STATE                                                          VA\n",
        "AGE_YRS                                                       0.2\n",
        "CAGE_YR                                                         0\n",
        "CAGE_MO                                                       0.2\n",
        "SEX                                                             F\n",
        "RPT_DATE                                               07/03/1999\n",
        "SYMPTOM_TEXT    p/vax pt had large, swollen red mark on leg @ ...\n",
        "DIED                                                          NaN\n",
        "DATEDIED                                                      NaN\n",
        "L_THREAT                                                      NaN\n",
        "ER_VISIT                                                        Y\n",
        "HOSPITAL                                                        Y\n",
        "HOSPDAYS                                                       30\n",
        "X_STAY                                                        NaN\n",
        "DISABLE                                                         Y\n",
        "RECOVD                                                          N\n",
        "VAX_DATE                                               02/01/1994\n",
        "ONSET_DATE                                             02/01/1994\n",
        "NUMDAYS                                                         0\n",
        "LAB_DATA                                                      NaN\n",
        "V_ADMINBY                                                     MIL\n",
        "V_FUNDBY                                                      MIL\n",
        "OTHER_MEDS                                                    NaN\n",
        "CUR_ILL                                                      NONE\n",
        "HISTORY                                                      NONE\n",
        "PRIOR_VAX                                                     NaN\n",
        "SPLTTYPE                                                      NaN\n",
        "Name: 125331, dtype: object"
       ]
      }
     ],
     "prompt_number": 118
    },
    {
     "cell_type": "code",
     "collapsed": false,
     "input": [
      "vax.loc[125331]"
     ],
     "language": "python",
     "metadata": {},
     "outputs": [
      {
       "html": [
        "<div style=\"max-height:1000px;max-width:1500px;overflow:auto;\">\n",
        "<table border=\"1\" class=\"dataframe\">\n",
        "  <thead>\n",
        "    <tr style=\"text-align: right;\">\n",
        "      <th></th>\n",
        "      <th>VAX_TYPE</th>\n",
        "      <th>VAX_MANU</th>\n",
        "      <th>VAX_LOT</th>\n",
        "      <th>VAX_DOSE</th>\n",
        "      <th>VAX_ROUTE</th>\n",
        "      <th>VAX_SITE</th>\n",
        "      <th>VAX_NAME</th>\n",
        "    </tr>\n",
        "    <tr>\n",
        "      <th>VAERS_ID</th>\n",
        "      <th></th>\n",
        "      <th></th>\n",
        "      <th></th>\n",
        "      <th></th>\n",
        "      <th></th>\n",
        "      <th></th>\n",
        "      <th></th>\n",
        "    </tr>\n",
        "  </thead>\n",
        "  <tbody>\n",
        "    <tr>\n",
        "      <th>125331</th>\n",
        "      <td> DTP</td>\n",
        "      <td> UNKNOWN MANUFACTURER</td>\n",
        "      <td> NaN</td>\n",
        "      <td> 0</td>\n",
        "      <td> NaN</td>\n",
        "      <td> NaN</td>\n",
        "      <td>               DTP (NO BRAND NAME)</td>\n",
        "    </tr>\n",
        "    <tr>\n",
        "      <th>125331</th>\n",
        "      <td> HEP</td>\n",
        "      <td> UNKNOWN MANUFACTURER</td>\n",
        "      <td> NaN</td>\n",
        "      <td> 1</td>\n",
        "      <td> NaN</td>\n",
        "      <td> NaN</td>\n",
        "      <td>             HEP B (NO BRAND NAME)</td>\n",
        "    </tr>\n",
        "    <tr>\n",
        "      <th>125331</th>\n",
        "      <td> OPV</td>\n",
        "      <td> UNKNOWN MANUFACTURER</td>\n",
        "      <td> NaN</td>\n",
        "      <td> 0</td>\n",
        "      <td> NaN</td>\n",
        "      <td> NaN</td>\n",
        "      <td> POLIO VIRUS, ORAL (NO BRAND NAME)</td>\n",
        "    </tr>\n",
        "  </tbody>\n",
        "</table>\n",
        "<p>3 rows \u00d7 7 columns</p>\n",
        "</div>"
       ],
       "metadata": {},
       "output_type": "pyout",
       "prompt_number": 119,
       "text": [
        "         VAX_TYPE              VAX_MANU VAX_LOT  VAX_DOSE VAX_ROUTE VAX_SITE  \\\n",
        "VAERS_ID                                                                       \n",
        "125331        DTP  UNKNOWN MANUFACTURER     NaN         0       NaN      NaN   \n",
        "125331        HEP  UNKNOWN MANUFACTURER     NaN         1       NaN      NaN   \n",
        "125331        OPV  UNKNOWN MANUFACTURER     NaN         0       NaN      NaN   \n",
        "\n",
        "                                   VAX_NAME  \n",
        "VAERS_ID                                     \n",
        "125331                  DTP (NO BRAND NAME)  \n",
        "125331                HEP B (NO BRAND NAME)  \n",
        "125331    POLIO VIRUS, ORAL (NO BRAND NAME)  \n",
        "\n",
        "[3 rows x 7 columns]"
       ]
      }
     ],
     "prompt_number": 119
    },
    {
     "cell_type": "code",
     "collapsed": false,
     "input": [
      "df.loc[125466]"
     ],
     "language": "python",
     "metadata": {},
     "outputs": [
      {
       "metadata": {},
       "output_type": "pyout",
       "prompt_number": 120,
       "text": [
        "RECVDATE                                               07/09/1999\n",
        "STATE                                                          PA\n",
        "AGE_YRS                                                        26\n",
        "CAGE_YR                                                        26\n",
        "CAGE_MO                                                       NaN\n",
        "SEX                                                             M\n",
        "RPT_DATE                                               06/30/1999\n",
        "SYMPTOM_TEXT    10 days p/vax pt devel acute confusional state...\n",
        "DIED                                                          NaN\n",
        "DATEDIED                                                      NaN\n",
        "L_THREAT                                                      NaN\n",
        "ER_VISIT                                                        Y\n",
        "HOSPITAL                                                      NaN\n",
        "HOSPDAYS                                                      NaN\n",
        "X_STAY                                                        NaN\n",
        "DISABLE                                                       NaN\n",
        "RECOVD                                                          N\n",
        "VAX_DATE                                               06/12/1999\n",
        "ONSET_DATE                                             06/22/1999\n",
        "NUMDAYS                                                        10\n",
        "LAB_DATA        MRI-abnormal signal in thalamus; CT scan, nl; ...\n",
        "V_ADMINBY                                                     UNK\n",
        "V_FUNDBY                                                      UNK\n",
        "OTHER_MEDS                   3 beers & muscle relaxer night a/ AE\n",
        "CUR_ILL                                                       NaN\n",
        "HISTORY         NKA, no ETOH or substance abuse; med hx & meds...\n",
        "PRIOR_VAX                                                     NaN\n",
        "SPLTTYPE                                              19990149411\n",
        "Name: 125466, dtype: object"
       ]
      }
     ],
     "prompt_number": 120
    },
    {
     "cell_type": "code",
     "collapsed": false,
     "input": [
      "vax.loc[125466]"
     ],
     "language": "python",
     "metadata": {},
     "outputs": [
      {
       "metadata": {},
       "output_type": "pyout",
       "prompt_number": 121,
       "text": [
        "VAX_TYPE                   LYME\n",
        "VAX_MANU     SMITHKLINE BEECHAM\n",
        "VAX_LOT                   120A9\n",
        "VAX_DOSE                      0\n",
        "VAX_ROUTE                    IM\n",
        "VAX_SITE                     RA\n",
        "VAX_NAME         LYME (LYMERIX)\n",
        "Name: 125466, dtype: object"
       ]
      }
     ],
     "prompt_number": 121
    },
    {
     "cell_type": "code",
     "collapsed": false,
     "input": [
      "vax.loc[126251]"
     ],
     "language": "python",
     "metadata": {},
     "outputs": [
      {
       "html": [
        "<div style=\"max-height:1000px;max-width:1500px;overflow:auto;\">\n",
        "<table border=\"1\" class=\"dataframe\">\n",
        "  <thead>\n",
        "    <tr style=\"text-align: right;\">\n",
        "      <th></th>\n",
        "      <th>VAX_TYPE</th>\n",
        "      <th>VAX_MANU</th>\n",
        "      <th>VAX_LOT</th>\n",
        "      <th>VAX_DOSE</th>\n",
        "      <th>VAX_ROUTE</th>\n",
        "      <th>VAX_SITE</th>\n",
        "      <th>VAX_NAME</th>\n",
        "    </tr>\n",
        "    <tr>\n",
        "      <th>VAERS_ID</th>\n",
        "      <th></th>\n",
        "      <th></th>\n",
        "      <th></th>\n",
        "      <th></th>\n",
        "      <th></th>\n",
        "      <th></th>\n",
        "      <th></th>\n",
        "    </tr>\n",
        "  </thead>\n",
        "  <tbody>\n",
        "    <tr>\n",
        "      <th>126251</th>\n",
        "      <td> DTPHIB</td>\n",
        "      <td> LEDERLE LABORATORIES</td>\n",
        "      <td> 439193</td>\n",
        "      <td> 3</td>\n",
        "      <td> NaN</td>\n",
        "      <td> NaN</td>\n",
        "      <td>       DTP + HIB (TETRAMUNE)</td>\n",
        "    </tr>\n",
        "    <tr>\n",
        "      <th>126251</th>\n",
        "      <td>    OPV</td>\n",
        "      <td> LEDERLE LABORATORIES</td>\n",
        "      <td>  0746B</td>\n",
        "      <td> 2</td>\n",
        "      <td> NaN</td>\n",
        "      <td> NaN</td>\n",
        "      <td> POLIO VIRUS, ORAL (ORIMUNE)</td>\n",
        "    </tr>\n",
        "  </tbody>\n",
        "</table>\n",
        "<p>2 rows \u00d7 7 columns</p>\n",
        "</div>"
       ],
       "metadata": {},
       "output_type": "pyout",
       "prompt_number": 122,
       "text": [
        "         VAX_TYPE              VAX_MANU VAX_LOT  VAX_DOSE VAX_ROUTE VAX_SITE  \\\n",
        "VAERS_ID                                                                       \n",
        "126251     DTPHIB  LEDERLE LABORATORIES  439193         3       NaN      NaN   \n",
        "126251        OPV  LEDERLE LABORATORIES   0746B         2       NaN      NaN   \n",
        "\n",
        "                             VAX_NAME  \n",
        "VAERS_ID                               \n",
        "126251          DTP + HIB (TETRAMUNE)  \n",
        "126251    POLIO VIRUS, ORAL (ORIMUNE)  \n",
        "\n",
        "[2 rows x 7 columns]"
       ]
      }
     ],
     "prompt_number": 122
    },
    {
     "cell_type": "code",
     "collapsed": false,
     "input": [
      "df.loc[126251]"
     ],
     "language": "python",
     "metadata": {},
     "outputs": [
      {
       "metadata": {},
       "output_type": "pyout",
       "prompt_number": 123,
       "text": [
        "RECVDATE                                               07/22/1999\n",
        "STATE                                                          FL\n",
        "AGE_YRS                                                       1.5\n",
        "CAGE_YR                                                         1\n",
        "CAGE_MO                                                       0.5\n",
        "SEX                                                             U\n",
        "RPT_DATE                                                      NaN\n",
        "SYMPTOM_TEXT    p/vax, sometime after, pt's development regres...\n",
        "DIED                                                          NaN\n",
        "DATEDIED                                                      NaN\n",
        "L_THREAT                                                      NaN\n",
        "ER_VISIT                                                      NaN\n",
        "HOSPITAL                                                      NaN\n",
        "HOSPDAYS                                                      NaN\n",
        "X_STAY                                                        NaN\n",
        "DISABLE                                                         Y\n",
        "RECOVD                                                          N\n",
        "VAX_DATE                                               12/18/1996\n",
        "ONSET_DATE                                             01/15/1997\n",
        "NUMDAYS                                                        28\n",
        "LAB_DATA                                                      NaN\n",
        "V_ADMINBY                                                     MIL\n",
        "V_FUNDBY                                                      MIL\n",
        "OTHER_MEDS                                                    NaN\n",
        "CUR_ILL                                                      NONE\n",
        "HISTORY                                            milk allergies\n",
        "PRIOR_VAX                                                     NaN\n",
        "SPLTTYPE                                                      NaN\n",
        "Name: 126251, dtype: object"
       ]
      }
     ],
     "prompt_number": 123
    },
    {
     "cell_type": "code",
     "collapsed": false,
     "input": [
      "s = ( \n",
      "  df.SYMPTOM_TEXT.str.contains(\"autis\", case=False) \n",
      "  | df.SYMPTOM_TEXT.str.contains(\"speech\", case=False)\n",
      "  | df.SYMPTOM_TEXT.str.contains(\"eye contact\", case=False)\n",
      ")"
     ],
     "language": "python",
     "metadata": {},
     "outputs": [],
     "prompt_number": 124
    },
    {
     "cell_type": "code",
     "collapsed": false,
     "input": [
      "s.value_counts()"
     ],
     "language": "python",
     "metadata": {},
     "outputs": [
      {
       "metadata": {},
       "output_type": "pyout",
       "prompt_number": 126,
       "text": [
        "False    12167\n",
        "True        74\n",
        "dtype: int64"
       ]
      }
     ],
     "prompt_number": 126
    },
    {
     "cell_type": "code",
     "collapsed": false,
     "input": [
      "v1_7 = vaxxers[(vaxxers.AGE_YRS < 7) & (vaxxers.AGE_YRS > 1)]\n",
      "nv1_7 = non_vaxxers[(non_vaxxers.AGE_YRS < 7) & (non_vaxxers.AGE_YRS > 1)]\n",
      "print(len(v1_7.index.intersection(df[s].index)))\n",
      "print(len(v1_7))\n",
      "print(len(nv1_7.index.intersection(df[s].index)))\n",
      "print(len(nv1_7))"
     ],
     "language": "python",
     "metadata": {},
     "outputs": [
      {
       "output_type": "stream",
       "stream": "stdout",
       "text": [
        "27\n",
        "1149\n",
        "11\n",
        "1745\n"
       ]
      }
     ],
     "prompt_number": 127
    },
    {
     "cell_type": "code",
     "collapsed": false,
     "input": [
      "oddsratio, pvalue = stats.fisher_exact([[27, 1149 - 27], [11, 1745 - 11]])"
     ],
     "language": "python",
     "metadata": {},
     "outputs": [],
     "prompt_number": 131
    },
    {
     "cell_type": "code",
     "collapsed": false,
     "input": [
      "oddsratio"
     ],
     "language": "python",
     "metadata": {},
     "outputs": [
      {
       "metadata": {},
       "output_type": "pyout",
       "prompt_number": 132,
       "text": [
        "3.7933884297520661"
       ]
      }
     ],
     "prompt_number": 132
    },
    {
     "cell_type": "code",
     "collapsed": false,
     "input": [
      "pvalue"
     ],
     "language": "python",
     "metadata": {},
     "outputs": [
      {
       "metadata": {},
       "output_type": "pyout",
       "prompt_number": 133,
       "text": [
        "0.00014984887504713941"
       ]
      }
     ],
     "prompt_number": 133
    },
    {
     "cell_type": "code",
     "collapsed": false,
     "input": [
      "v1_7.AGE_YRS.mean()"
     ],
     "language": "python",
     "metadata": {},
     "outputs": [
      {
       "metadata": {},
       "output_type": "pyout",
       "prompt_number": 134,
       "text": [
        "2.8188859878154902"
       ]
      }
     ],
     "prompt_number": 134
    },
    {
     "cell_type": "code",
     "collapsed": false,
     "input": [
      "nv1_7.AGE_YRS.mean()"
     ],
     "language": "python",
     "metadata": {},
     "outputs": [
      {
       "metadata": {},
       "output_type": "pyout",
       "prompt_number": 135,
       "text": [
        "2.8519770773639026"
       ]
      }
     ],
     "prompt_number": 135
    },
    {
     "cell_type": "code",
     "collapsed": false,
     "input": [
      "#df.ix[5].plot(kind='bar'); plt.axhline(0, color='k')\n",
      "%matplotlib inline\n",
      "nv1_7.AGE_YRS.plot(kind='bar')"
     ],
     "language": "python",
     "metadata": {},
     "outputs": [
      {
       "metadata": {},
       "output_type": "pyout",
       "prompt_number": 140,
       "text": [
        "<matplotlib.axes.AxesSubplot at 0x11c237d30>"
       ]
      },
      {
       "metadata": {},
       "output_type": "display_data",
       "png": "[encoded data removed]",
       "text": [
        "<matplotlib.figure.Figure at 0x11c207898>"
       ]
      }
     ],
     "prompt_number": 140
    },
    {
     "cell_type": "code",
     "collapsed": false,
     "input": [
      "nv1_7.AGE_YRS.hist()"
     ],
     "language": "python",
     "metadata": {},
     "outputs": [
      {
       "metadata": {},
       "output_type": "pyout",
       "prompt_number": 141,
       "text": [
        "<matplotlib.axes.AxesSubplot at 0x11c237898>"
       ]
      },
      {
       "metadata": {},
       "output_type": "display_data",
       "png": "[encoded data removed]",
       "text": [
        "<matplotlib.figure.Figure at 0x11e73f940>"
       ]
      }
     ],
     "prompt_number": 141
    },
    {
     "cell_type": "code",
     "collapsed": false,
     "input": [
      "v1_7.AGE_YRS.hist()"
     ],
     "language": "python",
     "metadata": {},
     "outputs": [
      {
       "metadata": {},
       "output_type": "pyout",
       "prompt_number": 142,
       "text": [
        "<matplotlib.axes.AxesSubplot at 0x11b78deb8>"
       ]
      },
      {
       "metadata": {},
       "output_type": "display_data",
       "png": "[encoded data removed]",
       "text": [
        "<matplotlib.figure.Figure at 0x11db2a780>"
       ]
      }
     ],
     "prompt_number": 142
    },
    {
     "cell_type": "code",
     "collapsed": false,
     "input": [
      "df[s].AGE_YRS.hist()"
     ],
     "language": "python",
     "metadata": {},
     "outputs": [
      {
       "metadata": {},
       "output_type": "pyout",
       "prompt_number": 143,
       "text": [
        "<matplotlib.axes.AxesSubplot at 0x11f65d278>"
       ]
      },
      {
       "metadata": {},
       "output_type": "display_data",
       "png": "[encoded data removed]",
       "text": [
        "<matplotlib.figure.Figure at 0x11e1fbdd8>"
       ]
      }
     ],
     "prompt_number": 143
    },
    {
     "cell_type": "code",
     "collapsed": false,
     "input": [
      "len(df[s])"
     ],
     "language": "python",
     "metadata": {},
     "outputs": [
      {
       "metadata": {},
       "output_type": "pyout",
       "prompt_number": 144,
       "text": [
        "74"
       ]
      }
     ],
     "prompt_number": 144
    },
    {
     "cell_type": "code",
     "collapsed": false,
     "input": [
      "df[s][(df.AGE_YRS < 7) & (df.AGE_YRS > 1)].AGE_YRS.hist()"
     ],
     "language": "python",
     "metadata": {},
     "outputs": [
      {
       "metadata": {},
       "output_type": "pyout",
       "prompt_number": 146,
       "text": [
        "<matplotlib.axes.AxesSubplot at 0x11eb80320>"
       ]
      },
      {
       "metadata": {},
       "output_type": "display_data",
       "png": "[encoded data removed]",
       "text": [
        "<matplotlib.figure.Figure at 0x11eb75048>"
       ]
      }
     ],
     "prompt_number": 146
    },
    {
     "cell_type": "code",
     "collapsed": false,
     "input": [
      "df[~s][(df.AGE_YRS < 7) & (df.AGE_YRS > 1)].AGE_YRS.hist()"
     ],
     "language": "python",
     "metadata": {},
     "outputs": [
      {
       "metadata": {},
       "output_type": "pyout",
       "prompt_number": 147,
       "text": [
        "<matplotlib.axes.AxesSubplot at 0x11faac358>"
       ]
      },
      {
       "metadata": {},
       "output_type": "display_data",
       "png": "[encoded data removed]",
       "text": [
        "<matplotlib.figure.Figure at 0x11ea43978>"
       ]
      }
     ],
     "prompt_number": 147
    },
    {
     "cell_type": "code",
     "collapsed": false,
     "input": [
      "s = ( \n",
      "  df.SYMPTOM_TEXT.str.contains(\"autis\", case=False) \n",
      "  #| df.SYMPTOM_TEXT.str.contains(\"speech\", case=False)\n",
      "  | df.SYMPTOM_TEXT.str.contains(\"eye contact\", case=False)\n",
      ")\n",
      "a = len(v1_7.index.intersection(df[s].index))\n",
      "b = len(v1_7) - a\n",
      "c = len(nv1_7.index.intersection(df[s].index))\n",
      "d = len(nv1_7) - c\n",
      "\n",
      "print(a, b, c, d)\n",
      "oddsratio, pvalue = stats.fisher_exact([[a, b], [c, d]])\n",
      "print(oddsratio, pvalue)"
     ],
     "language": "python",
     "metadata": {},
     "outputs": [
      {
       "output_type": "stream",
       "stream": "stdout",
       "text": [
        "20 1129 5 1740\n",
        "6.16474756422 4.70003183694e-05\n"
       ]
      }
     ],
     "prompt_number": 148
    },
    {
     "cell_type": "code",
     "collapsed": false,
     "input": [],
     "language": "python",
     "metadata": {},
     "outputs": []
    }
   ],
   "metadata": {}
  }
 ]
}