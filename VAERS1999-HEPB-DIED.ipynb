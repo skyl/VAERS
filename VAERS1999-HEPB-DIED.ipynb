{
 "metadata": {
  "name": "",
  "signature": "sha256:7e34b0fcbc5769f43871b0eecb0e03dc849945baecac98132e07c4587e1c03ec"
 },
 "nbformat": 3,
 "nbformat_minor": 0,
 "worksheets": [
  {
   "cells": [
    {
     "cell_type": "code",
     "collapsed": false,
     "input": [
      "import pandas as pd"
     ],
     "language": "python",
     "metadata": {},
     "outputs": [],
     "prompt_number": 9
    },
    {
     "cell_type": "code",
     "collapsed": false,
     "input": [
      "data = pd.DataFrame.from_csv(\"./data/1999VAERSDATA.csv\")\n",
      "vax = pd.DataFrame.from_csv(\"./data/1999VAERSVAX.csv\")\n",
      "symptoms = pd.DataFrame.from_csv(\"./data/1999VAERSSYMPTOMS.csv\")"
     ],
     "language": "python",
     "metadata": {},
     "outputs": [],
     "prompt_number": 10
    },
    {
     "cell_type": "code",
     "collapsed": false,
     "input": [
      "# Let's check out 117908 in depth\n",
      "print(data.ix[117908])\n",
      "data.ix[117908].SYMPTOM_TEXT"
     ],
     "language": "python",
     "metadata": {},
     "outputs": [
      {
       "output_type": "stream",
       "stream": "stdout",
       "text": [
        "RECVDATE                                               01/05/1999\n",
        "STATE                                                          CA\n",
        "AGE_YRS                                                       0.9\n",
        "CAGE_YR                                                         0\n",
        "CAGE_MO                                                       0.9\n",
        "SEX                                                             F\n",
        "RPT_DATE                                               12/28/1998\n",
        "SYMPTOM_TEXT    pt recv vax 27OCT98  & 10NOV severe vomiting, ...\n",
        "DIED                                                            Y\n",
        "DATEDIED                                               12/12/1998\n",
        "L_THREAT                                                      NaN\n",
        "ER_VISIT                                                      NaN\n",
        "HOSPITAL                                                      NaN\n",
        "HOSPDAYS                                                      NaN\n",
        "X_STAY                                                        NaN\n",
        "DISABLE                                                       NaN\n",
        "RECOVD                                                          N\n",
        "VAX_DATE                                               10/27/1998\n",
        "ONSET_DATE                                             11/10/1998\n",
        "NUMDAYS                                                        14\n",
        "LAB_DATA        glucose on admission 1310;NA 124;BUN 31;SGPT 2...\n",
        "V_ADMINBY                                                     PVT\n",
        "V_FUNDBY                                                      PVT\n",
        "OTHER_MEDS                                      Beclovent inhaler\n",
        "CUR_ILL                                                       NaN\n",
        "HISTORY         asthma, rt lower lobe infiltrate, innocent murmur\n",
        "PRIOR_VAX                                                    NONE\n",
        "SPLTTYPE                                                      NaN\n",
        "Name: 117908, dtype: object\n"
       ]
      },
      {
       "metadata": {},
       "output_type": "pyout",
       "prompt_number": 11,
       "text": [
        "'pt recv vax 27OCT98  & 10NOV severe vomiting, glucose 92, felt prob viral age;25NOV seen for OM;29NOV cranky, some vomiting w/nl exam;sl weight loss;3DEC vomited againx2;dx DKA w/glucose 1310;'"
       ]
      }
     ],
     "prompt_number": 11
    },
    {
     "cell_type": "code",
     "collapsed": false,
     "input": [
      "vax[vax.index == 117908]"
     ],
     "language": "python",
     "metadata": {},
     "outputs": [
      {
       "html": [
        "<div style=\"max-height:1000px;max-width:1500px;overflow:auto;\">\n",
        "<table border=\"1\" class=\"dataframe\">\n",
        "  <thead>\n",
        "    <tr style=\"text-align: right;\">\n",
        "      <th></th>\n",
        "      <th>VAX_TYPE</th>\n",
        "      <th>VAX_MANU</th>\n",
        "      <th>VAX_LOT</th>\n",
        "      <th>VAX_DOSE</th>\n",
        "      <th>VAX_ROUTE</th>\n",
        "      <th>VAX_SITE</th>\n",
        "      <th>VAX_NAME</th>\n",
        "    </tr>\n",
        "    <tr>\n",
        "      <th>VAERS_ID</th>\n",
        "      <th></th>\n",
        "      <th></th>\n",
        "      <th></th>\n",
        "      <th></th>\n",
        "      <th></th>\n",
        "      <th></th>\n",
        "      <th></th>\n",
        "    </tr>\n",
        "  </thead>\n",
        "  <tbody>\n",
        "    <tr>\n",
        "      <th>117908</th>\n",
        "      <td> FLU3</td>\n",
        "      <td> PFIZER\\WYETH</td>\n",
        "      <td> 4988202</td>\n",
        "      <td> 0</td>\n",
        "      <td> IM</td>\n",
        "      <td> LL</td>\n",
        "      <td> INFLUENZA (SEASONAL) (FLUSHIELD)</td>\n",
        "    </tr>\n",
        "  </tbody>\n",
        "</table>\n",
        "<p>1 rows \u00d7 7 columns</p>\n",
        "</div>"
       ],
       "metadata": {},
       "output_type": "pyout",
       "prompt_number": 12,
       "text": [
        "         VAX_TYPE      VAX_MANU  VAX_LOT  VAX_DOSE VAX_ROUTE VAX_SITE  \\\n",
        "VAERS_ID                                                                \n",
        "117908       FLU3  PFIZER\\WYETH  4988202         0        IM       LL   \n",
        "\n",
        "                                  VAX_NAME  \n",
        "VAERS_ID                                    \n",
        "117908    INFLUENZA (SEASONAL) (FLUSHIELD)  \n",
        "\n",
        "[1 rows x 7 columns]"
       ]
      }
     ],
     "prompt_number": 12
    },
    {
     "cell_type": "code",
     "collapsed": false,
     "input": [
      "symptoms[symptoms.index == 117908]"
     ],
     "language": "python",
     "metadata": {},
     "outputs": [
      {
       "html": [
        "<div style=\"max-height:1000px;max-width:1500px;overflow:auto;\">\n",
        "<table border=\"1\" class=\"dataframe\">\n",
        "  <thead>\n",
        "    <tr style=\"text-align: right;\">\n",
        "      <th></th>\n",
        "      <th>SYMPTOM1</th>\n",
        "      <th>SYMPTOMVERSION1</th>\n",
        "      <th>SYMPTOM2</th>\n",
        "      <th>SYMPTOMVERSION2</th>\n",
        "      <th>SYMPTOM3</th>\n",
        "      <th>SYMPTOMVERSION3</th>\n",
        "      <th>SYMPTOM4</th>\n",
        "      <th>SYMPTOMVERSION4</th>\n",
        "      <th>SYMPTOM5</th>\n",
        "      <th>SYMPTOMVERSION5</th>\n",
        "    </tr>\n",
        "    <tr>\n",
        "      <th>VAERS_ID</th>\n",
        "      <th></th>\n",
        "      <th></th>\n",
        "      <th></th>\n",
        "      <th></th>\n",
        "      <th></th>\n",
        "      <th></th>\n",
        "      <th></th>\n",
        "      <th></th>\n",
        "      <th></th>\n",
        "      <th></th>\n",
        "    </tr>\n",
        "  </thead>\n",
        "  <tbody>\n",
        "    <tr>\n",
        "      <th>117908</th>\n",
        "      <td> Agitation</td>\n",
        "      <td> 8.1</td>\n",
        "      <td> Alanine aminotransferase increased</td>\n",
        "      <td> 8.1</td>\n",
        "      <td> Aspartate aminotransferase increased</td>\n",
        "      <td> 8.1</td>\n",
        "      <td> Blood urea increased</td>\n",
        "      <td> 8.1</td>\n",
        "      <td>  Brain oedema</td>\n",
        "      <td> 8.1</td>\n",
        "    </tr>\n",
        "    <tr>\n",
        "      <th>117908</th>\n",
        "      <td>      Coma</td>\n",
        "      <td> 8.1</td>\n",
        "      <td>                  Diabetes mellitus</td>\n",
        "      <td> 8.1</td>\n",
        "      <td>                      Gastroenteritis</td>\n",
        "      <td> 8.1</td>\n",
        "      <td>       Hyperglycaemia</td>\n",
        "      <td> 8.1</td>\n",
        "      <td> Hyponatraemia</td>\n",
        "      <td> 8.1</td>\n",
        "    </tr>\n",
        "    <tr>\n",
        "      <th>117908</th>\n",
        "      <td> Infection</td>\n",
        "      <td> 8.1</td>\n",
        "      <td>                            Ketosis</td>\n",
        "      <td> 8.1</td>\n",
        "      <td>                             Vomiting</td>\n",
        "      <td> 8.1</td>\n",
        "      <td>     Weight decreased</td>\n",
        "      <td> 8.1</td>\n",
        "      <td>           NaN</td>\n",
        "      <td> NaN</td>\n",
        "    </tr>\n",
        "  </tbody>\n",
        "</table>\n",
        "<p>3 rows \u00d7 10 columns</p>\n",
        "</div>"
       ],
       "metadata": {},
       "output_type": "pyout",
       "prompt_number": 13,
       "text": [
        "           SYMPTOM1  SYMPTOMVERSION1                            SYMPTOM2  \\\n",
        "VAERS_ID                                                                   \n",
        "117908    Agitation              8.1  Alanine aminotransferase increased   \n",
        "117908         Coma              8.1                   Diabetes mellitus   \n",
        "117908    Infection              8.1                             Ketosis   \n",
        "\n",
        "          SYMPTOMVERSION2                              SYMPTOM3  \\\n",
        "VAERS_ID                                                          \n",
        "117908                8.1  Aspartate aminotransferase increased   \n",
        "117908                8.1                       Gastroenteritis   \n",
        "117908                8.1                              Vomiting   \n",
        "\n",
        "          SYMPTOMVERSION3              SYMPTOM4  SYMPTOMVERSION4  \\\n",
        "VAERS_ID                                                           \n",
        "117908                8.1  Blood urea increased              8.1   \n",
        "117908                8.1        Hyperglycaemia              8.1   \n",
        "117908                8.1      Weight decreased              8.1   \n",
        "\n",
        "               SYMPTOM5  SYMPTOMVERSION5  \n",
        "VAERS_ID                                  \n",
        "117908     Brain oedema              8.1  \n",
        "117908    Hyponatraemia              8.1  \n",
        "117908              NaN              NaN  \n",
        "\n",
        "[3 rows x 10 columns]"
       ]
      }
     ],
     "prompt_number": 13
    },
    {
     "cell_type": "code",
     "collapsed": false,
     "input": [
      "flu_vaxxers_idx = vax[vax.VAX_TYPE.str.contains(\"FLU\")].index\n",
      "flu_vaxxers = data[data.index.isin(flu_vaxxers_idx)]\n",
      "non_flu_vaxxers = data[~data.index.isin(flu_vaxxers_idx)]\n",
      "print(len(flu_vaxxers), len(non_flu_vaxxers))"
     ],
     "language": "python",
     "metadata": {},
     "outputs": [
      {
       "output_type": "stream",
       "stream": "stdout",
       "text": [
        "1700 10549\n"
       ]
      }
     ],
     "prompt_number": 14
    },
    {
     "cell_type": "code",
     "collapsed": false,
     "input": [
      "flu_vaxxers.AGE_YRS.mean()"
     ],
     "language": "python",
     "metadata": {},
     "outputs": [
      {
       "metadata": {},
       "output_type": "pyout",
       "prompt_number": 15,
       "text": [
        "47.675095541401276"
       ]
      }
     ],
     "prompt_number": 15
    },
    {
     "cell_type": "code",
     "collapsed": false,
     "input": [
      "non_flu_vaxxers.AGE_YRS.mean()"
     ],
     "language": "python",
     "metadata": {},
     "outputs": [
      {
       "metadata": {},
       "output_type": "pyout",
       "prompt_number": 16,
       "text": [
        "17.280617424634912"
       ]
      }
     ],
     "prompt_number": 16
    },
    {
     "cell_type": "code",
     "collapsed": false,
     "input": [
      "print(len(non_flu_vaxxers[non_flu_vaxxers.AGE_YRS < 20][non_flu_vaxxers.DIED == \"Y\"]))\n",
      "print(len(non_flu_vaxxers[non_flu_vaxxers.AGE_YRS < 20]))"
     ],
     "language": "python",
     "metadata": {},
     "outputs": [
      {
       "output_type": "stream",
       "stream": "stdout",
       "text": [
        "109\n",
        "6372\n"
       ]
      },
      {
       "output_type": "stream",
       "stream": "stderr",
       "text": [
        "/Users/d498902/Envs/stats/lib/python3.4/site-packages/pandas/core/frame.py:1686: UserWarning: Boolean Series key will be reindexed to match DataFrame index.\n",
        "  \"DataFrame index.\", UserWarning)\n"
       ]
      }
     ],
     "prompt_number": 17
    },
    {
     "cell_type": "code",
     "collapsed": false,
     "input": [
      "print(len(flu_vaxxers[flu_vaxxers.AGE_YRS < 20][flu_vaxxers.DIED == 'Y']))\n",
      "print(len(flu_vaxxers[flu_vaxxers.AGE_YRS < 20]))"
     ],
     "language": "python",
     "metadata": {},
     "outputs": [
      {
       "output_type": "stream",
       "stream": "stdout",
       "text": [
        "3\n",
        "132\n"
       ]
      }
     ],
     "prompt_number": 18
    },
    {
     "cell_type": "code",
     "collapsed": false,
     "input": [
      "from scipy import stats\n",
      "oddsratio, pvalue = stats.fisher_exact([[109, 6372], [3, 132]])"
     ],
     "language": "python",
     "metadata": {},
     "outputs": [],
     "prompt_number": 19
    },
    {
     "cell_type": "code",
     "collapsed": false,
     "input": [
      "pvalue"
     ],
     "language": "python",
     "metadata": {},
     "outputs": [
      {
       "metadata": {},
       "output_type": "pyout",
       "prompt_number": 20,
       "text": [
        "0.49887148141449822"
       ]
      }
     ],
     "prompt_number": 20
    },
    {
     "cell_type": "code",
     "collapsed": false,
     "input": [
      "oddsratio"
     ],
     "language": "python",
     "metadata": {},
     "outputs": [
      {
       "metadata": {},
       "output_type": "pyout",
       "prompt_number": 21,
       "text": [
        "0.75266792215944756"
       ]
      }
     ],
     "prompt_number": 21
    },
    {
     "cell_type": "code",
     "collapsed": false,
     "input": [
      "a = len(non_flu_vaxxers[non_flu_vaxxers.DIED == \"Y\"])\n",
      "b = len(non_flu_vaxxers)\n",
      "c = len(flu_vaxxers[flu_vaxxers.DIED == \"Y\"])\n",
      "d = len(flu_vaxxers)\n",
      "oddsratio, pvalue = stats.fisher_exact([[a, b], [c, d]])\n",
      "print(oddsratio, pvalue)"
     ],
     "language": "python",
     "metadata": {},
     "outputs": [
      {
       "output_type": "stream",
       "stream": "stdout",
       "text": [
        "1.37516984232 0.274115058908\n"
       ]
      }
     ],
     "prompt_number": 22
    },
    {
     "cell_type": "code",
     "collapsed": false,
     "input": [
      "df = data.copy()\n",
      "# data without age is unusable\n",
      "df = data.dropna(subset=[\"AGE_YRS\"])\n",
      "\n",
      "vaxes = set(vax.VAX_TYPE)\n",
      "#vaxes = ['HBHEPB']\n",
      "\n",
      "for vtype in vaxes:\n",
      "    vaxxers_idx = vax[vax.VAX_TYPE == vtype].index\n",
      "    vaxxers = df[df.index.isin(vaxxers_idx)]\n",
      "    non_vaxxers = df[~df.index.isin(vaxxers_idx)]\n",
      "    a = len(vaxxers[vaxxers.DIED == \"Y\"])\n",
      "    b = len(vaxxers[vaxxers.DIED != \"Y\"])\n",
      "    c = len(non_vaxxers[non_vaxxers.DIED == \"Y\"])\n",
      "    d = len(non_vaxxers[non_vaxxers.DIED != \"Y\"])\n",
      "    oddsratio, pvalue = stats.fisher_exact([[a, b], [c, d]])\n",
      "    print()\n",
      "    print(vtype, pvalue, oddsratio)\n",
      "    print(a, b, c, d, a + b + c + d)\n",
      "    print(vaxxers.AGE_YRS.mean(), non_vaxxers.AGE_YRS.mean())    "
     ],
     "language": "python",
     "metadata": {},
     "outputs": [
      {
       "output_type": "stream",
       "stream": "stdout",
       "text": [
        "\n",
        "UNK 1.0 0.0\n",
        "0 60 139 11024 11223\n",
        "28.54 21.4948759294\n",
        "\n",
        "MEN 1.0 0.0\n",
        "0 54 139 11030 11223\n",
        "28.2814814815 21.4999104665\n",
        "\n"
       ]
      },
      {
       "output_type": "stream",
       "stream": "stdout",
       "text": [
        "HEPA 0.0347329423868 0.0\n",
        "0 307 139 10777 11223\n",
        "32.435504886 21.2259069256\n",
        "\n",
        "PPV 0.734238451026 1.0773526715\n",
        "10 744 129 10340 11223\n",
        "56.1737400531 19.0376062661\n",
        "\n"
       ]
      },
      {
       "output_type": "stream",
       "stream": "stdout",
       "text": [
        "RAB 0.640975771751 0.0\n",
        "0 103 139 10981 11223\n",
        "32.4165048544 21.4317266187\n",
        "\n",
        "BCG 1.0 0.0\n",
        "0 1 139 11083 11223\n",
        "56.5 21.529424345\n",
        "\n"
       ]
      },
      {
       "output_type": "stream",
       "stream": "stdout",
       "text": [
        "DTAPH 1.0 0.0\n",
        "0 3 139 11081 11223\n",
        "1.23333333333 21.5379679144\n",
        "\n",
        "TTOX 0.407534749077 0.0\n",
        "0 114 139 10970 11223\n",
        "40.1403508772 21.3415879017\n",
        "\n"
       ]
      },
      {
       "output_type": "stream",
       "stream": "stdout",
       "text": [
        "TYP 0.666088535285 1.32267599686\n",
        "2 121 137 10963 11223\n",
        "36.6894308943 21.3645855856\n",
        "\n",
        "MMR 0.00113556919612 0.391761221163\n",
        "11 1994 128 9090 11223\n",
        "7.4536159601 24.5948361901\n",
        "\n"
       ]
      },
      {
       "output_type": "stream",
       "stream": "stdout",
       "text": [
        "MEA 0.24943068608 3.64361001318\n",
        "1 22 138 11062 11223\n",
        "23.9086956522 21.5276607143\n",
        "\n"
       ]
      },
      {
       "output_type": "stream",
       "stream": "stdout",
       "text": [
        "HIBV 2.86137260249e-09 3.15884871749\n",
        "48 1586 91 9498 11223\n",
        "1.14547123623 25.0065700282\n",
        "\n",
        "HBHEPB 6.15267741629e-12 7.67676181261\n",
        "22 265 117 10819 11223\n",
        "0.826829268293 22.0759326993\n",
        "\n"
       ]
      },
      {
       "output_type": "stream",
       "stream": "stdout",
       "text": [
        "DT 0.567198368149 1.20970575318\n",
        "1 66 138 11018 11223\n",
        "18.6567164179 21.5498117605\n",
        "\n",
        "TD 2.23805753924e-06 0.0\n",
        "0 1047 139 10037 11223\n",
        "33.8450811843 20.2657134434\n",
        "\n"
       ]
      },
      {
       "output_type": "stream",
       "stream": "stdout",
       "text": [
        "DTPHIB 0.0530225135638 2.95595959596\n",
        "4 110 135 10974 11223\n",
        "1.44473684211 21.7386803493\n",
        "\n",
        "DTPIPV 1.0 0.0\n",
        "0 1 139 11083 11223\n",
        "0.5 21.5344145429\n",
        "\n"
       ]
      },
      {
       "output_type": "stream",
       "stream": "stdout",
       "text": [
        "PLAGUE 1.0 0.0\n",
        "0 1 139 11083 11223\n",
        "20.0 21.5326768847\n",
        "\n",
        "DTPPHIB 1.0 0.0\n",
        "0 1 139 11083 11223\n",
        "1.3 21.5343432543\n",
        "\n"
       ]
      },
      {
       "output_type": "stream",
       "stream": "stdout",
       "text": [
        "VARCEL 1.31017368942e-06 0.247988679365\n",
        "9 2419 130 8665 11223\n",
        "7.67471169687 25.3582148948\n",
        "\n",
        "YF 0.183401594289 2.63802800048\n",
        "2 61 137 11023 11223\n",
        "40.2619047619 21.4268100358\n",
        "\n"
       ]
      },
      {
       "output_type": "stream",
       "stream": "stdout",
       "text": [
        "RUB 1.0 0.0\n",
        "0 22 139 11062 11223\n",
        "40.6363636364 21.4950183019\n",
        "\n",
        "FLU3 0.217755367723 0.685820051414\n",
        "14 1556 125 9528 11223\n",
        "47.6750955414 17.2806174246\n",
        "\n"
       ]
      },
      {
       "output_type": "stream",
       "stream": "stdout",
       "text": [
        "DTAP 1.07879583651e-11 3.38803088803\n",
        "65 2282 74 8802 11223\n",
        "1.83838943332 26.7400856242\n",
        "\n",
        "OPV 1.0 0.960627537837\n",
        "13 1075 126 10009 11223\n",
        "3.59761029412 23.4578687716\n",
        "\n"
       ]
      },
      {
       "output_type": "stream",
       "stream": "stdout",
       "text": [
        "LYME 0.443113623489 0.502367015695\n",
        "2 313 137 10771 11223\n",
        "48.6844444444 20.7484506784\n",
        "\n",
        "HEP 4.88786873265e-06 2.35364259029\n",
        "51 2190 88 8894 11223\n",
        "15.3066041946 23.0859051436\n",
        "\n"
       ]
      },
      {
       "output_type": "stream",
       "stream": "stdout",
       "text": [
        "JEV 0.239999377577 3.81746031746\n",
        "1 21 138 11063 11223\n",
        "33.2363636364 21.5095527185\n",
        "\n",
        "HBPV 1.0 0.0\n",
        "0 8 139 11076 11223\n",
        "0.5875 21.5474810522\n",
        "\n"
       ]
      },
      {
       "output_type": "stream",
       "stream": "stdout",
       "text": [
        "DTP 0.195309876072 1.93212508884\n",
        "5 210 134 10874 11223\n",
        "2.23023255814 21.9095385174\n",
        "\n",
        "ANTH 0.000938474717767 0.0\n",
        "0 613 139 10471 11223\n",
        "34.9450244698 20.7576248822\n",
        "\n"
       ]
      },
      {
       "output_type": "stream",
       "stream": "stdout",
       "text": [
        "MER 1.0 0.0\n",
        "0 1 139 11083 11223\n",
        "3.0 21.5341917662\n",
        "\n",
        "MU 1.0 0.0\n",
        "0 1 139 11083 11223\n",
        "11.0 21.5334788808\n",
        "\n"
       ]
      },
      {
       "output_type": "stream",
       "stream": "stdout",
       "text": [
        "CHOL 1.0 0.0\n",
        "0 4 139 11080 11223\n",
        "29.8 21.5295926553\n",
        "\n",
        "IPV 4.14195375139e-25 7.44513263263\n",
        "59 999 80 10085 11223\n",
        "2.23988657845 23.5405705853\n",
        "\n"
       ]
      },
      {
       "output_type": "stream",
       "stream": "stdout",
       "text": [
        "RV 0.526161977282 1.21102965135\n",
        "7 465 132 10619 11223\n",
        "0.577118644068 22.4525439494\n",
        "\n",
        "SMALL 1.0 0.0\n",
        "0 3 139 11081 11223\n",
        "21.1333333333 21.5326470588\n"
       ]
      }
     ],
     "prompt_number": 23
    },
    {
     "cell_type": "code",
     "collapsed": false,
     "input": [
      "# data is expected global\n",
      "def test_vt(vt, age_min=0, age_max=100):\n",
      "    df = data[data.AGE_YRS >= age_min][data.AGE_YRS <= age_max]\n",
      "    vaxxers_idx = vax[vax.VAX_TYPE == vt].index\n",
      "    vaxxers = df[df.index.isin(vaxxers_idx)]\n",
      "    non_vaxxers = df[~df.index.isin(vaxxers_idx)]\n",
      "    a = len(vaxxers[vaxxers.DIED == \"Y\"])\n",
      "    b = len(vaxxers[vaxxers.DIED != \"Y\"])\n",
      "    c = len(non_vaxxers[non_vaxxers.DIED == \"Y\"])\n",
      "    d = len(non_vaxxers[non_vaxxers.DIED != \"Y\"])\n",
      "    oddsratio, pvalue = stats.fisher_exact([[a, b], [c, d]])\n",
      "    print()\n",
      "    print(len(vaxxers), len(non_vaxxers))\n",
      "    print(vt, pvalue, oddsratio)\n",
      "    print(a, b, c, d, a + b + c + d)\n",
      "    print(vaxxers.AGE_YRS.mean(), non_vaxxers.AGE_YRS.mean())\n",
      "    return vaxxers, non_vaxxers\n",
      "hbhepb, non_hbhepb = test_vt('HBHEPB')"
     ],
     "language": "python",
     "metadata": {},
     "outputs": [
      {
       "output_type": "stream",
       "stream": "stdout",
       "text": [
        "\n",
        "287 10936\n",
        "HBHEPB 6.15267741629e-12 7.67676181261\n",
        "22 265 117 10819 11223\n",
        "0.826829268293 22.0759326993\n"
       ]
      }
     ],
     "prompt_number": 24
    },
    {
     "cell_type": "code",
     "collapsed": false,
     "input": [
      "hbhepb, non_hbhepb = test_vt('HBHEPB', 0.3, 0.3)"
     ],
     "language": "python",
     "metadata": {},
     "outputs": [
      {
       "output_type": "stream",
       "stream": "stdout",
       "text": [
        "\n",
        "28 216\n",
        "HBHEPB 0.119009355923 3.12\n",
        "3 25 8 208 244\n",
        "0.3 0.3\n"
       ]
      }
     ],
     "prompt_number": 25
    },
    {
     "cell_type": "code",
     "collapsed": false,
     "input": [
      "hep, non_hep = test_vt('HEP', 0.3, 0.3)"
     ],
     "language": "python",
     "metadata": {},
     "outputs": [
      {
       "output_type": "stream",
       "stream": "stdout",
       "text": [
        "\n",
        "30 214\n",
        "HEP 0.0333272009241 4.54945054945\n",
        "4 26 7 207 244\n",
        "0.3 0.3\n"
       ]
      }
     ],
     "prompt_number": 26
    },
    {
     "cell_type": "code",
     "collapsed": false,
     "input": [
      "vax[vax.VAX_TYPE == 'HBHEPB'].index"
     ],
     "language": "python",
     "metadata": {},
     "outputs": [
      {
       "metadata": {},
       "output_type": "pyout",
       "prompt_number": 27,
       "text": [
        "Int64Index([117883, 117884, 117891, 118186, 118312, 118462, 118465, 118466, 118499, 118518, 118646, 118660, 118672, 118735, 118787, 118802, 118836, 118839, 118902, 118916, 118928, 119176, 119251, 119446, 119737, 119764, 119799, 120473, 120567, 120812, 120850, 120985, 121000, 121028, 121059, 121068, 121110, 121158, 121235, 121259, 121335, 121427, 121435, 121500, 121525, 121554, 121571, 121609, 121699, 121701, 121792, 121808, 121810, 121855, 121859, 121864, 121865, 121890, 121898, 121922, 121928, 121975, 121993, 122057, 122071, 122138, 122144, 122145, 122159, 122160, 122254, 122410, 122671, 122712, 123001, 123172, 123176, 123191, 123202, 123241, 123251, 123252, 123264, 123316, 123317, 123340, 123342, 123370, 123886, 124129, 124135, 124220, 124739, 124774, 124785, 124961, 125011, 125012, 125114, 125127, ...], dtype='int64')"
       ]
      }
     ],
     "prompt_number": 27
    },
    {
     "cell_type": "code",
     "collapsed": false,
     "input": [
      "vax[vax.VAX_TYPE == 'HEP'].index"
     ],
     "language": "python",
     "metadata": {},
     "outputs": [
      {
       "metadata": {},
       "output_type": "pyout",
       "prompt_number": 28,
       "text": [
        "Int64Index([117875, 117876, 117880, 117882, 117897, 117905, 117911, 117915, 117918, 117919, 117921, 117924, 117929, 117941, 117942, 117944, 117945, 117946, 117954, 117955, 117966, 117973, 117974, 117976, 117978, 117983, 117987, 117991, 117992, 118004, 118007, 118008, 118019, 118025, 118026, 118028, 118051, 118055, 118079, 118083, 118112, 118117, 118124, 118130, 118139, 118140, 118144, 118145, 118147, 118149, 118151, 118152, 118153, 118155, 118156, 118157, 118159, 118162, 118173, 118176, 118177, 118179, 118182, 118207, 118208, 118209, 118213, 118216, 118229, 118230, 118238, 118240, 118242, 118243, 118244, 118246, 118250, 118251, 118272, 118280, 118281, 118283, 118286, 118303, 118304, 118306, 118318, 118321, 118322, 118323, 118324, 118326, 118331, 118334, 118336, 118386, 118387, 118388, 118389, 118390, ...], dtype='int64')"
       ]
      }
     ],
     "prompt_number": 28
    },
    {
     "cell_type": "code",
     "collapsed": false,
     "input": [
      "set(vax[vax.VAX_TYPE == 'HEP'].index).intersection(set(vax[vax.VAX_TYPE == 'HBHEPB'].index))"
     ],
     "language": "python",
     "metadata": {},
     "outputs": [
      {
       "metadata": {},
       "output_type": "pyout",
       "prompt_number": 29,
       "text": [
        "{118928, 121864, 127355, 127356, 127357, 127358, 127359, 127360, 127361}"
       ]
      }
     ],
     "prompt_number": 29
    },
    {
     "cell_type": "code",
     "collapsed": false,
     "input": [
      "print(vax.loc[118928])\n",
      "print(vax.loc[121864])"
     ],
     "language": "python",
     "metadata": {},
     "outputs": [
      {
       "output_type": "stream",
       "stream": "stdout",
       "text": [
        "         VAX_TYPE                VAX_MANU  VAX_LOT  VAX_DOSE VAX_ROUTE  \\\n",
        "VAERS_ID                                                                 \n",
        "118928       DTAP  CONNAUGHT LABORATORIES  0925880       NaN        IM   \n",
        "118928     HBHEPB        MERCK & CO. INC.    0327H       NaN        IM   \n",
        "118928        HEP        MERCK & CO. INC.    1478H       NaN        IM   \n",
        "118928         TD  CONNAUGHT LABORATORIES  0967100       NaN        IM   \n",
        "\n",
        "         VAX_SITE                     VAX_NAME  \n",
        "VAERS_ID                                        \n",
        "118928         LL              DTAP (TRIPEDIA)  \n",
        "118928         RL         HIB + HEP B (COMVAX)  \n",
        "118928         RA              HEP B (FOREIGN)  \n",
        "118928         LA  TD ADSORBED (NO BRAND NAME)  \n",
        "\n",
        "[4 rows x 7 columns]\n",
        "         VAX_TYPE          VAX_MANU VAX_LOT  VAX_DOSE VAX_ROUTE VAX_SITE  \\\n",
        "VAERS_ID                                                                   \n",
        "121864     HBHEPB  MERCK & CO. INC.     NaN       NaN       NaN      NaN   \n",
        "121864        HEP  MERCK & CO. INC.     NaN       NaN       NaN      NaN   \n",
        "\n",
        "                       VAX_NAME  \n",
        "VAERS_ID                         \n",
        "121864     HIB + HEP B (COMVAX)  \n",
        "121864    HEP B (RECOMBIVAX HB)  \n",
        "\n",
        "[2 rows x 7 columns]\n"
       ]
      }
     ],
     "prompt_number": 30
    },
    {
     "cell_type": "code",
     "collapsed": false,
     "input": [
      "hep.index"
     ],
     "language": "python",
     "metadata": {},
     "outputs": [
      {
       "metadata": {},
       "output_type": "pyout",
       "prompt_number": 31,
       "text": [
        "Int64Index([118388, 119266, 119826, 120420, 120482, 120891, 120901, 121007, 121151, 122391, 123424, 124763, 125099, 125585, 125713, 126044, 126077, 126344, 126363, 126992, 127161, 127408, 127878, 128119, 129571, 129871, 131398, 131432, 131547, 132806], dtype='int64')"
       ]
      }
     ],
     "prompt_number": 31
    },
    {
     "cell_type": "code",
     "collapsed": false,
     "input": [
      "hbhepb.index"
     ],
     "language": "python",
     "metadata": {},
     "outputs": [
      {
       "metadata": {},
       "output_type": "pyout",
       "prompt_number": 32,
       "text": [
        "Int64Index([118186, 118660, 118836, 118902, 119737, 122159, 123317, 125458, 125780, 126438, 127409, 127717, 127744, 127757, 127847, 128069, 128248, 128379, 128659, 129456, 129513, 129955, 130324, 130767, 132108, 132636, 131737, 132966], dtype='int64')"
       ]
      }
     ],
     "prompt_number": 32
    },
    {
     "cell_type": "code",
     "collapsed": false,
     "input": [
      "# now we need to test a list of VAX_TYPE\n",
      "\n",
      "# data is expected global - from first cell.\n",
      "def test_vts(vts, age_min=0, age_max=100):\n",
      "    \"\"\"\n",
      "    Take a list of VAX_TYPE.\n",
      "    Test the list against those not in the list for death odds.\n",
      "    \"\"\"\n",
      "    df = data[data.AGE_YRS >= age_min][data.AGE_YRS <= age_max]\n",
      "    \n",
      "    vax_vaxxers = vax[vax.VAX_TYPE.isin(vts)]\n",
      "\n",
      "    vaxxers_idx = vax_vaxxers.index\n",
      "    vaxxers = df[df.index.isin(vaxxers_idx)]\n",
      "    non_vaxxers = df[~df.index.isin(vaxxers_idx)]\n",
      "    a = len(vaxxers[vaxxers.DIED == \"Y\"])\n",
      "    b = len(vaxxers[vaxxers.DIED != \"Y\"])\n",
      "    c = len(non_vaxxers[non_vaxxers.DIED == \"Y\"])\n",
      "    d = len(non_vaxxers[non_vaxxers.DIED != \"Y\"])\n",
      "    oddsratio, pvalue = stats.fisher_exact([[a, b], [c, d]])\n",
      "    print()\n",
      "    print(len(vaxxers), len(non_vaxxers))\n",
      "    print(vts, pvalue, oddsratio)\n",
      "    print(a, b, c, d, a + b + c + d)\n",
      "    print(vaxxers.AGE_YRS.mean(), non_vaxxers.AGE_YRS.mean())\n",
      "    return vaxxers, non_vaxxers\n",
      "hbhepb, non_hbhepb = test_vts(['HBHEPB', 'HEP'], 0.3, 0.3)"
     ],
     "language": "python",
     "metadata": {},
     "outputs": [
      {
       "output_type": "stream",
       "stream": "stdout",
       "text": [
        "\n",
        "58 186\n",
        "['HBHEPB', 'HEP'] 0.00459973660781 6.24509803922\n",
        "7 51 4 182 244\n",
        "0.3 0.3\n"
       ]
      }
     ],
     "prompt_number": 33
    },
    {
     "cell_type": "code",
     "collapsed": false,
     "input": [
      "hbhepb, non_hbhepb = test_vts(['HBHEPB', 'HEP'], 0.3, 0.5)"
     ],
     "language": "python",
     "metadata": {},
     "outputs": [
      {
       "output_type": "stream",
       "stream": "stdout",
       "text": [
        "\n",
        "190 436\n",
        "['HBHEPB', 'HEP'] 8.30684615678e-05 5.25722543353\n",
        "17 173 8 428 626\n",
        "0.415789473684 0.383944954128\n"
       ]
      }
     ],
     "prompt_number": 34
    },
    {
     "cell_type": "code",
     "collapsed": false,
     "input": [
      "hbhepb, non_hbhepb = test_vts(['HBHEPB', 'HEP'], 0, 1)"
     ],
     "language": "python",
     "metadata": {},
     "outputs": [
      {
       "output_type": "stream",
       "stream": "stdout",
       "text": [
        "\n",
        "738 1349\n",
        "['HBHEPB', 'HEP'] 1.33118704219e-11 4.4798643493\n",
        "64 674 28 1321 2087\n",
        "0.361924119241 0.604447739066\n"
       ]
      }
     ],
     "prompt_number": 35
    },
    {
     "cell_type": "markdown",
     "metadata": {},
     "source": [
      "| HEB  | No HEP\n",
      "--- | --- | ---\n",
      "DIED     | 64   | 28 \n",
      "Not DIED | 674  | 1321"
     ]
    },
    {
     "cell_type": "code",
     "collapsed": false,
     "input": [
      "dtp, non_dtp = test_vts(['DTAP', 'DTP'], 0, 1)"
     ],
     "language": "python",
     "metadata": {},
     "outputs": [
      {
       "output_type": "stream",
       "stream": "stdout",
       "text": [
        "\n",
        "1196 891\n",
        "['DTAP', 'DTP'] 0.0173347732739 1.74255426552\n",
        "64 1132 28 863 2087\n",
        "0.365719063545 0.724017957351\n"
       ]
      }
     ],
     "prompt_number": 36
    },
    {
     "cell_type": "code",
     "collapsed": false,
     "input": [
      "a, b = test_vts(['DTAP', 'DTP', 'HEP', 'HBHEPB'], 0, 1)"
     ],
     "language": "python",
     "metadata": {},
     "outputs": [
      {
       "output_type": "stream",
       "stream": "stdout",
       "text": [
        "\n",
        "1389 698\n",
        "['DTAP', 'DTP', 'HEP', 'HBHEPB'] 5.16276077879e-09 6.43459684487\n",
        "85 1304 7 691 2087\n",
        "0.373146148308 0.808309455587\n"
       ]
      }
     ],
     "prompt_number": 37
    },
    {
     "cell_type": "code",
     "collapsed": false,
     "input": [
      "data.index"
     ],
     "language": "python",
     "metadata": {},
     "outputs": [
      {
       "metadata": {},
       "output_type": "pyout",
       "prompt_number": 38,
       "text": [
        "Int64Index([117862, 117865, 117867, 117872, 117873, 117874, 117875, 117876, 117877, 117878, 117879, 117880, 117881, 117882, 117883, 117884, 117885, 117886, 117887, 117889, 117890, 117891, 117892, 117893, 117894, 117895, 117896, 117897, 117898, 117943, 117904, 117905, 117906, 117907, 117908, 117909, 117910, 117911, 117912, 117913, 117914, 117915, 117917, 117918, 117919, 117920, 117921, 117922, 117923, 117924, 117925, 117926, 117927, 117928, 117929, 117930, 117931, 117946, 117939, 117940, 117941, 117942, 117944, 117945, 117947, 117948, 117949, 117950, 117951, 117953, 117954, 117955, 117956, 117957, 117958, 117959, 117960, 117961, 117962, 117963, 117964, 117965, 117966, 117967, 117968, 117969, 117970, 117971, 117972, 117982, 117983, 117984, 117986, 117996, 118017, 118018, 118019, 118021, 118022, 118024, ...], dtype='int64')"
       ]
      }
     ],
     "prompt_number": 38
    },
    {
     "cell_type": "code",
     "collapsed": false,
     "input": [],
     "language": "python",
     "metadata": {},
     "outputs": []
    }
   ],
   "metadata": {}
  }
 ]
}