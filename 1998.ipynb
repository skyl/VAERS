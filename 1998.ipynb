{
 "metadata": {
  "name": "",
  "signature": "sha256:32ca2aadfeb28e6c76aba32df78e62c6e5df63e2de022f911cee0ecc00f9e752"
 },
 "nbformat": 3,
 "nbformat_minor": 0,
 "worksheets": [
  {
   "cells": [
    {
     "cell_type": "code",
     "collapsed": false,
     "input": [
      "%matplotlib inline\n",
      "import pandas as pd\n",
      "from scipy import stats"
     ],
     "language": "python",
     "metadata": {},
     "outputs": [],
     "prompt_number": 17
    },
    {
     "cell_type": "code",
     "collapsed": false,
     "input": [
      "data = pd.DataFrame.from_csv(\"./data/1998VAERSDATA.csv\")\n",
      "vax = pd.DataFrame.from_csv(\"./data/1998VAERSVAX.csv\")\n",
      "symptoms = pd.DataFrame.from_csv(\"./data/1998VAERSSYMPTOMS.csv\")"
     ],
     "language": "python",
     "metadata": {},
     "outputs": [],
     "prompt_number": 2
    },
    {
     "cell_type": "code",
     "collapsed": false,
     "input": [
      "print(len(data))"
     ],
     "language": "python",
     "metadata": {},
     "outputs": [
      {
       "output_type": "stream",
       "stream": "stdout",
       "text": [
        "9978\n"
       ]
      }
     ],
     "prompt_number": 3
    },
    {
     "cell_type": "code",
     "collapsed": false,
     "input": [
      "# between the ages of 1 and 7\n",
      "data1_7 = data[(data.AGE_YRS < 7) & (data.AGE_YRS > 1)]"
     ],
     "language": "python",
     "metadata": {},
     "outputs": [],
     "prompt_number": 4
    },
    {
     "cell_type": "code",
     "collapsed": false,
     "input": [
      "len(data1_7)"
     ],
     "language": "python",
     "metadata": {},
     "outputs": [
      {
       "metadata": {},
       "output_type": "pyout",
       "prompt_number": 5,
       "text": [
        "2392"
       ]
      }
     ],
     "prompt_number": 5
    },
    {
     "cell_type": "code",
     "collapsed": false,
     "input": [
      "data.AGE_YRS.hist()"
     ],
     "language": "python",
     "metadata": {},
     "outputs": [
      {
       "metadata": {},
       "output_type": "pyout",
       "prompt_number": 8,
       "text": [
        "<matplotlib.axes.AxesSubplot at 0x10cd3e240>"
       ]
      },
      {
       "metadata": {},
       "output_type": "display_data",
       "png": "[encoded data removed]",
       "text": [
        "<matplotlib.figure.Figure at 0x10e6a5d30>"
       ]
      }
     ],
     "prompt_number": 8
    },
    {
     "cell_type": "code",
     "collapsed": false,
     "input": [
      "data1_7.AGE_YRS.hist()"
     ],
     "language": "python",
     "metadata": {},
     "outputs": [
      {
       "metadata": {},
       "output_type": "pyout",
       "prompt_number": 9,
       "text": [
        "<matplotlib.axes.AxesSubplot at 0x10cd52320>"
       ]
      },
      {
       "metadata": {},
       "output_type": "display_data",
       "png": "[encoded data removed]",
       "text": [
        "<matplotlib.figure.Figure at 0x10e6a5eb8>"
       ]
      }
     ],
     "prompt_number": 9
    },
    {
     "cell_type": "code",
     "collapsed": false,
     "input": [
      "vax.VAX_TYPE.value_counts()"
     ],
     "language": "python",
     "metadata": {},
     "outputs": [
      {
       "metadata": {},
       "output_type": "pyout",
       "prompt_number": 12,
       "text": [
        "HEP        2416\n",
        "VARCEL     1913\n",
        "MMR        1825\n",
        "FLU3       1771\n",
        "DTAP       1691\n",
        "HIBV       1242\n",
        "OPV        1098\n",
        "TD         1058\n",
        "PPV         778\n",
        "IPV         582\n",
        "DTPHIB      274\n",
        "DTP         263\n",
        "HEPA        231\n",
        "HBHEPB      128\n",
        "TTOX        111\n",
        "TYP         107\n",
        "RAB          93\n",
        "MEN          91\n",
        "DT           67\n",
        "ANTH         62\n",
        "YF           47\n",
        "RUB          46\n",
        "MEA          30\n",
        "JEV          25\n",
        "RV           23\n",
        "UNK          21\n",
        "CHOL          7\n",
        "MER           6\n",
        "MU            6\n",
        "PLAGUE        2\n",
        "DTPPHIB       1\n",
        "TBE           1\n",
        "BCG           1\n",
        "dtype: int64"
       ]
      }
     ],
     "prompt_number": 12
    },
    {
     "cell_type": "code",
     "collapsed": false,
     "input": [
      "vax.loc[data1_7.index].VAX_TYPE.value_counts()"
     ],
     "language": "python",
     "metadata": {},
     "outputs": [
      {
       "metadata": {},
       "output_type": "pyout",
       "prompt_number": 13,
       "text": [
        "VARCEL    1039\n",
        "MMR       1013\n",
        "DTAP       905\n",
        "OPV        684\n",
        "HIBV       477\n",
        "HEP        304\n",
        "DTP        109\n",
        "DTPHIB     100\n",
        "FLU3        40\n",
        "IPV         38\n",
        "HEPA        32\n",
        "DT          21\n",
        "PPV         19\n",
        "HBHEPB      17\n",
        "MEN         12\n",
        "TYP          7\n",
        "RAB          6\n",
        "TD           4\n",
        "YF           3\n",
        "UNK          3\n",
        "TTOX         3\n",
        "JEV          2\n",
        "MEA          1\n",
        "CHOL         1\n",
        "dtype: int64"
       ]
      }
     ],
     "prompt_number": 13
    },
    {
     "cell_type": "code",
     "collapsed": false,
     "input": [
      "df = data1_7"
     ],
     "language": "python",
     "metadata": {},
     "outputs": [],
     "prompt_number": 14
    },
    {
     "cell_type": "code",
     "collapsed": false,
     "input": [
      "vaxxers_idx = vax[vax.VAX_TYPE.str.contains(\"MMR\")].index\n",
      "vaxxers = df[df.index.isin(vaxxers_idx)]\n",
      "non_vaxxers = df[~df.index.isin(vaxxers_idx)]\n"
     ],
     "language": "python",
     "metadata": {},
     "outputs": [],
     "prompt_number": 15
    },
    {
     "cell_type": "code",
     "collapsed": false,
     "input": [
      "#len(df.loc[vaxxers_idx]) == len(vaxxers)\n",
      "print(len(df.loc[vaxxers_idx]), len(vaxxers))"
     ],
     "language": "python",
     "metadata": {},
     "outputs": [
      {
       "output_type": "stream",
       "stream": "stdout",
       "text": [
        "1825 1013\n"
       ]
      }
     ],
     "prompt_number": 22
    },
    {
     "cell_type": "code",
     "collapsed": false,
     "input": [
      "df.loc[vaxxers_idx].index"
     ],
     "language": "python",
     "metadata": {},
     "outputs": [
      {
       "metadata": {},
       "output_type": "pyout",
       "prompt_number": 29,
       "text": [
        "Int64Index([105942, 105953, 105955, 105957, 105959, 105962, 105966, 105967, 106150, 106153, 106158, 106168, 106172, 106176, 106196, 106198, 106203, 106209, 106225, 106243, 106244, 106253, 106256, 106257, 106259, 106260, 106263, 106267, 106270, 106279, 106320, 106330, 106333, 106338, 106340, 106347, 106350, 106353, 106357, 106362, 106364, 106373, 106375, 106376, 106379, 106382, 106385, 106391, 106393, 106469, 106485, 106486, 106492, 106569, 106577, 106586, 106643, 106649, 106653, 106659, 106662, 106667, 106678, 106700, 106707, 106710, 106713, 106722, 106724, 106727, 106730, 106733, 106737, 106743, 106750, 106759, 106762, 106772, 106776, 106789, 106825, 106826, 106828, 106843, 106848, 106866, 106867, 106917, 106931, 106938, 106947, 106956, 106981, 106995, 107005, 107009, 107011, 107018, 107030, 107036, ...], dtype='int64')"
       ]
      }
     ],
     "prompt_number": 29
    },
    {
     "cell_type": "code",
     "collapsed": false,
     "input": [
      "vaxxers.index"
     ],
     "language": "python",
     "metadata": {},
     "outputs": [
      {
       "metadata": {},
       "output_type": "pyout",
       "prompt_number": 27,
       "text": [
        "Int64Index([105942, 105953, 105955, 105957, 106153, 106176, 106198, 106209, 106243, 106257, 106260, 106267, 106270, 106256, 106279, 106330, 106338, 106350, 106353, 106362, 106373, 106376, 106379, 106382, 106385, 106393, 106469, 106486, 106569, 106649, 106776, 106843, 106867, 106667, 106710, 106713, 106724, 106727, 109650, 106730, 106733, 106737, 106750, 106947, 107011, 107030, 107036, 107051, 107054, 107071, 107170, 107174, 107177, 107195, 107197, 107206, 107207, 107145, 107213, 107218, 107235, 109417, 107212, 107373, 107382, 107402, 107425, 107428, 107421, 107462, 107471, 107482, 107483, 107446, 107683, 107695, 107705, 107708, 107751, 107775, 107783, 107809, 107814, 107822, 107837, 107838, 107845, 107862, 107864, 107866, 107867, 107869, 107870, 107874, 107884, 107885, 107886, 107902, 107920, 107930, ...], dtype='int64')"
       ]
      }
     ],
     "prompt_number": 27
    },
    {
     "cell_type": "code",
     "collapsed": false,
     "input": [
      "df.loc[105959]"
     ],
     "language": "python",
     "metadata": {},
     "outputs": [
      {
       "ename": "KeyError",
       "evalue": "'the label [105959] is not in the [index]'",
       "output_type": "pyerr",
       "traceback": [
        "\u001b[0;31m---------------------------------------------------------------------------\u001b[0m\n\u001b[0;31mKeyError\u001b[0m                                  Traceback (most recent call last)",
        "\u001b[0;32m<ipython-input-30-3c08ca721356>\u001b[0m in \u001b[0;36m<module>\u001b[0;34m()\u001b[0m\n\u001b[0;32m----> 1\u001b[0;31m \u001b[0mdf\u001b[0m\u001b[0;34m.\u001b[0m\u001b[0mloc\u001b[0m\u001b[0;34m[\u001b[0m\u001b[0;36m105959\u001b[0m\u001b[0;34m]\u001b[0m\u001b[0;34m\u001b[0m\u001b[0m\n\u001b[0m",
        "\u001b[0;32m/Users/d498902/Envs/stats/lib/python3.4/site-packages/pandas/core/indexing.py\u001b[0m in \u001b[0;36m__getitem__\u001b[0;34m(self, key)\u001b[0m\n\u001b[1;32m   1026\u001b[0m             \u001b[0;32mreturn\u001b[0m \u001b[0mself\u001b[0m\u001b[0;34m.\u001b[0m\u001b[0m_getitem_tuple\u001b[0m\u001b[0;34m(\u001b[0m\u001b[0mkey\u001b[0m\u001b[0;34m)\u001b[0m\u001b[0;34m\u001b[0m\u001b[0m\n\u001b[1;32m   1027\u001b[0m         \u001b[0;32melse\u001b[0m\u001b[0;34m:\u001b[0m\u001b[0;34m\u001b[0m\u001b[0m\n\u001b[0;32m-> 1028\u001b[0;31m             \u001b[0;32mreturn\u001b[0m \u001b[0mself\u001b[0m\u001b[0;34m.\u001b[0m\u001b[0m_getitem_axis\u001b[0m\u001b[0;34m(\u001b[0m\u001b[0mkey\u001b[0m\u001b[0;34m,\u001b[0m \u001b[0maxis\u001b[0m\u001b[0;34m=\u001b[0m\u001b[0;36m0\u001b[0m\u001b[0;34m)\u001b[0m\u001b[0;34m\u001b[0m\u001b[0m\n\u001b[0m\u001b[1;32m   1029\u001b[0m \u001b[0;34m\u001b[0m\u001b[0m\n\u001b[1;32m   1030\u001b[0m     \u001b[0;32mdef\u001b[0m \u001b[0m_getitem_axis\u001b[0m\u001b[0;34m(\u001b[0m\u001b[0mself\u001b[0m\u001b[0;34m,\u001b[0m \u001b[0mkey\u001b[0m\u001b[0;34m,\u001b[0m \u001b[0maxis\u001b[0m\u001b[0;34m=\u001b[0m\u001b[0;36m0\u001b[0m\u001b[0;34m)\u001b[0m\u001b[0;34m:\u001b[0m\u001b[0;34m\u001b[0m\u001b[0m\n",
        "\u001b[0;32m/Users/d498902/Envs/stats/lib/python3.4/site-packages/pandas/core/indexing.py\u001b[0m in \u001b[0;36m_getitem_axis\u001b[0;34m(self, key, axis)\u001b[0m\n\u001b[1;32m   1150\u001b[0m             \u001b[0;32mreturn\u001b[0m \u001b[0mself\u001b[0m\u001b[0;34m.\u001b[0m\u001b[0m_getitem_iterable\u001b[0m\u001b[0;34m(\u001b[0m\u001b[0mkey\u001b[0m\u001b[0;34m,\u001b[0m \u001b[0maxis\u001b[0m\u001b[0;34m=\u001b[0m\u001b[0maxis\u001b[0m\u001b[0;34m)\u001b[0m\u001b[0;34m\u001b[0m\u001b[0m\n\u001b[1;32m   1151\u001b[0m         \u001b[0;32melse\u001b[0m\u001b[0;34m:\u001b[0m\u001b[0;34m\u001b[0m\u001b[0m\n\u001b[0;32m-> 1152\u001b[0;31m             \u001b[0mself\u001b[0m\u001b[0;34m.\u001b[0m\u001b[0m_has_valid_type\u001b[0m\u001b[0;34m(\u001b[0m\u001b[0mkey\u001b[0m\u001b[0;34m,\u001b[0m \u001b[0maxis\u001b[0m\u001b[0;34m)\u001b[0m\u001b[0;34m\u001b[0m\u001b[0m\n\u001b[0m\u001b[1;32m   1153\u001b[0m             \u001b[0;32mreturn\u001b[0m \u001b[0mself\u001b[0m\u001b[0;34m.\u001b[0m\u001b[0m_get_label\u001b[0m\u001b[0;34m(\u001b[0m\u001b[0mkey\u001b[0m\u001b[0;34m,\u001b[0m \u001b[0maxis\u001b[0m\u001b[0;34m=\u001b[0m\u001b[0maxis\u001b[0m\u001b[0;34m)\u001b[0m\u001b[0;34m\u001b[0m\u001b[0m\n\u001b[1;32m   1154\u001b[0m \u001b[0;34m\u001b[0m\u001b[0m\n",
        "\u001b[0;32m/Users/d498902/Envs/stats/lib/python3.4/site-packages/pandas/core/indexing.py\u001b[0m in \u001b[0;36m_has_valid_type\u001b[0;34m(self, key, axis)\u001b[0m\n\u001b[1;32m   1130\u001b[0m                 \u001b[0;32mraise\u001b[0m\u001b[0;34m\u001b[0m\u001b[0m\n\u001b[1;32m   1131\u001b[0m             \u001b[0;32mexcept\u001b[0m\u001b[0;34m:\u001b[0m\u001b[0;34m\u001b[0m\u001b[0m\n\u001b[0;32m-> 1132\u001b[0;31m                 \u001b[0merror\u001b[0m\u001b[0;34m(\u001b[0m\u001b[0;34m)\u001b[0m\u001b[0;34m\u001b[0m\u001b[0m\n\u001b[0m\u001b[1;32m   1133\u001b[0m \u001b[0;34m\u001b[0m\u001b[0m\n\u001b[1;32m   1134\u001b[0m         \u001b[0;32mreturn\u001b[0m \u001b[0;32mTrue\u001b[0m\u001b[0;34m\u001b[0m\u001b[0m\n",
        "\u001b[0;32m/Users/d498902/Envs/stats/lib/python3.4/site-packages/pandas/core/indexing.py\u001b[0m in \u001b[0;36merror\u001b[0;34m()\u001b[0m\n\u001b[1;32m   1117\u001b[0m                         \"cannot use label indexing with a null key\")\n\u001b[1;32m   1118\u001b[0m                 raise KeyError(\"the label [%s] is not in the [%s]\" %\n\u001b[0;32m-> 1119\u001b[0;31m                                (key, self.obj._get_axis_name(axis)))\n\u001b[0m\u001b[1;32m   1120\u001b[0m \u001b[0;34m\u001b[0m\u001b[0m\n\u001b[1;32m   1121\u001b[0m             \u001b[0;32mtry\u001b[0m\u001b[0;34m:\u001b[0m\u001b[0;34m\u001b[0m\u001b[0m\n",
        "\u001b[0;31mKeyError\u001b[0m: 'the label [105959] is not in the [index]'"
       ]
      }
     ],
     "prompt_number": 30
    },
    {
     "cell_type": "code",
     "collapsed": false,
     "input": [
      "df.index"
     ],
     "language": "python",
     "metadata": {},
     "outputs": [
      {
       "metadata": {},
       "output_type": "pyout",
       "prompt_number": 31,
       "text": [
        "Int64Index([105942, 105944, 105946, 105953, 105955, 105957, 105973, 106090, 106091, 106153, 106173, 106175, 106176, 106178, 106179, 106192, 106194, 106198, 106205, 106207, 106209, 106217, 106229, 106243, 106245, 106255, 106164, 106257, 106260, 106267, 106270, 106271, 107316, 107318, 106256, 106273, 106279, 106330, 106331, 106332, 106338, 106339, 106348, 106350, 106351, 106353, 106362, 106366, 106373, 106376, 106379, 106382, 106383, 106384, 106385, 106393, 106402, 106413, 106448, 106453, 106454, 106462, 106467, 106469, 106471, 106473, 106476, 106482, 106483, 106486, 106488, 106490, 106491, 106493, 106494, 106495, 106499, 106502, 106506, 106507, 106510, 106514, 106521, 106522, 106523, 106525, 106528, 106529, 106530, 106533, 106535, 106537, 106538, 106540, 106544, 106548, 106550, 106554, 106556, 106561, ...], dtype='int64')"
       ]
      }
     ],
     "prompt_number": 31
    },
    {
     "cell_type": "code",
     "collapsed": false,
     "input": [
      "vax.index"
     ],
     "language": "python",
     "metadata": {},
     "outputs": [
      {
       "metadata": {},
       "output_type": "pyout",
       "prompt_number": 32,
       "text": [
        "Int64Index([105935, 105939, 105940, 105941, 105941, 105942, 105942, 105942, 105942, 105943, 105944, 105945, 105945, 105946, 105946, 105947, 105948, 105948, 105949, 105949, 105950, 105951, 105952, 105953, 105953, 105955, 105955, 105956, 105957, 105957, 105957, 105958, 105959, 105959, 105959, 105959, 105959, 105960, 105961, 105962, 105962, 105963, 105964, 105965, 105966, 105966, 105967, 105967, 105968, 105969, 105970, 105971, 105972, 105973, 106087, 106088, 106090, 106091, 106091, 106147, 106148, 106149, 106149, 106150, 106150, 106151, 106152, 106153, 106154, 106155, 106157, 106158, 106158, 106158, 106158, 106159, 106160, 106160, 106160, 106160, 106161, 106161, 106161, 106162, 106164, 106165, 106165, 106166, 106167, 106168, 106169, 106170, 106171, 106172, 106172, 106173, 106175, 106176, 106176, 106176, ...], dtype='int64')"
       ]
      }
     ],
     "prompt_number": 32
    },
    {
     "cell_type": "code",
     "collapsed": false,
     "input": [
      "vax.loc[105959]"
     ],
     "language": "python",
     "metadata": {},
     "outputs": [
      {
       "html": [
        "<div style=\"max-height:1000px;max-width:1500px;overflow:auto;\">\n",
        "<table border=\"1\" class=\"dataframe\">\n",
        "  <thead>\n",
        "    <tr style=\"text-align: right;\">\n",
        "      <th></th>\n",
        "      <th>VAX_TYPE</th>\n",
        "      <th>VAX_MANU</th>\n",
        "      <th>VAX_LOT</th>\n",
        "      <th>VAX_DOSE</th>\n",
        "      <th>VAX_ROUTE</th>\n",
        "      <th>VAX_SITE</th>\n",
        "      <th>VAX_NAME</th>\n",
        "    </tr>\n",
        "    <tr>\n",
        "      <th>VAERS_ID</th>\n",
        "      <th></th>\n",
        "      <th></th>\n",
        "      <th></th>\n",
        "      <th></th>\n",
        "      <th></th>\n",
        "      <th></th>\n",
        "      <th></th>\n",
        "    </tr>\n",
        "  </thead>\n",
        "  <tbody>\n",
        "    <tr>\n",
        "      <th>105959</th>\n",
        "      <td>   DTAP</td>\n",
        "      <td> CONNAUGHT LABORATORIES</td>\n",
        "      <td> 7H81507</td>\n",
        "      <td>  3</td>\n",
        "      <td> NaN</td>\n",
        "      <td>  LA</td>\n",
        "      <td>                    DTAP (TRIPEDIA)</td>\n",
        "    </tr>\n",
        "    <tr>\n",
        "      <th>105959</th>\n",
        "      <td>   HIBV</td>\n",
        "      <td> CONNAUGHT LABORATORIES</td>\n",
        "      <td> 7H81507</td>\n",
        "      <td>  3</td>\n",
        "      <td> NaN</td>\n",
        "      <td>  LA</td>\n",
        "      <td>                     HIB (PROHIBIT)</td>\n",
        "    </tr>\n",
        "    <tr>\n",
        "      <th>105959</th>\n",
        "      <td>    MMR</td>\n",
        "      <td>       MERCK &amp; CO. INC.</td>\n",
        "      <td>   0014E</td>\n",
        "      <td>NaN</td>\n",
        "      <td> NaN</td>\n",
        "      <td> NaN</td>\n",
        "      <td> MEASLES + MUMPS + RUBELLA (MMR II)</td>\n",
        "    </tr>\n",
        "    <tr>\n",
        "      <th>105959</th>\n",
        "      <td>    OPV</td>\n",
        "      <td>   LEDERLE LABORATORIES</td>\n",
        "      <td>   0757F</td>\n",
        "      <td>NaN</td>\n",
        "      <td> NaN</td>\n",
        "      <td> NaN</td>\n",
        "      <td>        POLIO VIRUS, ORAL (ORIMUNE)</td>\n",
        "    </tr>\n",
        "    <tr>\n",
        "      <th>105959</th>\n",
        "      <td> VARCEL</td>\n",
        "      <td>       MERCK &amp; CO. INC.</td>\n",
        "      <td>   0536E</td>\n",
        "      <td>NaN</td>\n",
        "      <td> NaN</td>\n",
        "      <td> NaN</td>\n",
        "      <td>                VARICELLA (VARIVAX)</td>\n",
        "    </tr>\n",
        "  </tbody>\n",
        "</table>\n",
        "<p>5 rows \u00d7 7 columns</p>\n",
        "</div>"
       ],
       "metadata": {},
       "output_type": "pyout",
       "prompt_number": 34,
       "text": [
        "         VAX_TYPE                VAX_MANU  VAX_LOT  VAX_DOSE VAX_ROUTE  \\\n",
        "VAERS_ID                                                                 \n",
        "105959       DTAP  CONNAUGHT LABORATORIES  7H81507         3       NaN   \n",
        "105959       HIBV  CONNAUGHT LABORATORIES  7H81507         3       NaN   \n",
        "105959        MMR        MERCK & CO. INC.    0014E       NaN       NaN   \n",
        "105959        OPV    LEDERLE LABORATORIES    0757F       NaN       NaN   \n",
        "105959     VARCEL        MERCK & CO. INC.    0536E       NaN       NaN   \n",
        "\n",
        "         VAX_SITE                            VAX_NAME  \n",
        "VAERS_ID                                               \n",
        "105959         LA                     DTAP (TRIPEDIA)  \n",
        "105959         LA                      HIB (PROHIBIT)  \n",
        "105959        NaN  MEASLES + MUMPS + RUBELLA (MMR II)  \n",
        "105959        NaN         POLIO VIRUS, ORAL (ORIMUNE)  \n",
        "105959        NaN                 VARICELLA (VARIVAX)  \n",
        "\n",
        "[5 rows x 7 columns]"
       ]
      }
     ],
     "prompt_number": 34
    },
    {
     "cell_type": "code",
     "collapsed": false,
     "input": [
      "len(vax.index), len(set(vax.index))"
     ],
     "language": "python",
     "metadata": {},
     "outputs": [
      {
       "metadata": {},
       "output_type": "pyout",
       "prompt_number": 36,
       "text": [
        "(16017, 9978)"
       ]
      }
     ],
     "prompt_number": 36
    },
    {
     "cell_type": "code",
     "collapsed": false,
     "input": [
      "len(data.index)"
     ],
     "language": "python",
     "metadata": {},
     "outputs": [
      {
       "metadata": {},
       "output_type": "pyout",
       "prompt_number": 37,
       "text": [
        "9978"
       ]
      }
     ],
     "prompt_number": 37
    },
    {
     "cell_type": "code",
     "collapsed": false,
     "input": [
      "105959 in data.index"
     ],
     "language": "python",
     "metadata": {},
     "outputs": [
      {
       "metadata": {},
       "output_type": "pyout",
       "prompt_number": 38,
       "text": [
        "True"
       ]
      }
     ],
     "prompt_number": 38
    },
    {
     "cell_type": "code",
     "collapsed": false,
     "input": [
      "data.loc[105959].SYMPTOM_TEXT"
     ],
     "language": "python",
     "metadata": {},
     "outputs": [
      {
       "metadata": {},
       "output_type": "pyout",
       "prompt_number": 42,
       "text": [
        "'devel chickenpox 10 days p/vax;no known exposure to chickenpox;'"
       ]
      }
     ],
     "prompt_number": 42
    },
    {
     "cell_type": "code",
     "collapsed": false,
     "input": [
      "s = ( \n",
      "  df.SYMPTOM_TEXT.str.contains(\"autis\", case=False) \n",
      "  | df.SYMPTOM_TEXT.str.contains(\"eye contact\", case=False)\n",
      ")\n",
      "a = len(vaxxers.index.intersection(df[s].index))\n",
      "b = len(vaxxers) - a\n",
      "c = len(non_vaxxers.index.intersection(df[s].index))\n",
      "d = len(non_vaxxers) - c\n",
      "\n",
      "print(a, b, c, d)\n",
      "oddsratio, pvalue = stats.fisher_exact([[a, b], [c, d]])\n",
      "print(oddsratio, pvalue)"
     ],
     "language": "python",
     "metadata": {},
     "outputs": [
      {
       "output_type": "stream",
       "stream": "stdout",
       "text": [
        "4 1009 2 1377\n",
        "2.72943508424"
       ]
      },
      {
       "output_type": "stream",
       "stream": "stdout",
       "text": [
        " 0.249509741476\n"
       ]
      }
     ],
     "prompt_number": 18
    },
    {
     "cell_type": "code",
     "collapsed": false,
     "input": [],
     "language": "python",
     "metadata": {},
     "outputs": []
    }
   ],
   "metadata": {}
  }
 ]
}