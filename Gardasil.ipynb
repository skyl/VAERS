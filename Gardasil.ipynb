{
 "metadata": {
  "name": "",
  "signature": "sha256:70445399478ecc54b1c338508174b6f20bf89b3241456c6befc004126d4080ba"
 },
 "nbformat": 3,
 "nbformat_minor": 0,
 "worksheets": [
  {
   "cells": [
    {
     "cell_type": "code",
     "collapsed": false,
     "input": [
      "%matplotlib inline\n",
      "import pandas as pd\n",
      "from scipy import stats\n"
     ],
     "language": "python",
     "metadata": {},
     "outputs": [],
     "prompt_number": 1
    },
    {
     "cell_type": "code",
     "collapsed": false,
     "input": [
      "data = pd.DataFrame.from_csv(\"./data/2010VAERSDATA.csv\", encoding=\"ISO-8859-1\")\n",
      "vax = pd.DataFrame.from_csv(\"./data/2010VAERSVAX.csv\", encoding=\"ISO-8859-1\")\n",
      "symptoms = pd.DataFrame.from_csv(\"./data/2010VAERSSYMPTOMS.csv\", encoding=\"ISO-8859-1\")"
     ],
     "language": "python",
     "metadata": {},
     "outputs": [],
     "prompt_number": 7
    },
    {
     "cell_type": "code",
     "collapsed": false,
     "input": [
      "got_hpv_idx = vax[vax.VAX_TYPE.str.contains(\"HPV\")].index\n",
      "got_hpv_idx"
     ],
     "language": "python",
     "metadata": {},
     "outputs": [
      {
       "metadata": {},
       "output_type": "pyout",
       "prompt_number": 12,
       "text": [
        "Int64Index([375655, 375660, 375661, 375681, 375693, 375746, 375760, 375798, 375851, 375868, 375881, 375886, 375941, 375974, 375981, 376004, 376009, 376036, 376070, 376071, 376090, 376184, 376312, 376362, 376406, 376524, 376541, 376574, 376586, 376611, 376617, 376647, 376650, 376657, 376713, 376809, 376847, 376848, 376942, 377069, 377129, 377130, 377273, 377318, 377319, 377327, 377419, 377426, 377435, 377512, 377519, 377617, 377649, 377657, 377659, 377680, 377699, 377729, 377758, 377776, 377782, 377800, 377804, 377841, 377866, 377874, 377929, 377972, 377984, 378037, 378041, 378095, 378098, 378204, 378243, 378278, 378306, 378361, 378370, 378395, 378397, 378425, 378444, 378544, 378556, 378615, 378644, 378647, 378718, 378739, 378758, 378799, 378804, 378805, 378806, 378807, 378882, 378921, 378963, 379011, ...], dtype='int64')"
       ]
      }
     ],
     "prompt_number": 12
    },
    {
     "cell_type": "code",
     "collapsed": false,
     "input": [
      "not_hpv_idx = vax[~vax.VAX_TYPE.str.contains(\"HPV\")].index\n",
      "not_hpv_idx"
     ],
     "language": "python",
     "metadata": {},
     "outputs": [
      {
       "metadata": {},
       "output_type": "pyout",
       "prompt_number": 13,
       "text": [
        "Int64Index([375646, 375647, 375648, 375650, 375651, 375653, 375654, 375654, 375656, 375657, 375658, 375659, 375660, 375662, 375663, 375664, 375665, 375666, 375667, 375682, 375683, 375684, 375685, 375686, 375687, 375688, 375689, 375690, 375691, 375692, 375694, 375695, 375695, 375695, 375696, 375697, 375697, 375697, 375697, 375698, 375699, 375699, 375700, 375700, 375700, 375701, 375701, 375702, 375707, 375708, 375708, 375709, 375710, 375715, 375716, 375718, 375720, 375720, 375720, 375720, 375721, 375722, 375723, 375724, 375725, 375726, 375727, 375728, 375729, 375730, 375730, 375731, 375732, 375733, 375734, 375735, 375735, 375735, 375735, 375735, 375737, 375738, 375739, 375740, 375741, 375741, 375743, 375743, 375743, 375743, 375744, 375745, 375745, 375745, 375745, 375745, 375746, 375747, 375748, 375749, ...], dtype='int64')"
       ]
      }
     ],
     "prompt_number": 13
    },
    {
     "cell_type": "code",
     "collapsed": false,
     "input": [
      "len(set(got_hpv_idx).intersection(set(not_hpv_idx)))"
     ],
     "language": "python",
     "metadata": {},
     "outputs": [
      {
       "metadata": {},
       "output_type": "pyout",
       "prompt_number": 15,
       "text": [
        "825"
       ]
      }
     ],
     "prompt_number": 15
    },
    {
     "cell_type": "code",
     "collapsed": false,
     "input": [
      "len(data)"
     ],
     "language": "python",
     "metadata": {},
     "outputs": [
      {
       "metadata": {},
       "output_type": "pyout",
       "prompt_number": 16,
       "text": [
        "31624"
       ]
      }
     ],
     "prompt_number": 16
    },
    {
     "cell_type": "code",
     "collapsed": false,
     "input": [
      "len(data.loc[got_hpv_idx])"
     ],
     "language": "python",
     "metadata": {},
     "outputs": [
      {
       "metadata": {},
       "output_type": "pyout",
       "prompt_number": 17,
       "text": [
        "2777"
       ]
      }
     ],
     "prompt_number": 17
    },
    {
     "cell_type": "code",
     "collapsed": false,
     "input": [
      "len(data.loc[data.index.isin(got_hpv_idx)])"
     ],
     "language": "python",
     "metadata": {},
     "outputs": [
      {
       "metadata": {},
       "output_type": "pyout",
       "prompt_number": 18,
       "text": [
        "2777"
       ]
      }
     ],
     "prompt_number": 18
    },
    {
     "cell_type": "code",
     "collapsed": false,
     "input": [
      "len(data.loc[~data.index.isin(got_hpv_idx)])"
     ],
     "language": "python",
     "metadata": {},
     "outputs": [
      {
       "metadata": {},
       "output_type": "pyout",
       "prompt_number": 20,
       "text": [
        "28847"
       ]
      }
     ],
     "prompt_number": 20
    },
    {
     "cell_type": "code",
     "collapsed": false,
     "input": [
      "2777 + 28847"
     ],
     "language": "python",
     "metadata": {},
     "outputs": [
      {
       "metadata": {},
       "output_type": "pyout",
       "prompt_number": 21,
       "text": [
        "31624"
       ]
      }
     ],
     "prompt_number": 21
    },
    {
     "cell_type": "code",
     "collapsed": false,
     "input": [
      "data.loc[data.index.isin(got_hpv_idx)].DIED.value_counts()"
     ],
     "language": "python",
     "metadata": {},
     "outputs": [
      {
       "metadata": {},
       "output_type": "pyout",
       "prompt_number": 26,
       "text": [
        "Y    14\n",
        "dtype: int64"
       ]
      }
     ],
     "prompt_number": 26
    },
    {
     "cell_type": "code",
     "collapsed": false,
     "input": [
      "data.loc[~data.index.isin(got_hpv_idx)].DIED.value_counts()"
     ],
     "language": "python",
     "metadata": {},
     "outputs": [
      {
       "metadata": {},
       "output_type": "pyout",
       "prompt_number": 27,
       "text": [
        "Y    146\n",
        "dtype: int64"
       ]
      }
     ],
     "prompt_number": 27
    },
    {
     "cell_type": "code",
     "collapsed": false,
     "input": [
      "oddsratio, pvalue = stats.fisher_exact([[14, 2777 - 14], [146, 28847 - 146]])\n",
      "print(oddsratio, pvalue)"
     ],
     "language": "python",
     "metadata": {},
     "outputs": [
      {
       "output_type": "stream",
       "stream": "stdout",
       "text": [
        "0.996073356834 1.0\n"
       ]
      }
     ],
     "prompt_number": 28
    },
    {
     "cell_type": "code",
     "collapsed": false,
     "input": [
      "14/2777."
     ],
     "language": "python",
     "metadata": {},
     "outputs": [
      {
       "metadata": {},
       "output_type": "pyout",
       "prompt_number": 29,
       "text": [
        "0.005041411595246669"
       ]
      }
     ],
     "prompt_number": 29
    },
    {
     "cell_type": "code",
     "collapsed": false,
     "input": [
      "146/28847."
     ],
     "language": "python",
     "metadata": {},
     "outputs": [
      {
       "metadata": {},
       "output_type": "pyout",
       "prompt_number": 30,
       "text": [
        "0.005061184871910424"
       ]
      }
     ],
     "prompt_number": 30
    },
    {
     "cell_type": "code",
     "collapsed": false,
     "input": [
      "died_idx = data[data.DIED == \"Y\"].index"
     ],
     "language": "python",
     "metadata": {},
     "outputs": [],
     "prompt_number": 35
    },
    {
     "cell_type": "code",
     "collapsed": false,
     "input": [
      "vax.loc[died_idx].VAX_TYPE.value_counts()"
     ],
     "language": "python",
     "metadata": {},
     "outputs": [
      {
       "metadata": {},
       "output_type": "pyout",
       "prompt_number": 37,
       "text": [
        "FLU3          41\n",
        "DTAPIPVHIB    29\n",
        "FLU(H1N1)     27\n",
        "PNC           25\n",
        "HEP           22\n",
        "RV5           21\n",
        "PNC13         18\n",
        "HPV4          14\n",
        "HIBV          13\n",
        "HEPA          10\n",
        "PPV           10\n",
        "DTAPHEPBIP     9\n",
        "VARZOS         7\n",
        "RV1            7\n",
        "MNQ            7\n",
        "TDAP           6\n",
        "VARCEL         6\n",
        "MMR            5\n",
        "DTAP           5\n",
        "IPV            4\n",
        "FLUX(H1N1)     3\n",
        "FLUN(H1N1)     3\n",
        "FLUN3          3\n",
        "MEN            2\n",
        "OPV            1\n",
        "UNK            1\n",
        "YF             1\n",
        "HEPAB          1\n",
        "dtype: int64"
       ]
      }
     ],
     "prompt_number": 37
    },
    {
     "cell_type": "code",
     "collapsed": false,
     "input": [],
     "language": "python",
     "metadata": {},
     "outputs": []
    }
   ],
   "metadata": {}
  }
 ]
}