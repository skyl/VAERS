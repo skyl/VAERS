{
 "metadata": {
  "name": "",
  "signature": "sha256:d2b8be3094c65f39e4532e9eb8dcebbcd70d2f18d9678a85f32b8974faa2992c"
 },
 "nbformat": 3,
 "nbformat_minor": 0,
 "worksheets": [
  {
   "cells": [
    {
     "cell_type": "code",
     "collapsed": false,
     "input": [
      "%matplotlib inline\n",
      "import pandas as pd\n",
      "from scipy import stats\n",
      "from pylab import plot\n",
      "import statsmodels.formula.api as smf\n",
      "import statsmodels.api as sm"
     ],
     "language": "python",
     "metadata": {},
     "outputs": [],
     "prompt_number": 91
    },
    {
     "cell_type": "code",
     "collapsed": false,
     "input": [
      "data = pd.DataFrame.from_csv(\"./data/1990VAERSDATA.csv\", encoding=\"ISO-8859-1\")\n",
      "vax = pd.DataFrame.from_csv(\"./data/1990VAERSVAX.csv\", encoding=\"ISO-8859-1\")\n",
      "\n",
      "ys = [str(n) for n in range(1991, 2014)]\n",
      "\n",
      "for year in ys:\n",
      "    #print(year)\n",
      "    data = pd.concat([data, pd.DataFrame.from_csv(\"./data/%sVAERSDATA.csv\" % year, encoding=\"ISO-8859-1\")])\n",
      "    vax = pd.concat([vax, pd.DataFrame.from_csv(\"./data/%sVAERSVAX.csv\" % year, encoding=\"ISO-8859-1\")])\n"
     ],
     "language": "python",
     "metadata": {},
     "outputs": [],
     "prompt_number": 93
    },
    {
     "cell_type": "code",
     "collapsed": false,
     "input": [
      "len(data)"
     ],
     "language": "python",
     "metadata": {},
     "outputs": [
      {
       "metadata": {},
       "output_type": "pyout",
       "prompt_number": 94,
       "text": [
        "407924"
       ]
      }
     ],
     "prompt_number": 94
    },
    {
     "cell_type": "code",
     "collapsed": false,
     "input": [
      "df = data1_7 = data[(data.AGE_YRS <= 7) & (data.AGE_YRS >= 1)]"
     ],
     "language": "python",
     "metadata": {},
     "outputs": [],
     "prompt_number": 95
    },
    {
     "cell_type": "code",
     "collapsed": false,
     "input": [
      "vaxxers_idx = vax[vax.VAX_TYPE.str.contains(\"MMR\")].index\n",
      "vaxxers = df[df.index.isin(vaxxers_idx)]\n",
      "non_vaxxers = df[~df.index.isin(vaxxers_idx)]"
     ],
     "language": "python",
     "metadata": {},
     "outputs": [],
     "prompt_number": 96
    },
    {
     "cell_type": "code",
     "collapsed": false,
     "input": [
      "s = ( \n",
      "  df.SYMPTOM_TEXT.str.contains(\"autis\", case=False) \n",
      "  | df.SYMPTOM_TEXT.str.contains(\"eye contact\", case=False)\n",
      ")\n",
      "a = len(vaxxers.index.intersection(df[s].index))\n",
      "b = len(vaxxers) - a\n",
      "c = len(non_vaxxers.index.intersection(df[s].index))\n",
      "d = len(non_vaxxers) - c\n",
      "\n",
      "print(a, b, c, d)\n",
      "oddsratio, pvalue = stats.fisher_exact([[a, b], [c, d]])\n",
      "print(oddsratio, pvalue)"
     ],
     "language": "python",
     "metadata": {},
     "outputs": [
      {
       "output_type": "stream",
       "stream": "stdout",
       "text": [
        "638 48310 299 51871\n",
        "2.29106322116"
       ]
      },
      {
       "output_type": "stream",
       "stream": "stdout",
       "text": [
        " 2.78213273171e-34\n"
       ]
      }
     ],
     "prompt_number": 97
    },
    {
     "cell_type": "code",
     "collapsed": false,
     "input": [
      "vaxxers.AGE_YRS.hist()"
     ],
     "language": "python",
     "metadata": {},
     "outputs": [
      {
       "metadata": {},
       "output_type": "pyout",
       "prompt_number": 98,
       "text": [
        "<matplotlib.axes.AxesSubplot at 0x115a303c8>"
       ]
      },
      {
       "metadata": {},
       "output_type": "display_data",
       "png": "[encoded data removed]",
       "text": [
        "<matplotlib.figure.Figure at 0x11903c160>"
       ]
      }
     ],
     "prompt_number": 98
    },
    {
     "cell_type": "code",
     "collapsed": false,
     "input": [
      "non_vaxxers.AGE_YRS.hist()"
     ],
     "language": "python",
     "metadata": {},
     "outputs": [
      {
       "metadata": {},
       "output_type": "pyout",
       "prompt_number": 99,
       "text": [
        "<matplotlib.axes.AxesSubplot at 0x119747358>"
       ]
      },
      {
       "metadata": {},
       "output_type": "display_data",
       "png": "[encoded data removed]",
       "text": [
        "<matplotlib.figure.Figure at 0x119743a20>"
       ]
      }
     ],
     "prompt_number": 99
    },
    {
     "cell_type": "code",
     "collapsed": false,
     "input": [
      "df[s].AGE_YRS.hist()"
     ],
     "language": "python",
     "metadata": {},
     "outputs": [
      {
       "metadata": {},
       "output_type": "pyout",
       "prompt_number": 102,
       "text": [
        "<matplotlib.axes.AxesSubplot at 0x1144104e0>"
       ]
      },
      {
       "metadata": {},
       "output_type": "display_data",
       "png": "[encoded data removed]",
       "text": [
        "<matplotlib.figure.Figure at 0x117f46ac8>"
       ]
      }
     ],
     "prompt_number": 102
    },
    {
     "cell_type": "code",
     "collapsed": false,
     "input": [
      "years = [str(n) for n in range(1990, 2014)]\n",
      "results = {}\n",
      "for year in years:\n",
      "    ydata = pd.DataFrame.from_csv(\"./data/%sVAERSDATA.csv\" % year, encoding=\"ISO-8859-1\")\n",
      "    yvax = pd.DataFrame.from_csv(\"./data/%sVAERSVAX.csv\" % year, encoding=\"ISO-8859-1\")\n",
      "    ydf = ydata1_7 = ydata[(ydata.AGE_YRS <= 7) & (ydata.AGE_YRS >= 1)]\n",
      "    yvaxxers_idx = yvax[yvax.VAX_TYPE.str.contains(\"MMR\")].index\n",
      "    yvaxxers = ydf[ydf.index.isin(yvaxxers_idx)]\n",
      "    ynon_vaxxers = ydf[~ydf.index.isin(yvaxxers_idx)]\n",
      "    ys = ( \n",
      "      df.SYMPTOM_TEXT.str.contains(\"autis\", case=False) \n",
      "      | df.SYMPTOM_TEXT.str.contains(\"eye contact\", case=False)\n",
      "    )\n",
      "    a = len(yvaxxers.index.intersection(ydf[ys].index))\n",
      "    b = len(yvaxxers) - a\n",
      "    c = len(ynon_vaxxers.index.intersection(ydf[ys].index))\n",
      "    d = len(ynon_vaxxers) - c\n",
      "    print()\n",
      "    print(year)\n",
      "    print(a, b, c, d)\n",
      "    oddsratio, pvalue = stats.fisher_exact([[a, b], [c, d]])\n",
      "    print(oddsratio, pvalue)\n",
      "    results[year] = oddsratio, pvalue\n",
      "print(d)"
     ],
     "language": "python",
     "metadata": {},
     "outputs": [
      {
       "output_type": "stream",
       "stream": "stdout",
       "text": [
        "\n",
        "1990\n",
        "0 116 0 254\n",
        "nan 1.0\n",
        "\n"
       ]
      },
      {
       "output_type": "stream",
       "stream": "stdout",
       "text": [
        "1991\n",
        "0 1321 1 1240\n",
        "0.0 0.484387197501\n",
        "\n"
       ]
      },
      {
       "output_type": "stream",
       "stream": "stdout",
       "text": [
        "1992\n",
        "1 1352 0 1018\n",
        "inf 1.0\n",
        "\n"
       ]
      },
      {
       "output_type": "stream",
       "stream": "stdout",
       "text": [
        "1993\n",
        "1 1187 1 936\n",
        "0.788542544229 1.0\n",
        "\n"
       ]
      },
      {
       "output_type": "stream",
       "stream": "stdout",
       "text": [
        "1994\n",
        "2 1292 3 897\n",
        "0.462848297214 0.406222906121\n",
        "\n"
       ]
      },
      {
       "output_type": "stream",
       "stream": "stdout",
       "text": [
        "1995\n",
        "1 1340 1 1130\n",
        "0.84328358209 1.0\n",
        "\n"
       ]
      },
      {
       "output_type": "stream",
       "stream": "stdout",
       "text": [
        "1996\n",
        "7 1296 2 1507\n",
        "4.06983024691 0.0906705208438\n",
        "\n"
       ]
      },
      {
       "output_type": "stream",
       "stream": "stdout",
       "text": [
        "1997\n",
        "12 1357 2 1875\n",
        "8.29034635225 0.00151212246272\n",
        "\n"
       ]
      },
      {
       "output_type": "stream",
       "stream": "stdout",
       "text": [
        "1998\n",
        "5 1245 2 1555\n",
        "3.12248995984 0.253254087769\n",
        "\n"
       ]
      },
      {
       "output_type": "stream",
       "stream": "stdout",
       "text": [
        "1999\n",
        "22 1467 5 1997\n",
        "5.98963871847 4.62046895559e-05\n",
        "\n"
       ]
      },
      {
       "output_type": "stream",
       "stream": "stdout",
       "text": [
        "2000\n",
        "47 1679 11 2575\n",
        "6.55287238075 2.33322784732e-10\n",
        "\n"
       ]
      },
      {
       "output_type": "stream",
       "stream": "stdout",
       "text": [
        "2001\n",
        "62 2320 18 2916\n",
        "4.32931034483 2.36332462609e-09\n",
        "\n"
       ]
      },
      {
       "output_type": "stream",
       "stream": "stdout",
       "text": [
        "2002\n",
        "81 2765 48 2746\n",
        "1.67590415913 0.00556369226677\n",
        "\n"
       ]
      },
      {
       "output_type": "stream",
       "stream": "stdout",
       "text": [
        "2003\n",
        "62 3344 19 2635\n",
        "2.57129816167 0.000167808993029\n",
        "\n"
       ]
      },
      {
       "output_type": "stream",
       "stream": "stdout",
       "text": [
        "2004\n",
        "43 3340 24 2783\n",
        "1.49287674651 0.138362262973\n",
        "\n"
       ]
      },
      {
       "output_type": "stream",
       "stream": "stdout",
       "text": [
        "2005\n",
        "26 3123 34 2596\n",
        "0.635663295097 0.0904530559317\n",
        "\n"
       ]
      },
      {
       "output_type": "stream",
       "stream": "stdout",
       "text": [
        "2006\n",
        "36 3199 16 2720\n",
        "1.91309784308 0.0351819240192\n",
        "\n"
       ]
      },
      {
       "output_type": "stream",
       "stream": "stdout",
       "text": [
        "2007\n",
        "32 2957 20 2982\n",
        "1.61352722354 0.0962522132187\n",
        "\n"
       ]
      },
      {
       "output_type": "stream",
       "stream": "stdout",
       "text": [
        "2008\n",
        "49 2672 31 2942\n",
        "1.74036604211 0.0175792561021\n",
        "\n"
       ]
      },
      {
       "output_type": "stream",
       "stream": "stdout",
       "text": [
        "2009\n",
        "96 2368 25 4279\n",
        "6.93891891892 2.97650255761e-22\n",
        "\n"
       ]
      },
      {
       "output_type": "stream",
       "stream": "stdout",
       "text": [
        "2010\n",
        "17 2694 14 4033\n",
        "1.81782267473 0.100763390966\n",
        "\n"
       ]
      },
      {
       "output_type": "stream",
       "stream": "stdout",
       "text": [
        "2011\n",
        "12 2126 5 2396\n",
        "2.70479774224 0.0854003840059\n",
        "\n"
       ]
      },
      {
       "output_type": "stream",
       "stream": "stdout",
       "text": [
        "2012\n",
        "9 1741 9 1979\n",
        "1.13670304423 0.816761281629\n",
        "\n"
       ]
      },
      {
       "output_type": "stream",
       "stream": "stdout",
       "text": [
        "2013\n",
        "15 2009 8 1880\n",
        "1.75460428074 0.215056404058\n",
        "1880\n"
       ]
      }
     ],
     "prompt_number": 103
    },
    {
     "cell_type": "code",
     "collapsed": false,
     "input": [
      "# 96 and 97\n",
      "#1996\n",
      "#7 1296 2 1507\n",
      "#4.06983024691 0.0906705208438\n",
      "\n",
      "#1997\n",
      "#12 1357 2 1875\n",
      "#8.29034635225 0.00151212246272\n",
      "\n",
      "oddsratio, pvalue = stats.fisher_exact([[19, 1296 + 1357], [4, 1507 + 1875]])\n",
      "print(oddsratio, pvalue)"
     ],
     "language": "python",
     "metadata": {},
     "outputs": [
      {
       "output_type": "stream",
       "stream": "stdout",
       "text": [
        "6.05522050509 0.000203437022974\n"
       ]
      }
     ],
     "prompt_number": 104
    },
    {
     "cell_type": "code",
     "collapsed": false,
     "input": [
      "1507 + 1875"
     ],
     "language": "python",
     "metadata": {},
     "outputs": [
      {
       "metadata": {},
       "output_type": "pyout",
       "prompt_number": 106,
       "text": [
        "3382"
       ]
      }
     ],
     "prompt_number": 106
    },
    {
     "cell_type": "markdown",
     "metadata": {},
     "source": [
      "|         | AUT   |   NOT AUT  |\n",
      "|---------|-------|------------|\n",
      "|MMR      | 19    |    4       |\n",
      "|NOT MMR  | 2653  |    3382    |"
     ]
    },
    {
     "cell_type": "code",
     "collapsed": false,
     "input": [
      "X = []\n",
      "Y = []\n",
      "Y2 = []\n",
      "for k, v in sorted(results.items()):\n",
      "    X.append(k)\n",
      "    Y.append(v[0])\n",
      "    Y2.append(v[1])"
     ],
     "language": "python",
     "metadata": {},
     "outputs": [],
     "prompt_number": 27
    },
    {
     "cell_type": "code",
     "collapsed": false,
     "input": [
      "plot(X, Y)\n",
      "plot(X, Y2)"
     ],
     "language": "python",
     "metadata": {},
     "outputs": [
      {
       "ename": "ValueError",
       "evalue": "x and y must have same first dimension",
       "output_type": "pyerr",
       "traceback": [
        "\u001b[0;31m---------------------------------------------------------------------------\u001b[0m\n\u001b[0;31mValueError\u001b[0m                                Traceback (most recent call last)",
        "\u001b[0;32m<ipython-input-90-172c5eac4136>\u001b[0m in \u001b[0;36m<module>\u001b[0;34m()\u001b[0m\n\u001b[0;32m----> 1\u001b[0;31m \u001b[0mplot\u001b[0m\u001b[0;34m(\u001b[0m\u001b[0mX\u001b[0m\u001b[0;34m,\u001b[0m \u001b[0mY\u001b[0m\u001b[0;34m)\u001b[0m\u001b[0;34m\u001b[0m\u001b[0m\n\u001b[0m\u001b[1;32m      2\u001b[0m \u001b[0mplot\u001b[0m\u001b[0;34m(\u001b[0m\u001b[0mX\u001b[0m\u001b[0;34m,\u001b[0m \u001b[0mY2\u001b[0m\u001b[0;34m)\u001b[0m\u001b[0;34m\u001b[0m\u001b[0m\n",
        "\u001b[0;32m/Users/d498902/Envs/stats/lib/python3.4/site-packages/matplotlib/pyplot.py\u001b[0m in \u001b[0;36mplot\u001b[0;34m(*args, **kwargs)\u001b[0m\n\u001b[1;32m   2985\u001b[0m         \u001b[0max\u001b[0m\u001b[0;34m.\u001b[0m\u001b[0mhold\u001b[0m\u001b[0;34m(\u001b[0m\u001b[0mhold\u001b[0m\u001b[0;34m)\u001b[0m\u001b[0;34m\u001b[0m\u001b[0m\n\u001b[1;32m   2986\u001b[0m     \u001b[0;32mtry\u001b[0m\u001b[0;34m:\u001b[0m\u001b[0;34m\u001b[0m\u001b[0m\n\u001b[0;32m-> 2987\u001b[0;31m         \u001b[0mret\u001b[0m \u001b[0;34m=\u001b[0m \u001b[0max\u001b[0m\u001b[0;34m.\u001b[0m\u001b[0mplot\u001b[0m\u001b[0;34m(\u001b[0m\u001b[0;34m*\u001b[0m\u001b[0margs\u001b[0m\u001b[0;34m,\u001b[0m \u001b[0;34m**\u001b[0m\u001b[0mkwargs\u001b[0m\u001b[0;34m)\u001b[0m\u001b[0;34m\u001b[0m\u001b[0m\n\u001b[0m\u001b[1;32m   2988\u001b[0m         \u001b[0mdraw_if_interactive\u001b[0m\u001b[0;34m(\u001b[0m\u001b[0;34m)\u001b[0m\u001b[0;34m\u001b[0m\u001b[0m\n\u001b[1;32m   2989\u001b[0m     \u001b[0;32mfinally\u001b[0m\u001b[0;34m:\u001b[0m\u001b[0;34m\u001b[0m\u001b[0m\n",
        "\u001b[0;32m/Users/d498902/Envs/stats/lib/python3.4/site-packages/matplotlib/axes.py\u001b[0m in \u001b[0;36mplot\u001b[0;34m(self, *args, **kwargs)\u001b[0m\n\u001b[1;32m   4137\u001b[0m         \u001b[0mlines\u001b[0m \u001b[0;34m=\u001b[0m \u001b[0;34m[\u001b[0m\u001b[0;34m]\u001b[0m\u001b[0;34m\u001b[0m\u001b[0m\n\u001b[1;32m   4138\u001b[0m \u001b[0;34m\u001b[0m\u001b[0m\n\u001b[0;32m-> 4139\u001b[0;31m         \u001b[0;32mfor\u001b[0m \u001b[0mline\u001b[0m \u001b[0;32min\u001b[0m \u001b[0mself\u001b[0m\u001b[0;34m.\u001b[0m\u001b[0m_get_lines\u001b[0m\u001b[0;34m(\u001b[0m\u001b[0;34m*\u001b[0m\u001b[0margs\u001b[0m\u001b[0;34m,\u001b[0m \u001b[0;34m**\u001b[0m\u001b[0mkwargs\u001b[0m\u001b[0;34m)\u001b[0m\u001b[0;34m:\u001b[0m\u001b[0;34m\u001b[0m\u001b[0m\n\u001b[0m\u001b[1;32m   4140\u001b[0m             \u001b[0mself\u001b[0m\u001b[0;34m.\u001b[0m\u001b[0madd_line\u001b[0m\u001b[0;34m(\u001b[0m\u001b[0mline\u001b[0m\u001b[0;34m)\u001b[0m\u001b[0;34m\u001b[0m\u001b[0m\n\u001b[1;32m   4141\u001b[0m             \u001b[0mlines\u001b[0m\u001b[0;34m.\u001b[0m\u001b[0mappend\u001b[0m\u001b[0;34m(\u001b[0m\u001b[0mline\u001b[0m\u001b[0;34m)\u001b[0m\u001b[0;34m\u001b[0m\u001b[0m\n",
        "\u001b[0;32m/Users/d498902/Envs/stats/lib/python3.4/site-packages/matplotlib/axes.py\u001b[0m in \u001b[0;36m_grab_next_args\u001b[0;34m(self, *args, **kwargs)\u001b[0m\n\u001b[1;32m    317\u001b[0m                 \u001b[0;32mreturn\u001b[0m\u001b[0;34m\u001b[0m\u001b[0m\n\u001b[1;32m    318\u001b[0m             \u001b[0;32mif\u001b[0m \u001b[0mlen\u001b[0m\u001b[0;34m(\u001b[0m\u001b[0mremaining\u001b[0m\u001b[0;34m)\u001b[0m \u001b[0;34m<=\u001b[0m \u001b[0;36m3\u001b[0m\u001b[0;34m:\u001b[0m\u001b[0;34m\u001b[0m\u001b[0m\n\u001b[0;32m--> 319\u001b[0;31m                 \u001b[0;32mfor\u001b[0m \u001b[0mseg\u001b[0m \u001b[0;32min\u001b[0m \u001b[0mself\u001b[0m\u001b[0;34m.\u001b[0m\u001b[0m_plot_args\u001b[0m\u001b[0;34m(\u001b[0m\u001b[0mremaining\u001b[0m\u001b[0;34m,\u001b[0m \u001b[0mkwargs\u001b[0m\u001b[0;34m)\u001b[0m\u001b[0;34m:\u001b[0m\u001b[0;34m\u001b[0m\u001b[0m\n\u001b[0m\u001b[1;32m    320\u001b[0m                     \u001b[0;32myield\u001b[0m \u001b[0mseg\u001b[0m\u001b[0;34m\u001b[0m\u001b[0m\n\u001b[1;32m    321\u001b[0m                 \u001b[0;32mreturn\u001b[0m\u001b[0;34m\u001b[0m\u001b[0m\n",
        "\u001b[0;32m/Users/d498902/Envs/stats/lib/python3.4/site-packages/matplotlib/axes.py\u001b[0m in \u001b[0;36m_plot_args\u001b[0;34m(self, tup, kwargs)\u001b[0m\n\u001b[1;32m    295\u001b[0m             \u001b[0mx\u001b[0m \u001b[0;34m=\u001b[0m \u001b[0mnp\u001b[0m\u001b[0;34m.\u001b[0m\u001b[0marange\u001b[0m\u001b[0;34m(\u001b[0m\u001b[0my\u001b[0m\u001b[0;34m.\u001b[0m\u001b[0mshape\u001b[0m\u001b[0;34m[\u001b[0m\u001b[0;36m0\u001b[0m\u001b[0;34m]\u001b[0m\u001b[0;34m,\u001b[0m \u001b[0mdtype\u001b[0m\u001b[0;34m=\u001b[0m\u001b[0mfloat\u001b[0m\u001b[0;34m)\u001b[0m\u001b[0;34m\u001b[0m\u001b[0m\n\u001b[1;32m    296\u001b[0m \u001b[0;34m\u001b[0m\u001b[0m\n\u001b[0;32m--> 297\u001b[0;31m         \u001b[0mx\u001b[0m\u001b[0;34m,\u001b[0m \u001b[0my\u001b[0m \u001b[0;34m=\u001b[0m \u001b[0mself\u001b[0m\u001b[0;34m.\u001b[0m\u001b[0m_xy_from_xy\u001b[0m\u001b[0;34m(\u001b[0m\u001b[0mx\u001b[0m\u001b[0;34m,\u001b[0m \u001b[0my\u001b[0m\u001b[0;34m)\u001b[0m\u001b[0;34m\u001b[0m\u001b[0m\n\u001b[0m\u001b[1;32m    298\u001b[0m \u001b[0;34m\u001b[0m\u001b[0m\n\u001b[1;32m    299\u001b[0m         \u001b[0;32mif\u001b[0m \u001b[0mself\u001b[0m\u001b[0;34m.\u001b[0m\u001b[0mcommand\u001b[0m \u001b[0;34m==\u001b[0m \u001b[0;34m'plot'\u001b[0m\u001b[0;34m:\u001b[0m\u001b[0;34m\u001b[0m\u001b[0m\n",
        "\u001b[0;32m/Users/d498902/Envs/stats/lib/python3.4/site-packages/matplotlib/axes.py\u001b[0m in \u001b[0;36m_xy_from_xy\u001b[0;34m(self, x, y)\u001b[0m\n\u001b[1;32m    237\u001b[0m         \u001b[0my\u001b[0m \u001b[0;34m=\u001b[0m \u001b[0mnp\u001b[0m\u001b[0;34m.\u001b[0m\u001b[0matleast_1d\u001b[0m\u001b[0;34m(\u001b[0m\u001b[0my\u001b[0m\u001b[0;34m)\u001b[0m\u001b[0;34m\u001b[0m\u001b[0m\n\u001b[1;32m    238\u001b[0m         \u001b[0;32mif\u001b[0m \u001b[0mx\u001b[0m\u001b[0;34m.\u001b[0m\u001b[0mshape\u001b[0m\u001b[0;34m[\u001b[0m\u001b[0;36m0\u001b[0m\u001b[0;34m]\u001b[0m \u001b[0;34m!=\u001b[0m \u001b[0my\u001b[0m\u001b[0;34m.\u001b[0m\u001b[0mshape\u001b[0m\u001b[0;34m[\u001b[0m\u001b[0;36m0\u001b[0m\u001b[0;34m]\u001b[0m\u001b[0;34m:\u001b[0m\u001b[0;34m\u001b[0m\u001b[0m\n\u001b[0;32m--> 239\u001b[0;31m             \u001b[0;32mraise\u001b[0m \u001b[0mValueError\u001b[0m\u001b[0;34m(\u001b[0m\u001b[0;34m\"x and y must have same first dimension\"\u001b[0m\u001b[0;34m)\u001b[0m\u001b[0;34m\u001b[0m\u001b[0m\n\u001b[0m\u001b[1;32m    240\u001b[0m         \u001b[0;32mif\u001b[0m \u001b[0mx\u001b[0m\u001b[0;34m.\u001b[0m\u001b[0mndim\u001b[0m \u001b[0;34m>\u001b[0m \u001b[0;36m2\u001b[0m \u001b[0;32mor\u001b[0m \u001b[0my\u001b[0m\u001b[0;34m.\u001b[0m\u001b[0mndim\u001b[0m \u001b[0;34m>\u001b[0m \u001b[0;36m2\u001b[0m\u001b[0;34m:\u001b[0m\u001b[0;34m\u001b[0m\u001b[0m\n\u001b[1;32m    241\u001b[0m             \u001b[0;32mraise\u001b[0m \u001b[0mValueError\u001b[0m\u001b[0;34m(\u001b[0m\u001b[0;34m\"x and y can be no greater than 2-D\"\u001b[0m\u001b[0;34m)\u001b[0m\u001b[0;34m\u001b[0m\u001b[0m\n",
        "\u001b[0;31mValueError\u001b[0m: x and y must have same first dimension"
       ]
      },
      {
       "metadata": {},
       "output_type": "display_data",
       "png": "[encoded data removed]",
       "text": [
        "<matplotlib.figure.Figure at 0x110dd5dd8>"
       ]
      }
     ],
     "prompt_number": 90
    },
    {
     "cell_type": "code",
     "collapsed": false,
     "input": [
      "plot(X, Y2)"
     ],
     "language": "python",
     "metadata": {},
     "outputs": [
      {
       "metadata": {},
       "output_type": "pyout",
       "prompt_number": 29,
       "text": [
        "[<matplotlib.lines.Line2D at 0x117e64390>]"
       ]
      },
      {
       "metadata": {},
       "output_type": "display_data",
       "png": "[encoded data removed]",
       "text": [
        "<matplotlib.figure.Figure at 0x110d376d8>"
       ]
      }
     ],
     "prompt_number": 29
    },
    {
     "cell_type": "code",
     "collapsed": false,
     "input": [
      "sorted(results.items())"
     ],
     "language": "python",
     "metadata": {},
     "outputs": [
      {
       "metadata": {},
       "output_type": "pyout",
       "prompt_number": 32,
       "text": [
        "[('1990', (nan, 1.0)),\n",
        " ('1991', (0.0, 0.48438719750140097)),\n",
        " ('1992', (inf, 1.0)),\n",
        " ('1993', (0.78854254422914916, 1.0)),\n",
        " ('1994', (0.46284829721362231, 0.40622290612062306)),\n",
        " ('1995', (0.84328358208955223, 1.0)),\n",
        " ('1996', (4.0698302469135799, 0.090670520843790264)),\n",
        " ('1997', (8.2903463522476049, 0.0015121224627215311)),\n",
        " ('1998', (3.1224899598393576, 0.25325408776893221)),\n",
        " ('1999', (5.9896387184730742, 4.6204689555894047e-05)),\n",
        " ('2000', (6.5528723807461153, 2.3332278473188117e-10)),\n",
        " ('2001', (4.3293103448275865, 2.3633246260928316e-09)),\n",
        " ('2002', (1.6759041591320072, 0.0055636922667697151)),\n",
        " ('2003', (2.5712981616721229, 0.00016780899302886888)),\n",
        " ('2004', (1.4928767465069861, 0.13836226297325538)),\n",
        " ('2005', (0.6356632950970974, 0.09045305593172695)),\n",
        " ('2006', (1.9130978430759613, 0.035181924019155111)),\n",
        " ('2007', (1.613527223537369, 0.096252213218678967)),\n",
        " ('2008', (1.7403660421093297, 0.017579256102077868)),\n",
        " ('2009', (6.9389189189189189, 2.9765025576138795e-22)),\n",
        " ('2010', (1.8178226747269064, 0.10076339096597473)),\n",
        " ('2011', (2.7047977422389464, 0.08540038400592051)),\n",
        " ('2012', (1.1367030442274555, 0.81676128162944861)),\n",
        " ('2013', (1.7546042807366848, 0.21505640405848259))]"
       ]
      }
     ],
     "prompt_number": 32
    },
    {
     "cell_type": "code",
     "collapsed": false,
     "input": [
      "xstr = \" + \".join(set(vax.VAX_TYPE))"
     ],
     "language": "python",
     "metadata": {},
     "outputs": [],
     "prompt_number": 49
    },
    {
     "cell_type": "code",
     "collapsed": false,
     "input": [
      "dat = df.copy()\n",
      "vts = set(vax.VAX_TYPE)\n",
      "for vt in vts:\n",
      "    yes_idx = vax[vax.VAX_TYPE == vt].index\n",
      "    #yes = dat[dat.index.isin(yes_idx)]\n",
      "    dat[vt] = dat.index.isin(yes_idx)"
     ],
     "language": "python",
     "metadata": {},
     "outputs": [],
     "prompt_number": 44
    },
    {
     "cell_type": "code",
     "collapsed": false,
     "input": [
      "dat[\"AUT\"] = s\n",
      "dat.AUT.value_counts()"
     ],
     "language": "python",
     "metadata": {},
     "outputs": [
      {
       "metadata": {},
       "output_type": "pyout",
       "prompt_number": 47,
       "text": [
        "False    100181\n",
        "True        937\n",
        "dtype: int64"
       ]
      }
     ],
     "prompt_number": 47
    },
    {
     "cell_type": "code",
     "collapsed": false,
     "input": [
      "# ok, let's do a logistic regression\n",
      "# AUT ~ MMR + DTAP + ...\n",
      "\n",
      "#results = smf.ols('AUT ~ %s' % xstr, data=dat).fit()\n",
      "#results = smf.ols('AUT ~ MMR + DTAP', data=dat).fit()\n",
      "\n",
      "\n",
      "# Generate artificial data (2 regressors + constant)\n",
      "#nobs = 100\n",
      "X = pd.concat([dat[v] for v in sorted(list(set(vax.VAX_TYPE)))], axis=1)\n",
      "#X = dat.DTAP\n",
      "#X = sm.add_constant(X)\n",
      "y = dat.AUT\n",
      "\n",
      "results = sm.OLS(y, X).fit()\n",
      "\n",
      "# Inspect the results\n",
      "print(results.summary())"
     ],
     "language": "python",
     "metadata": {},
     "outputs": [
      {
       "output_type": "stream",
       "stream": "stdout",
       "text": [
        "                            OLS Regression Results                            \n",
        "==============================================================================\n",
        "Dep. Variable:                    AUT   R-squared:                       0.007\n",
        "Model:                            OLS   Adj. R-squared:                  0.006\n",
        "Method:                 Least Squares   F-statistic:                     9.996\n",
        "Date:                Mon, 12 May 2014   Prob (F-statistic):          9.94e-103\n",
        "Time:                        13:19:54   Log-Likelihood:                 94019.\n",
        "No. Observations:              101118   AIC:                        -1.879e+05\n",
        "Df Residuals:                  101048   BIC:                        -1.872e+05\n",
        "Df Model:                          69                                         \n",
        "Covariance Type:            nonrobust                                         \n",
        "==============================================================================\n",
        "                 coef    std err          t      P>|t|      [95.0% Conf. Int.]\n",
        "------------------------------------------------------------------------------\n",
        "6VAX-F        -0.0083      0.027     -0.313      0.754        -0.060     0.044\n",
        "ADEN       -3.895e-18   1.24e-16     -0.031      0.975     -2.47e-16   2.4e-16\n",
        "ADEN_4_7    6.005e-17   6.37e-17      0.942      0.346     -6.48e-17  1.85e-16\n",
        "ANTH          -0.0008      0.028     -0.027      0.978        -0.055     0.054\n",
        "BCG           -0.0055      0.023     -0.237      0.812        -0.051     0.040\n",
        "CHOL           0.0023      0.031      0.074      0.941        -0.058     0.062\n",
        "DPP            0.0416      0.012      3.340      0.001         0.017     0.066\n",
        "DT             0.0059      0.004      1.603      0.109        -0.001     0.013\n",
        "DTAP           0.0002      0.001      0.257      0.797        -0.001     0.002\n",
        "DTAPH          0.0134      0.004      3.082      0.002         0.005     0.022\n",
        "DTAPHEPBIP    -0.0064      0.003     -2.244      0.025        -0.012    -0.001\n",
        "DTAPIPV       -0.0098      0.002     -5.398      0.000        -0.013    -0.006\n",
        "DTAPIPVHIB    -0.0053      0.003     -1.670      0.095        -0.011     0.001\n",
        "DTIPV         -0.0131      0.026     -0.511      0.609        -0.063     0.037\n",
        "DTOX          -0.0092      0.030     -0.303      0.762        -0.068     0.050\n",
        "DTP           -0.0019      0.001     -1.301      0.193        -0.005     0.001\n",
        "DTPHEP         0.2673      0.036      7.344      0.000         0.196     0.339\n",
        "DTPHIB         0.0058      0.002      2.414      0.016         0.001     0.011\n",
        "DTPIHI         0.0797      0.032      2.471      0.013         0.016     0.143\n",
        "DTPIPV         0.0237      0.012      1.901      0.057        -0.001     0.048\n",
        "DTPPHIB       -0.0194      0.028     -0.699      0.484        -0.074     0.035\n",
        "DTaPIPV       -0.0075      0.029     -0.262      0.794        -0.064     0.049\n",
        "DTaPIPVHib    -0.0073      0.048     -0.152      0.879        -0.101     0.086\n",
        "FLU(H1N1)     -0.0002      0.002     -0.098      0.922        -0.005     0.005\n",
        "FLU3           0.0019      0.001      1.699      0.089        -0.000     0.004\n",
        "FLU4          -0.0012      0.011     -0.102      0.919        -0.023     0.021\n",
        "FLUC3      -1.871e-16    5.8e-17     -3.226      0.001     -3.01e-16 -7.34e-17\n",
        "FLUN(H1N1)     0.0016      0.003      0.529      0.597        -0.004     0.008\n",
        "FLUN3          0.0010      0.002      0.479      0.632        -0.003     0.005\n",
        "FLUN4         -0.0002      0.008     -0.026      0.979        -0.016     0.015\n",
        "FLUR3       3.523e-17   6.86e-17      0.514      0.607     -9.92e-17   1.7e-16\n",
        "FLUX(H1N1)    -0.0009      0.005     -0.167      0.868        -0.011     0.009\n",
        "H5N1       -1.359e-16   3.65e-17     -3.724      0.000     -2.07e-16 -6.44e-17\n",
        "HBHEPB         0.0086      0.002      4.125      0.000         0.005     0.013\n",
        "HBPV           0.0396      0.009      4.644      0.000         0.023     0.056\n",
        "HEP            0.0188      0.001     13.796      0.000         0.016     0.021\n",
        "HEPA          -0.0025      0.001     -2.507      0.012        -0.004    -0.001\n",
        "HEPAB         -0.0086      0.023     -0.370      0.711        -0.054     0.037\n",
        "HEPATYP     -1.23e-17   5.59e-17     -0.220      0.826     -1.22e-16  9.73e-17\n",
        "HIBV           0.0075      0.001      8.470      0.000         0.006     0.009\n",
        "HPV2          -0.0144      0.096     -0.151      0.880        -0.202     0.173\n",
        "HPV4          -0.0019      0.010     -0.187      0.852        -0.022     0.018\n",
        "HPVX          -0.0031      0.048     -0.064      0.949        -0.097     0.091\n",
        "IPV           -0.0095      0.001     -9.573      0.000        -0.011    -0.008\n",
        "JEV           -0.0031      0.029     -0.108      0.914        -0.060     0.053\n",
        "JEV1       -5.078e-17   1.22e-16     -0.416      0.678      -2.9e-16  1.89e-16\n",
        "JEVX       -7.028e-17   7.56e-17     -0.930      0.352     -2.18e-16  7.79e-17\n",
        "LYME          -0.0028      0.039     -0.073      0.942        -0.079     0.074\n",
        "MEA            0.0212      0.008      2.572      0.010         0.005     0.037\n",
        "MEN           -0.0044      0.011     -0.388      0.698        -0.026     0.018\n",
        "MENHIB     -6.705e-17      0.096  -7.02e-16      1.000        -0.187     0.187\n",
        "MER            0.0267      0.014      1.851      0.064        -0.002     0.055\n",
        "MM             0.0044      0.015      0.295      0.768        -0.025     0.034\n",
        "MMR            0.0166      0.001     25.682      0.000         0.015     0.018\n",
        "MMRV           0.0099      0.002      5.734      0.000         0.006     0.013\n",
        "MNC        -2.414e-17   1.98e-17     -1.219      0.223     -6.29e-17  1.47e-17\n",
        "MNQ           -0.0028      0.009     -0.307      0.759        -0.021     0.015\n",
        "MU             0.0207      0.016      1.328      0.184        -0.010     0.051\n",
        "MUR            0.0007      0.032      0.021      0.983        -0.062     0.063\n",
        "OPV           -0.0072      0.001     -5.377      0.000        -0.010    -0.005\n",
        "PER           -0.0197      0.023     -0.845      0.398        -0.065     0.026\n",
        "PLAGUE      1.239e-17   1.21e-17      1.022      0.307     -1.14e-17  3.62e-17\n",
        "PNC            0.0001      0.001      0.108      0.914        -0.002     0.002\n",
        "PNC13         -0.0053      0.002     -2.913      0.004        -0.009    -0.002\n",
        "PPV            0.0027      0.003      0.978      0.328        -0.003     0.008\n",
        "RAB            0.0062      0.009      0.733      0.464        -0.010     0.023\n",
        "RUB            0.0295      0.012      2.358      0.018         0.005     0.054\n",
        "RV             0.1029      0.023      4.569      0.000         0.059     0.147\n",
        "RV1           -0.0030      0.039     -0.076      0.939        -0.079     0.074\n",
        "RV5            0.0054      0.008      0.655      0.513        -0.011     0.021\n",
        "RVX            0.1055      0.032      3.300      0.001         0.043     0.168\n",
        "SMALL         -0.0049      0.019     -0.258      0.797        -0.042     0.032\n",
        "SSEV                0          0        nan        nan             0         0\n",
        "TBE                 0          0        nan        nan             0         0\n",
        "TD            -0.0068      0.007     -0.933      0.351        -0.021     0.007\n",
        "TDAP        4.596e-05      0.006      0.008      0.993        -0.011     0.011\n",
        "TTOX           0.0263      0.012      2.182      0.029         0.003     0.050\n",
        "TYP           -0.0014      0.008     -0.166      0.868        -0.018     0.015\n",
        "UNK            0.0157      0.004      3.878      0.000         0.008     0.024\n",
        "VARCEL        -0.0024      0.001     -3.999      0.000        -0.004    -0.001\n",
        "VARZOS        -0.0025      0.006     -0.414      0.679        -0.014     0.009\n",
        "YF             0.0015      0.015      0.102      0.918        -0.027     0.030\n",
        "==============================================================================\n",
        "Omnibus:                   154995.621   Durbin-Watson:                   1.736\n",
        "Prob(Omnibus):                  0.000   Jarque-Bera (JB):         44385781.764\n",
        "Skew:                          10.067   Prob(JB):                         0.00\n",
        "Kurtosis:                     103.645   Cond. No.                     1.13e+16\n",
        "==============================================================================\n",
        "\n",
        "Warnings:\n",
        "[1] Standard Errors assume that the covariance matrix of the errors is correctly specified.\n",
        "[2] The smallest eigenvalue is 6.6e-28. This might indicate that there are\n",
        "strong multicollinearity problems or that the design matrix is singular.\n"
       ]
      }
     ],
     "prompt_number": 77
    },
    {
     "cell_type": "code",
     "collapsed": false,
     "input": [
      "results.pvalues[results.pvalues < .001]"
     ],
     "language": "python",
     "metadata": {},
     "outputs": [
      {
       "metadata": {},
       "output_type": "pyout",
       "prompt_number": 82,
       "text": [
        "DPP         8.375095e-04\n",
        "DTAPIPV     6.750667e-08\n",
        "DTPHEP      2.083105e-13\n",
        "H5N1        1.960201e-04\n",
        "HBHEPB      3.708286e-05\n",
        "HBPV        3.417669e-06\n",
        "HEP         2.959186e-43\n",
        "HIBV        2.482956e-17\n",
        "IPV         1.065248e-21\n",
        "MMR        5.467257e-145\n",
        "MMRV        9.810311e-09\n",
        "OPV         7.585737e-08\n",
        "RV          4.913570e-06\n",
        "RVX         9.658713e-04\n",
        "UNK         1.053637e-04\n",
        "VARCEL      6.369611e-05\n",
        "dtype: float64"
       ]
      }
     ],
     "prompt_number": 82
    },
    {
     "cell_type": "code",
     "collapsed": false,
     "input": [
      "results.tvalues[results.tvalues > 5]"
     ],
     "language": "python",
     "metadata": {},
     "outputs": [
      {
       "metadata": {},
       "output_type": "pyout",
       "prompt_number": 86,
       "text": [
        "DTPHEP     7.344350\n",
        "HEP       13.795749\n",
        "HIBV       8.470154\n",
        "MMR       25.681815\n",
        "MMRV       5.734457\n",
        "dtype: float64"
       ]
      }
     ],
     "prompt_number": 86
    },
    {
     "cell_type": "code",
     "collapsed": false,
     "input": [
      "results.tvalues[results.tvalues < -5]"
     ],
     "language": "python",
     "metadata": {},
     "outputs": [
      {
       "metadata": {},
       "output_type": "pyout",
       "prompt_number": 84,
       "text": [
        "DTAPIPV   -5.398086\n",
        "IPV       -9.572562\n",
        "OPV       -5.377112\n",
        "dtype: float64"
       ]
      }
     ],
     "prompt_number": 84
    },
    {
     "cell_type": "code",
     "collapsed": false,
     "input": [
      "newX = pd.concat([dat[x] for x in results.tvalues[results.tvalues > 5].index], axis=1)\n",
      "model2 = sm.OLS(y, newX).fit()\n",
      "\n",
      "# Inspect the results\n",
      "print(model2.summary())"
     ],
     "language": "python",
     "metadata": {},
     "outputs": [
      {
       "output_type": "stream",
       "stream": "stdout",
       "text": [
        "                            OLS Regression Results                            \n",
        "==============================================================================\n",
        "Dep. Variable:                    AUT   R-squared:                    -924.513\n",
        "Model:                            OLS   Adj. R-squared:               -924.558\n",
        "Method:                 Least Squares   F-statistic:                -2.020e+04\n",
        "Date:                Mon, 12 May 2014   Prob (F-statistic):               1.00\n",
        "Time:                        13:35:17   Log-Likelihood:                 93828.\n",
        "No. Observations:              101118   AIC:                        -1.876e+05\n",
        "Df Residuals:                  101113   BIC:                        -1.876e+05\n",
        "Df Model:                           5                                         \n",
        "Covariance Type:            nonrobust                                         \n",
        "==============================================================================\n",
        "                 coef    std err          t      P>|t|      [95.0% Conf. Int.]\n",
        "------------------------------------------------------------------------------\n",
        "DTPHEP         0.2773      0.036      7.669      0.000         0.206     0.348\n",
        "HEP            0.0179      0.001     13.254      0.000         0.015     0.020\n",
        "HIBV           0.0069      0.001      8.466      0.000         0.005     0.009\n",
        "MMR            0.0113      0.000     23.680      0.000         0.010     0.012\n",
        "MMRV           0.0049      0.002      2.999      0.003         0.002     0.008\n",
        "==============================================================================\n",
        "Omnibus:                   155630.432   Durbin-Watson:                   1.732\n",
        "Prob(Omnibus):                  0.000   Jarque-Bera (JB):         45279384.885\n",
        "Skew:                          10.145   Prob(JB):                         0.00\n",
        "Kurtosis:                     104.662   Cond. No.                         82.9\n",
        "==============================================================================\n",
        "\n",
        "Warnings:\n",
        "[1] Standard Errors assume that the covariance matrix of the errors is correctly specified.\n"
       ]
      }
     ],
     "prompt_number": 88
    },
    {
     "cell_type": "code",
     "collapsed": false,
     "input": [
      "model2.pvalues"
     ],
     "language": "python",
     "metadata": {},
     "outputs": [
      {
       "metadata": {},
       "output_type": "pyout",
       "prompt_number": 89,
       "text": [
        "DTPHEP     1.749738e-14\n",
        "HEP        4.647514e-40\n",
        "HIBV       2.571249e-17\n",
        "MMR       1.248385e-123\n",
        "MMRV       2.706984e-03\n",
        "dtype: float64"
       ]
      }
     ],
     "prompt_number": 89
    },
    {
     "cell_type": "code",
     "collapsed": false,
     "input": [
      "X"
     ],
     "language": "python",
     "metadata": {},
     "outputs": [
      {
       "html": [
        "<div style=\"max-height:1000px;max-width:1500px;overflow:auto;\">\n",
        "<table border=\"1\" class=\"dataframe\">\n",
        "  <thead>\n",
        "    <tr style=\"text-align: right;\">\n",
        "      <th></th>\n",
        "      <th>MMR</th>\n",
        "      <th>DTAP</th>\n",
        "    </tr>\n",
        "    <tr>\n",
        "      <th>VAERS_ID</th>\n",
        "      <th></th>\n",
        "      <th></th>\n",
        "    </tr>\n",
        "  </thead>\n",
        "  <tbody>\n",
        "    <tr>\n",
        "      <th>25009</th>\n",
        "      <td>  True</td>\n",
        "      <td> False</td>\n",
        "    </tr>\n",
        "    <tr>\n",
        "      <th>25020</th>\n",
        "      <td>  True</td>\n",
        "      <td> False</td>\n",
        "    </tr>\n",
        "    <tr>\n",
        "      <th>25026</th>\n",
        "      <td> False</td>\n",
        "      <td> False</td>\n",
        "    </tr>\n",
        "    <tr>\n",
        "      <th>25027</th>\n",
        "      <td>  True</td>\n",
        "      <td> False</td>\n",
        "    </tr>\n",
        "    <tr>\n",
        "      <th>25028</th>\n",
        "      <td> False</td>\n",
        "      <td> False</td>\n",
        "    </tr>\n",
        "    <tr>\n",
        "      <th>25033</th>\n",
        "      <td> False</td>\n",
        "      <td> False</td>\n",
        "    </tr>\n",
        "    <tr>\n",
        "      <th>25036</th>\n",
        "      <td> False</td>\n",
        "      <td> False</td>\n",
        "    </tr>\n",
        "    <tr>\n",
        "      <th>25042</th>\n",
        "      <td> False</td>\n",
        "      <td> False</td>\n",
        "    </tr>\n",
        "    <tr>\n",
        "      <th>25044</th>\n",
        "      <td>  True</td>\n",
        "      <td> False</td>\n",
        "    </tr>\n",
        "    <tr>\n",
        "      <th>25048</th>\n",
        "      <td> False</td>\n",
        "      <td> False</td>\n",
        "    </tr>\n",
        "    <tr>\n",
        "      <th>25050</th>\n",
        "      <td> False</td>\n",
        "      <td> False</td>\n",
        "    </tr>\n",
        "    <tr>\n",
        "      <th>25051</th>\n",
        "      <td> False</td>\n",
        "      <td> False</td>\n",
        "    </tr>\n",
        "    <tr>\n",
        "      <th>25062</th>\n",
        "      <td> False</td>\n",
        "      <td> False</td>\n",
        "    </tr>\n",
        "    <tr>\n",
        "      <th>25077</th>\n",
        "      <td> False</td>\n",
        "      <td> False</td>\n",
        "    </tr>\n",
        "    <tr>\n",
        "      <th>25091</th>\n",
        "      <td> False</td>\n",
        "      <td> False</td>\n",
        "    </tr>\n",
        "    <tr>\n",
        "      <th>25102</th>\n",
        "      <td> False</td>\n",
        "      <td> False</td>\n",
        "    </tr>\n",
        "    <tr>\n",
        "      <th>25105</th>\n",
        "      <td> False</td>\n",
        "      <td> False</td>\n",
        "    </tr>\n",
        "    <tr>\n",
        "      <th>25135</th>\n",
        "      <td> False</td>\n",
        "      <td> False</td>\n",
        "    </tr>\n",
        "    <tr>\n",
        "      <th>25136</th>\n",
        "      <td>  True</td>\n",
        "      <td> False</td>\n",
        "    </tr>\n",
        "    <tr>\n",
        "      <th>25137</th>\n",
        "      <td>  True</td>\n",
        "      <td> False</td>\n",
        "    </tr>\n",
        "    <tr>\n",
        "      <th>25149</th>\n",
        "      <td> False</td>\n",
        "      <td> False</td>\n",
        "    </tr>\n",
        "    <tr>\n",
        "      <th>25151</th>\n",
        "      <td> False</td>\n",
        "      <td> False</td>\n",
        "    </tr>\n",
        "    <tr>\n",
        "      <th>25153</th>\n",
        "      <td> False</td>\n",
        "      <td> False</td>\n",
        "    </tr>\n",
        "    <tr>\n",
        "      <th>25155</th>\n",
        "      <td> False</td>\n",
        "      <td> False</td>\n",
        "    </tr>\n",
        "    <tr>\n",
        "      <th>25156</th>\n",
        "      <td> False</td>\n",
        "      <td> False</td>\n",
        "    </tr>\n",
        "    <tr>\n",
        "      <th>25162</th>\n",
        "      <td> False</td>\n",
        "      <td> False</td>\n",
        "    </tr>\n",
        "    <tr>\n",
        "      <th>25242</th>\n",
        "      <td> False</td>\n",
        "      <td> False</td>\n",
        "    </tr>\n",
        "    <tr>\n",
        "      <th>25245</th>\n",
        "      <td> False</td>\n",
        "      <td> False</td>\n",
        "    </tr>\n",
        "    <tr>\n",
        "      <th>25431</th>\n",
        "      <td>  True</td>\n",
        "      <td> False</td>\n",
        "    </tr>\n",
        "    <tr>\n",
        "      <th>25284</th>\n",
        "      <td> False</td>\n",
        "      <td> False</td>\n",
        "    </tr>\n",
        "    <tr>\n",
        "      <th>25285</th>\n",
        "      <td> False</td>\n",
        "      <td> False</td>\n",
        "    </tr>\n",
        "    <tr>\n",
        "      <th>25286</th>\n",
        "      <td>  True</td>\n",
        "      <td> False</td>\n",
        "    </tr>\n",
        "    <tr>\n",
        "      <th>25287</th>\n",
        "      <td>  True</td>\n",
        "      <td> False</td>\n",
        "    </tr>\n",
        "    <tr>\n",
        "      <th>25290</th>\n",
        "      <td> False</td>\n",
        "      <td> False</td>\n",
        "    </tr>\n",
        "    <tr>\n",
        "      <th>25484</th>\n",
        "      <td>  True</td>\n",
        "      <td> False</td>\n",
        "    </tr>\n",
        "    <tr>\n",
        "      <th>25485</th>\n",
        "      <td>  True</td>\n",
        "      <td> False</td>\n",
        "    </tr>\n",
        "    <tr>\n",
        "      <th>25487</th>\n",
        "      <td>  True</td>\n",
        "      <td> False</td>\n",
        "    </tr>\n",
        "    <tr>\n",
        "      <th>25493</th>\n",
        "      <td> False</td>\n",
        "      <td> False</td>\n",
        "    </tr>\n",
        "    <tr>\n",
        "      <th>25496</th>\n",
        "      <td>  True</td>\n",
        "      <td> False</td>\n",
        "    </tr>\n",
        "    <tr>\n",
        "      <th>25500</th>\n",
        "      <td> False</td>\n",
        "      <td> False</td>\n",
        "    </tr>\n",
        "    <tr>\n",
        "      <th>25501</th>\n",
        "      <td> False</td>\n",
        "      <td> False</td>\n",
        "    </tr>\n",
        "    <tr>\n",
        "      <th>25502</th>\n",
        "      <td> False</td>\n",
        "      <td> False</td>\n",
        "    </tr>\n",
        "    <tr>\n",
        "      <th>25503</th>\n",
        "      <td> False</td>\n",
        "      <td> False</td>\n",
        "    </tr>\n",
        "    <tr>\n",
        "      <th>25504</th>\n",
        "      <td>  True</td>\n",
        "      <td> False</td>\n",
        "    </tr>\n",
        "    <tr>\n",
        "      <th>25527</th>\n",
        "      <td> False</td>\n",
        "      <td> False</td>\n",
        "    </tr>\n",
        "    <tr>\n",
        "      <th>25534</th>\n",
        "      <td> False</td>\n",
        "      <td> False</td>\n",
        "    </tr>\n",
        "    <tr>\n",
        "      <th>25230</th>\n",
        "      <td>  True</td>\n",
        "      <td> False</td>\n",
        "    </tr>\n",
        "    <tr>\n",
        "      <th>25232</th>\n",
        "      <td> False</td>\n",
        "      <td> False</td>\n",
        "    </tr>\n",
        "    <tr>\n",
        "      <th>25557</th>\n",
        "      <td>  True</td>\n",
        "      <td> False</td>\n",
        "    </tr>\n",
        "    <tr>\n",
        "      <th>25561</th>\n",
        "      <td>  True</td>\n",
        "      <td> False</td>\n",
        "    </tr>\n",
        "    <tr>\n",
        "      <th>25562</th>\n",
        "      <td> False</td>\n",
        "      <td> False</td>\n",
        "    </tr>\n",
        "    <tr>\n",
        "      <th>25580</th>\n",
        "      <td> False</td>\n",
        "      <td> False</td>\n",
        "    </tr>\n",
        "    <tr>\n",
        "      <th>25612</th>\n",
        "      <td> False</td>\n",
        "      <td> False</td>\n",
        "    </tr>\n",
        "    <tr>\n",
        "      <th>25617</th>\n",
        "      <td>  True</td>\n",
        "      <td> False</td>\n",
        "    </tr>\n",
        "    <tr>\n",
        "      <th>25625</th>\n",
        "      <td> False</td>\n",
        "      <td> False</td>\n",
        "    </tr>\n",
        "    <tr>\n",
        "      <th>25626</th>\n",
        "      <td> False</td>\n",
        "      <td> False</td>\n",
        "    </tr>\n",
        "    <tr>\n",
        "      <th>25631</th>\n",
        "      <td> False</td>\n",
        "      <td> False</td>\n",
        "    </tr>\n",
        "    <tr>\n",
        "      <th>25639</th>\n",
        "      <td> False</td>\n",
        "      <td> False</td>\n",
        "    </tr>\n",
        "    <tr>\n",
        "      <th>25643</th>\n",
        "      <td> False</td>\n",
        "      <td> False</td>\n",
        "    </tr>\n",
        "    <tr>\n",
        "      <th>25644</th>\n",
        "      <td> False</td>\n",
        "      <td> False</td>\n",
        "    </tr>\n",
        "    <tr>\n",
        "      <th></th>\n",
        "      <td>...</td>\n",
        "      <td>...</td>\n",
        "    </tr>\n",
        "  </tbody>\n",
        "</table>\n",
        "<p>101118 rows \u00d7 2 columns</p>\n",
        "</div>"
       ],
       "metadata": {},
       "output_type": "pyout",
       "prompt_number": 74,
       "text": [
        "            MMR   DTAP\n",
        "VAERS_ID              \n",
        "25009      True  False\n",
        "25020      True  False\n",
        "25026     False  False\n",
        "25027      True  False\n",
        "25028     False  False\n",
        "25033     False  False\n",
        "25036     False  False\n",
        "25042     False  False\n",
        "25044      True  False\n",
        "25048     False  False\n",
        "25050     False  False\n",
        "25051     False  False\n",
        "25062     False  False\n",
        "25077     False  False\n",
        "25091     False  False\n",
        "25102     False  False\n",
        "25105     False  False\n",
        "25135     False  False\n",
        "25136      True  False\n",
        "25137      True  False\n",
        "25149     False  False\n",
        "25151     False  False\n",
        "25153     False  False\n",
        "25155     False  False\n",
        "25156     False  False\n",
        "25162     False  False\n",
        "25242     False  False\n",
        "25245     False  False\n",
        "25431      True  False\n",
        "25284     False  False\n",
        "25285     False  False\n",
        "25286      True  False\n",
        "25287      True  False\n",
        "25290     False  False\n",
        "25484      True  False\n",
        "25485      True  False\n",
        "25487      True  False\n",
        "25493     False  False\n",
        "25496      True  False\n",
        "25500     False  False\n",
        "25501     False  False\n",
        "25502     False  False\n",
        "25503     False  False\n",
        "25504      True  False\n",
        "25527     False  False\n",
        "25534     False  False\n",
        "25230      True  False\n",
        "25232     False  False\n",
        "25557      True  False\n",
        "25561      True  False\n",
        "25562     False  False\n",
        "25580     False  False\n",
        "25612     False  False\n",
        "25617      True  False\n",
        "25625     False  False\n",
        "25626     False  False\n",
        "25631     False  False\n",
        "25639     False  False\n",
        "25643     False  False\n",
        "25644     False  False\n",
        "            ...    ...\n",
        "\n",
        "[101118 rows x 2 columns]"
       ]
      }
     ],
     "prompt_number": 74
    },
    {
     "cell_type": "code",
     "collapsed": false,
     "input": [],
     "language": "python",
     "metadata": {},
     "outputs": []
    }
   ],
   "metadata": {}
  }
 ]
}